{
 "cells": [
  {
   "cell_type": "markdown",
   "metadata": {},
   "source": [
    "### Imputing Missing Data\n",
    "**Description**: Impute missing data using various strategies like mean, median, or mode."
   ]
  },
  {
   "cell_type": "code",
   "execution_count": 4,
   "metadata": {},
   "outputs": [
    {
     "name": "stdout",
     "output_type": "stream",
     "text": [
      "Original DataFrame:\n",
      "     Age   Salary Department\n",
      "0  25.0  50000.0         HR\n",
      "1  27.0  54000.0    Finance\n",
      "2   NaN  58000.0         HR\n",
      "3  29.0      NaN        NaN\n",
      "4  30.0  62000.0         IT\n",
      "\n",
      "DataFrame after Imputation:\n",
      "     Age   Salary Department\n",
      "0  25.0  50000.0         HR\n",
      "1  27.0  54000.0    Finance\n",
      "2  28.0  58000.0         HR\n",
      "3  29.0  56000.0         HR\n",
      "4  30.0  62000.0         IT\n"
     ]
    }
   ],
   "source": [
    "# Import libraries\n",
    "import pandas as pd\n",
    "import numpy as np\n",
    "from sklearn.impute import SimpleImputer\n",
    "\n",
    "# Sample dataset with missing values\n",
    "data = {\n",
    "    'Age': [25, 27, np.nan, 29, 30],\n",
    "    'Salary': [50000, 54000, 58000, np.nan, 62000],\n",
    "    'Department': ['HR', 'Finance', 'HR', np.nan, 'IT']\n",
    "}\n",
    "\n",
    "# Create DataFrame\n",
    "df = pd.DataFrame(data)\n",
    "print(\"Original DataFrame:\\n\", df)\n",
    "\n",
    "# --- Step 1: Mean Imputation for 'Salary' ---\n",
    "mean_imputer = SimpleImputer(strategy='mean')\n",
    "df['Salary'] = mean_imputer.fit_transform(df[['Salary']])\n",
    "\n",
    "# --- Step 2: Median Imputation for 'Age' ---\n",
    "median_imputer = SimpleImputer(strategy='median')\n",
    "df['Age'] = median_imputer.fit_transform(df[['Age']])\n",
    "\n",
    "# --- Step 3: Mode Imputation for 'Department' ---\n",
    "mode_imputer = SimpleImputer(strategy='most_frequent')\n",
    "df['Department'] = mode_imputer.fit_transform(df[['Department']]).ravel()\n",
    "\n",
    "# Final output\n",
    "print(\"\\nDataFrame after Imputation:\\n\", df)\n"
   ]
  }
 ],
 "metadata": {
  "kernelspec": {
   "display_name": "Python 3",
   "language": "python",
   "name": "python3"
  },
  "language_info": {
   "codemirror_mode": {
    "name": "ipython",
    "version": 3
   },
   "file_extension": ".py",
   "mimetype": "text/x-python",
   "name": "python",
   "nbconvert_exporter": "python",
   "pygments_lexer": "ipython3",
   "version": "3.10.12"
  }
 },
 "nbformat": 4,
 "nbformat_minor": 2
}
