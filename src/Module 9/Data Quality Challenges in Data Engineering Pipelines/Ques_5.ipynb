{
 "cells": [
  {
   "cell_type": "markdown",
   "metadata": {},
   "source": [
    "### Implementing Data Validation using Protobuf in a Distributed System\n",
    "**Description**: Use gRPC to implement a distributed system that validates messages using\n",
    "Protobuf.\n",
    "\n",
    "**Steps**:\n",
    "1. Create a .proto file for gRPC service.\n",
    "2. Implement server-side validation\n",
    "    - Create a gRPC server\n",
    "    - Bind the server to an address\n",
    "    - Start server"
   ]
  },
  {
   "cell_type": "code",
   "execution_count": 3,
   "metadata": {},
   "outputs": [],
   "source": [
    "from google.protobuf import descriptor_pool, message_factory\n",
    "from google.protobuf import descriptor_pb2\n",
    "import pandas as pd\n",
    "\n",
    "# Step 1: Dynamically define Protobuf schema\n",
    "file_desc_proto = descriptor_pb2.FileDescriptorProto()\n",
    "file_desc_proto.name = 'customer.proto'\n",
    "file_desc_proto.package = 'customer'\n",
    "\n",
    "msg = file_desc_proto.message_type.add()\n",
    "msg.name = 'Customer'\n",
    "\n",
    "fields = [\n",
    "    ('customer_id', 1, descriptor_pb2.FieldDescriptorProto.TYPE_INT32),\n",
    "    ('name', 2, descriptor_pb2.FieldDescriptorProto.TYPE_STRING),\n",
    "    ('email', 3, descriptor_pb2.FieldDescriptorProto.TYPE_STRING),\n",
    "    ('balance', 4, descriptor_pb2.FieldDescriptorProto.TYPE_FLOAT),\n",
    "    ('is_active', 5, descriptor_pb2.FieldDescriptorProto.TYPE_BOOL),\n",
    "]\n",
    "\n",
    "for name, num, ftype in fields:\n",
    "    field = msg.field.add()\n",
    "    field.name\n"
   ]
  }
 ],
 "metadata": {
  "kernelspec": {
   "display_name": "Python 3",
   "language": "python",
   "name": "python3"
  },
  "language_info": {
   "codemirror_mode": {
    "name": "ipython",
    "version": 3
   },
   "file_extension": ".py",
   "mimetype": "text/x-python",
   "name": "python",
   "nbconvert_exporter": "python",
   "pygments_lexer": "ipython3",
   "version": "3.10.12"
  }
 },
 "nbformat": 4,
 "nbformat_minor": 2
}
