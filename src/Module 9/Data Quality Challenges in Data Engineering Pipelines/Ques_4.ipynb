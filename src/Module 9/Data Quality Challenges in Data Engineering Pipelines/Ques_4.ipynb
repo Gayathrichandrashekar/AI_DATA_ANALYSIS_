{
 "cells": [
  {
   "cell_type": "markdown",
   "metadata": {},
   "source": [
    "### Complex Schema Validation with Avro\n",
    "**Description**: Implement a solution in Python to validate records against a complex nested Avro schema.\n",
    "\n",
    "Eg., Complex schema ( nested_schema.avsc ):\n",
    "\n",
    "**Steps**:\n",
    "1. Load schema\n",
    "2. Example data to validate\n",
    "3. Validate against schema\n",
    "4. Read back to check"
   ]
  },
  {
   "cell_type": "code",
   "execution_count": 2,
   "metadata": {},
   "outputs": [
    {
     "ename": "ModuleNotFoundError",
     "evalue": "No module named 'avro'",
     "output_type": "error",
     "traceback": [
      "\u001b[0;31m---------------------------------------------------------------------------\u001b[0m",
      "\u001b[0;31mModuleNotFoundError\u001b[0m                       Traceback (most recent call last)",
      "Cell \u001b[0;32mIn[2], line 4\u001b[0m\n\u001b[1;32m      1\u001b[0m \u001b[38;5;66;03m# Ques_4.ipynb – Complex Schema Validation with Avro (Fixed Version)\u001b[39;00m\n\u001b[1;32m      3\u001b[0m \u001b[38;5;28;01mimport\u001b[39;00m\u001b[38;5;250m \u001b[39m\u001b[38;5;21;01mjson\u001b[39;00m\n\u001b[0;32m----> 4\u001b[0m \u001b[38;5;28;01mimport\u001b[39;00m\u001b[38;5;250m \u001b[39m\u001b[38;5;21;01mavro\u001b[39;00m\u001b[38;5;21;01m.\u001b[39;00m\u001b[38;5;21;01mschema\u001b[39;00m\n\u001b[1;32m      5\u001b[0m \u001b[38;5;28;01mimport\u001b[39;00m\u001b[38;5;250m \u001b[39m\u001b[38;5;21;01mio\u001b[39;00m\n\u001b[1;32m      6\u001b[0m \u001b[38;5;28;01mfrom\u001b[39;00m\u001b[38;5;250m \u001b[39m\u001b[38;5;21;01mavro\u001b[39;00m\u001b[38;5;21;01m.\u001b[39;00m\u001b[38;5;21;01mio\u001b[39;00m\u001b[38;5;250m \u001b[39m\u001b[38;5;28;01mimport\u001b[39;00m DatumWriter, BinaryEncoder\n",
      "\u001b[0;31mModuleNotFoundError\u001b[0m: No module named 'avro'"
     ]
    }
   ],
   "source": [
    "# Ques_4.ipynb – Complex Schema Validation with Avro (Fixed Version)\n",
    "\n",
    "import json\n",
    "import avro.schema\n",
    "import io\n",
    "from avro.io import DatumWriter, BinaryEncoder\n",
    "import pandas as pd\n",
    "\n",
    "# 1. Define Avro schema\n",
    "schema_json = {\n",
    "    \"namespace\": \"example.avro\",\n",
    "    \"type\": \"record\",\n",
    "    \"name\": \"Customer\",\n",
    "    \"fields\": [\n",
    "        {\"name\": \"customer_id\", \"type\": \"int\"},\n",
    "        {\"name\": \"name\", \"type\": \"string\"},\n",
    "        {\"name\": \"email\", \"type\": \"string\"},\n",
    "        {\"name\": \"is_active\", \"type\": \"boolean\"},\n",
    "        {\"name\": \"balance\", \"type\": \"double\"},\n",
    "        {\"name\": \"joined_date\", \"type\": \"string\"}\n",
    "    ]\n",
    "}\n",
    "\n",
    "schema = avro.schema.parse(json.dumps(schema_json))\n",
    "\n",
    "# 2. Sample records\n",
    "records = [\n",
    "    {\"customer_id\": 1, \"name\": \"Alice\", \"email\": \"alice@example.com\", \"is_active\": True, \"balance\": 100.0, \"joined_date\": \"2023-01-01\"},\n",
    "    {\"customer_id\": 2, \"name\": \"Bob\", \"email\": \"bob@example.com\", \"is_active\": False, \"balance\": 150.5, \"joined_date\": \"2023-02-10\"},\n",
    "    # Invalid: missing email\n",
    "    {\"customer_id\": 3, \"name\": \"Charlie\", \"is_active\": True, \"balance\": 50.0, \"joined_date\": \"2023-03-01\"},\n",
    "    # Invalid: string instead of double\n",
    "    {\"customer_id\": 4, \"name\": \"Dana\", \"email\": \"dana@example.com\", \"is_active\": True, \"balance\": \"NaN\", \"joined_date\": \"2023-04-01\"},\n",
    "]\n",
    "\n",
    "# 3. Validate each record\n",
    "valid_records = []\n",
    "invalid_records = []\n",
    "\n",
    "for record in records:\n",
    "    try:\n",
    "        bytes_writer = io.BytesIO()\n",
    "        encoder = BinaryEncoder(bytes_writer)\n",
    "        writer = DatumWriter(schema)\n",
    "        writer.write(record, encoder)\n",
    "        valid_records.append(record)\n",
    "    except Exception as e:\n",
    "        invalid_records.append((record, str(e)))\n",
    "\n",
    "# 4. Results\n",
    "print(\"✅ Valid Records:\")\n",
    "for r in valid_records:\n",
    "    print(r)\n",
    "\n",
    "print(\"\\n❌ Invalid Records:\")\n",
    "for r, e in invalid_records:\n",
    "    print(f\"Record: {r}\\nError: {e}\\n\")\n",
    "\n",
    "# 5. Convert to DataFrame\n",
    "df = pd.DataFrame(valid_records)\n",
    "print(\"\\n📘 Final DataFrame (valid records only):\")\n",
    "print(df)\n"
   ]
  }
 ],
 "metadata": {
  "kernelspec": {
   "display_name": "Python 3",
   "language": "python",
   "name": "python3"
  },
  "language_info": {
   "codemirror_mode": {
    "name": "ipython",
    "version": 3
   },
   "file_extension": ".py",
   "mimetype": "text/x-python",
   "name": "python",
   "nbconvert_exporter": "python",
   "pygments_lexer": "ipython3",
   "version": "3.10.12"
  }
 },
 "nbformat": 4,
 "nbformat_minor": 2
}
