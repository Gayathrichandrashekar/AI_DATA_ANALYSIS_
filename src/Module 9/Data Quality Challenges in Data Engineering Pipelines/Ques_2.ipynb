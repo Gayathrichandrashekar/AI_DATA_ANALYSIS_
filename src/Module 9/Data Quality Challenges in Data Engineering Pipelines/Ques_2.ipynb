{
 "cells": [
  {
   "cell_type": "markdown",
   "metadata": {},
   "source": [
    "### Task 1: Handling Schema Mismatches using Spark\n",
    "**Description**: Use Apache Spark to address schema mismatches by transforming data to match\n",
    "the expected schema.\n",
    "\n",
    "**Steps**:\n",
    "1. Create Spark session\n",
    "2. Load dataframe\n",
    "3. Define the expected schema\n",
    "4. Handle schema mismatches\n",
    "5. Show corrected data"
   ]
  },
  {
   "cell_type": "code",
   "execution_count": 1,
   "metadata": {},
   "outputs": [
    {
     "name": "stdout",
     "output_type": "stream",
     "text": [
      "Original DataFrame:\n",
      "     Age   Salary Department\n",
      "0  25.0  50000.0         HR\n",
      "1  27.0  54000.0    Finance\n",
      "2   NaN  58000.0         HR\n",
      "3  29.0      NaN        NaN\n",
      "4  30.0  62000.0         IT\n",
      "\n",
      "DataFrame after Imputation:\n",
      "      Age   Salary Department\n",
      "0  25.00  50000.0         HR\n",
      "1  27.00  54000.0    Finance\n",
      "2  27.75  58000.0         HR\n",
      "3  29.00  56000.0         HR\n",
      "4  30.00  62000.0         IT\n"
     ]
    }
   ],
   "source": [
    "import pandas as pd\n",
    "import numpy as np\n",
    "from sklearn.impute import SimpleImputer\n",
    "\n",
    "# Sample data with missing values\n",
    "data = {\n",
    "    'Age': [25, 27, np.nan, 29, 30],\n",
    "    'Salary': [50000, 54000, 58000, np.nan, 62000],\n",
    "    'Department': ['HR', 'Finance', 'HR', np.nan, 'IT']\n",
    "}\n",
    "\n",
    "# Create a DataFrame\n",
    "df = pd.DataFrame(data)\n",
    "\n",
    "# Show original DataFrame\n",
    "print(\"Original DataFrame:\\n\", df)\n",
    "\n",
    "# --- Mean Imputation (only for numerical columns) ---\n",
    "mean_imputer = SimpleImputer(strategy='mean')\n",
    "df['Age'] = mean_imputer.fit_transform(df[['Age']])\n",
    "df['Salary'] = mean_imputer.fit_transform(df[['Salary']])\n",
    "\n",
    "# --- Median Imputation ---\n",
    "median_imputer = SimpleImputer(strategy='median')\n",
    "df['Age'] = median_imputer.fit_transform(df[['Age']])  # Replacing mean with median if preferred\n",
    "\n",
    "# --- Mode Imputation (categorical or numerical) ---\n",
    "mode_imputer = SimpleImputer(strategy='most_frequent')\n",
    "df['Department'] = mode_imputer.fit_transform(df[['Department']]).ravel()\n",
    "\n",
    "# Show the DataFrame after imputation\n",
    "print(\"\\nDataFrame after Imputation:\\n\", df)\n"
   ]
  },
  {
   "cell_type": "markdown",
   "metadata": {},
   "source": [
    "### Task 2: Detect and Correct Incomplete Data in ETL\n",
    "**Description**: Use Python and Pandas to detect incomplete data in an ETL process and fill\n",
    "missing values with estimates.\n",
    "\n",
    "**Steps**:\n",
    "1. Detect incomplete data\n",
    "2. Fill missing values\n",
    "3. Report changes"
   ]
  },
  {
   "cell_type": "code",
   "execution_count": 2,
   "metadata": {},
   "outputs": [],
   "source": [
    "# Write your code from here"
   ]
  }
 ],
 "metadata": {
  "kernelspec": {
   "display_name": "Python 3",
   "language": "python",
   "name": "python3"
  },
  "language_info": {
   "codemirror_mode": {
    "name": "ipython",
    "version": 3
   },
   "file_extension": ".py",
   "mimetype": "text/x-python",
   "name": "python",
   "nbconvert_exporter": "python",
   "pygments_lexer": "ipython3",
   "version": "3.10.12"
  }
 },
 "nbformat": 4,
 "nbformat_minor": 2
}
