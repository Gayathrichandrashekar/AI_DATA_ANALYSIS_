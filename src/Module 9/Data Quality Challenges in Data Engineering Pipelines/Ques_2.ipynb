{
 "cells": [
  {
   "cell_type": "markdown",
   "metadata": {},
   "source": [
    "### Task 1: Handling Schema Mismatches using Spark\n",
    "**Description**: Use Apache Spark to address schema mismatches by transforming data to match\n",
    "the expected schema.\n",
    "\n",
    "**Steps**:\n",
    "1. Create Spark session\n",
    "2. Load dataframe\n",
    "3. Define the expected schema\n",
    "4. Handle schema mismatches\n",
    "5. Show corrected data"
   ]
  },
  {
   "cell_type": "code",
   "execution_count": 5,
   "metadata": {},
   "outputs": [
    {
     "name": "stdout",
     "output_type": "stream",
     "text": [
      "Original DataFrame:\n",
      "    Age   Salary Department\n",
      "0  25.0  50000.0         HR\n",
      "1  27.0  54000.0    Finance\n",
      "2   NaN  58000.0         HR\n",
      "3  29.0      NaN        NaN\n",
      "4  30.0  62000.0         IT\n",
      "\n",
      "DataFrame after Imputation:\n",
      "    Age   Salary Department\n",
      "0  25.0  50000.0         HR\n",
      "1  27.0  54000.0    Finance\n",
      "2  28.0  58000.0         HR\n",
      "3  29.0  56000.0         HR\n",
      "4  30.0  62000.0         IT\n"
     ]
    }
   ],
   "source": [
    "import pandas as pd\n",
    "import numpy as np\n",
    "from sklearn.impute import SimpleImputer\n",
    "\n",
    "# Function to impute missing values\n",
    "def impute_missing_values(df):\n",
    "    # Check if required columns exist in the dataframe\n",
    "    required_columns = ['Age', 'Salary', 'Department']\n",
    "    for col in required_columns:\n",
    "        if col not in df.columns:\n",
    "            raise ValueError(f\"DataFrame must contain the column '{col}'.\")\n",
    "\n",
    "    # Check if 'Age' and 'Salary' columns contain numeric data\n",
    "    if not pd.api.types.is_numeric_dtype(df['Age']):\n",
    "        raise ValueError(\"'Age' column should contain numeric data.\")\n",
    "    if not pd.api.types.is_numeric_dtype(df['Salary']):\n",
    "        raise ValueError(\"'Salary' column should contain numeric data.\")\n",
    "    \n",
    "    # Impute missing values in 'Age' using the median strategy\n",
    "    median_imputer = SimpleImputer(strategy='median')\n",
    "    df['Age'] = median_imputer.fit_transform(df[['Age']])\n",
    "    \n",
    "    # Impute missing values in 'Salary' using the mean strategy\n",
    "    mean_imputer = SimpleImputer(strategy='mean')\n",
    "    df['Salary'] = mean_imputer.fit_transform(df[['Salary']])\n",
    "\n",
    "    # Impute missing values in 'Department' using the mode (most frequent) strategy\n",
    "    mode_imputer = SimpleImputer(strategy='most_frequent')\n",
    "    df['Department'] = mode_imputer.fit_transform(df[['Department']]).ravel()\n",
    "\n",
    "    return df\n",
    "\n",
    "# Sample dataset with missing values\n",
    "data = {\n",
    "    'Age': [25, 27, np.nan, 29, 30],\n",
    "    'Salary': [50000, 54000, 58000, np.nan, 62000],\n",
    "    'Department': ['HR', 'Finance', 'HR', np.nan, 'IT']\n",
    "}\n",
    "\n",
    "# Create a DataFrame\n",
    "df = pd.DataFrame(data)\n",
    "\n",
    "# Show original DataFrame\n",
    "print(\"Original DataFrame:\")\n",
    "print(df)\n",
    "\n",
    "# Call the function to impute missing values\n",
    "df = impute_missing_values(df)\n",
    "\n",
    "# Show the DataFrame after imputation\n",
    "print(\"\\nDataFrame after Imputation:\")\n",
    "print(df)\n"
   ]
  },
  {
   "cell_type": "markdown",
   "metadata": {},
   "source": [
    "### Task 2: Detect and Correct Incomplete Data in ETL\n",
    "**Description**: Use Python and Pandas to detect incomplete data in an ETL process and fill\n",
    "missing values with estimates.\n",
    "\n",
    "**Steps**:\n",
    "1. Detect incomplete data\n",
    "2. Fill missing values\n",
    "3. Report changes"
   ]
  },
  {
   "cell_type": "code",
   "execution_count": 6,
   "metadata": {},
   "outputs": [],
   "source": [
    "# Write your code from here"
   ]
  }
 ],
 "metadata": {
  "kernelspec": {
   "display_name": "Python 3",
   "language": "python",
   "name": "python3"
  },
  "language_info": {
   "codemirror_mode": {
    "name": "ipython",
    "version": 3
   },
   "file_extension": ".py",
   "mimetype": "text/x-python",
   "name": "python",
   "nbconvert_exporter": "python",
   "pygments_lexer": "ipython3",
   "version": "3.10.12"
  }
 },
 "nbformat": 4,
 "nbformat_minor": 2
}
