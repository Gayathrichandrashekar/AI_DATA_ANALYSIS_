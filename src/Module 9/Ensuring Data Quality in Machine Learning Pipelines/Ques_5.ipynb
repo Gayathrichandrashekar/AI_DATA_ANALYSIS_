{
 "cells": [
  {
   "cell_type": "markdown",
   "metadata": {},
   "source": [
    "### Ensuring Consistency Across Training & Inference Datasets: Feature Scaling\n",
    "**Question**: Load a dataset (e.g., Boston Housing) and perform feature scaling. Ensure the\n",
    "same scaling is applied during model inference with new data."
   ]
  },
  {
   "cell_type": "code",
   "execution_count": 4,
   "metadata": {},
   "outputs": [
    {
     "name": "stdout",
     "output_type": "stream",
     "text": [
      "Predicted Median House Value: 4.15\n"
     ]
    },
    {
     "data": {
      "text/plain": [
       "['california_scaler.pkl']"
      ]
     },
     "execution_count": 4,
     "metadata": {},
     "output_type": "execute_result"
    }
   ],
   "source": [
    "# --- Step 1: Import Required Libraries ---\n",
    "import pandas as pd\n",
    "from sklearn.datasets import fetch_california_housing\n",
    "from sklearn.model_selection import train_test_split\n",
    "from sklearn.preprocessing import StandardScaler\n",
    "from sklearn.linear_model import LinearRegression\n",
    "import numpy as np\n",
    "import joblib\n",
    "\n",
    "# --- Step 2: Load Dataset ---\n",
    "data = fetch_california_housing()\n",
    "X = pd.DataFrame(data.data, columns=data.feature_names)\n",
    "y = pd.Series(data.target, name=\"MedHouseValue\")\n",
    "\n",
    "# --- Step 3: Train-Test Split ---\n",
    "X_train, X_test, y_train, y_test = train_test_split(X, y, test_size=0.2, random_state=42)\n",
    "\n",
    "# --- Step 4: Feature Scaling ---\n",
    "scaler = StandardScaler()\n",
    "X_train_scaled = scaler.fit_transform(X_train)\n",
    "X_test_scaled = scaler.transform(X_test)\n",
    "\n",
    "# --- Step 5: Train Model ---\n",
    "model = LinearRegression()\n",
    "model.fit(X_train_scaled, y_train)\n",
    "\n",
    "# --- Step 6: Inference on New Data (simulate one row)\n",
    "new_data = X.iloc[[0]]  # select first row\n",
    "new_data_scaled = scaler.transform(new_data)\n",
    "predicted_value = model.predict(new_data_scaled)\n",
    "\n",
    "print(f\"Predicted Median House Value: {predicted_value[0]:.2f}\")\n",
    "\n",
    "# --- Step 7: Save Model & Scaler (optional) ---\n",
    "joblib.dump(model, 'california_model.pkl')\n",
    "joblib.dump(scaler, 'california_scaler.pkl')\n"
   ]
  }
 ],
 "metadata": {
  "kernelspec": {
   "display_name": "Python 3",
   "language": "python",
   "name": "python3"
  },
  "language_info": {
   "codemirror_mode": {
    "name": "ipython",
    "version": 3
   },
   "file_extension": ".py",
   "mimetype": "text/x-python",
   "name": "python",
   "nbconvert_exporter": "python",
   "pygments_lexer": "ipython3",
   "version": "3.10.12"
  }
 },
 "nbformat": 4,
 "nbformat_minor": 2
}
