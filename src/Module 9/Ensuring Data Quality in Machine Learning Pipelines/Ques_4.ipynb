{
 "cells": [
  {
   "cell_type": "markdown",
   "metadata": {},
   "source": [
    "### Detecting & Handling Imbalanced Data: Visualizing Class Imbalance\n",
    "**Question**: Load the Credit Card Fraud Detection dataset and visualize the class imbalance. Then apply random undersampling to balance it."
   ]
  },
  {
   "cell_type": "code",
   "execution_count": 5,
   "metadata": {},
   "outputs": [
    {
     "name": "stderr",
     "output_type": "stream",
     "text": [
      "test_load_data_invalid_file (__main__.TestImbalanceHandling) ... ok\n",
      "test_random_undersample_balances_classes (__main__.TestImbalanceHandling) ... ok\n",
      "test_visualize_class_imbalance (__main__.TestImbalanceHandling) ... "
     ]
    },
    {
     "name": "stdout",
     "output_type": "stream",
     "text": [
      "Error: File not found at creditcard.csv\n",
      "\n",
      "Running Unit Tests...\n",
      "\n",
      "Error: File not found at non_existent.csv\n"
     ]
    },
    {
     "data": {
      "image/png": "[encoded data removed]",
      "text/plain": [
       "<Figure size 600x400 with 1 Axes>"
      ]
     },
     "metadata": {},
     "output_type": "display_data"
    },
    {
     "name": "stderr",
     "output_type": "stream",
     "text": [
      "ok\n",
      "\n",
      "----------------------------------------------------------------------\n",
      "Ran 3 tests in 0.131s\n",
      "\n",
      "OK\n"
     ]
    }
   ],
   "source": [
    "import pandas as pd\n",
    "import matplotlib.pyplot as plt\n",
    "from sklearn.utils import resample\n",
    "import seaborn as sns\n",
    "import os\n",
    "import unittest\n",
    "\n",
    "# Step 1: Load Data\n",
    "def load_data(filepath):\n",
    "    \"\"\"\n",
    "    Loads the dataset from the given filepath.\n",
    "    Returns a DataFrame or raises FileNotFoundError.\n",
    "    \"\"\"\n",
    "    try:\n",
    "        df = pd.read_csv(filepath)\n",
    "        if df.empty:\n",
    "            raise ValueError(\"The dataset is empty.\")\n",
    "        return df\n",
    "    except FileNotFoundError:\n",
    "        print(f\"Error: File not found at {filepath}\")\n",
    "        return pd.DataFrame()\n",
    "    except Exception as e:\n",
    "        print(f\"Error loading dataset: {e}\")\n",
    "        return pd.DataFrame()\n",
    "\n",
    "\n",
    "# Step 2: Visualize Original Class Imbalance\n",
    "def visualize_class_imbalance(df, class_column='Class', title='Original Class Distribution'):\n",
    "    \"\"\"\n",
    "    Plots the class distribution.\n",
    "    \"\"\"\n",
    "    try:\n",
    "        plt.figure(figsize=(6,4))\n",
    "        sns.countplot(data=df, x=class_column)\n",
    "        plt.title(title)\n",
    "        plt.xlabel('Class')\n",
    "        plt.ylabel('Count')\n",
    "        plt.grid(True)\n",
    "        plt.show()\n",
    "    except Exception as e:\n",
    "        print(f\"Error visualizing class imbalance: {e}\")\n",
    "\n",
    "\n",
    "# Step 3: Apply Random Undersampling\n",
    "def random_undersample(df, class_column='Class'):\n",
    "    \"\"\"\n",
    "    Performs random undersampling to balance classes.\n",
    "    Returns a balanced DataFrame.\n",
    "    \"\"\"\n",
    "    try:\n",
    "        majority = df[df[class_column] == 0]\n",
    "        minority = df[df[class_column] == 1]\n",
    "\n",
    "        majority_downsampled = resample(majority,\n",
    "                                        replace=False,\n",
    "                                        n_samples=len(minority),\n",
    "                                        random_state=42)\n",
    "\n",
    "        balanced_df = pd.concat([majority_downsampled, minority])\n",
    "        return balanced_df\n",
    "    except Exception as e:\n",
    "        print(f\"Error during undersampling: {e}\")\n",
    "        return pd.DataFrame()\n",
    "\n",
    "\n",
    "# Step 4: Visualize Balanced Data\n",
    "def visualize_balanced_class_imbalance(df, class_column='Class', title='Balanced Class Distribution'):\n",
    "    \"\"\"\n",
    "    Visualizes the class distribution after balancing.\n",
    "    \"\"\"\n",
    "    visualize_class_imbalance(df, class_column=class_column, title=title)\n",
    "\n",
    "\n",
    "# Step 5: Run All Steps\n",
    "def main():\n",
    "    path = 'creditcard.csv'  # Adjust path if needed\n",
    "    df = load_data(path)\n",
    "\n",
    "    if df.empty:\n",
    "        return\n",
    "\n",
    "    print(\"Original Class Distribution:\")\n",
    "    visualize_class_imbalance(df)\n",
    "\n",
    "    balanced_df = random_undersample(df)\n",
    "\n",
    "    if not balanced_df.empty:\n",
    "        print(\"Balanced Class Distribution:\")\n",
    "        visualize_balanced_class_imbalance(balanced_df)\n",
    "\n",
    "\n",
    "# Step 6: Unit Tests\n",
    "class TestImbalanceHandling(unittest.TestCase):\n",
    "\n",
    "    def setUp(self):\n",
    "        self.sample_df = pd.DataFrame({\n",
    "            'Feature1': range(10),\n",
    "            'Class': [0, 0, 0, 0, 0, 1, 1, 1, 1, 1]\n",
    "        })\n",
    "\n",
    "    def test_random_undersample_balances_classes(self):\n",
    "        balanced = random_undersample(self.sample_df)\n",
    "        class_counts = balanced['Class'].value_counts().to_dict()\n",
    "        self.assertEqual(class_counts[0], class_counts[1])\n",
    "\n",
    "    def test_load_data_invalid_file(self):\n",
    "        df = load_data(\"non_existent.csv\")\n",
    "        self.assertTrue(df.empty)\n",
    "\n",
    "    def test_visualize_class_imbalance(self):\n",
    "        # This just checks no exception is raised (visual test)\n",
    "        try:\n",
    "            visualize_class_imbalance(self.sample_df)\n",
    "        except Exception:\n",
    "            self.fail(\"visualize_class_imbalance() raised Exception unexpectedly!\")\n",
    "\n",
    "if __name__ == \"__main__\":\n",
    "    main()\n",
    "\n",
    "    # Run tests\n",
    "    print(\"\\nRunning Unit Tests...\\n\")\n",
    "    unittest.main(argv=[''], verbosity=2, exit=False)\n"
   ]
  }
 ],
 "metadata": {
  "kernelspec": {
   "display_name": "Python 3",
   "language": "python",
   "name": "python3"
  },
  "language_info": {
   "codemirror_mode": {
    "name": "ipython",
    "version": 3
   },
   "file_extension": ".py",
   "mimetype": "text/x-python",
   "name": "python",
   "nbconvert_exporter": "python",
   "pygments_lexer": "ipython3",
   "version": "3.10.12"
  }
 },
 "nbformat": 4,
 "nbformat_minor": 2
}
