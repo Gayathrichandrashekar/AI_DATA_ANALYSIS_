{
 "cells": [
  {
   "cell_type": "markdown",
   "metadata": {},
   "source": [
    "### Bias & Fairness in Data: Bias Mitigation Techniques\n",
    "**Question**: Use the Adult Income dataset and apply reweighing technique to balance the\n",
    "class weights based on sensitive attributes (e.g., gender)."
   ]
  },
  {
   "cell_type": "code",
   "execution_count": 5,
   "metadata": {},
   "outputs": [
    {
     "name": "stdout",
     "output_type": "stream",
     "text": [
      "IOError: [Errno 2] No such file or directory: '/home/vscode/.local/lib/python3.10/site-packages/aif360/datasets/../data/raw/adult/adult.data'\n",
      "To use this class, please download the following files:\n",
      "\n",
      "\thttps://archive.ics.uci.edu/ml/machine-learning-databases/adult/adult.data\n",
      "\thttps://archive.ics.uci.edu/ml/machine-learning-databases/adult/adult.test\n",
      "\thttps://archive.ics.uci.edu/ml/machine-learning-databases/adult/adult.names\n",
      "\n",
      "and place them, as-is, in the folder:\n",
      "\n",
      "\t/home/vscode/.local/lib/python3.10/site-packages/aif360/data/raw/adult\n",
      "\n"
     ]
    },
    {
     "ename": "SystemExit",
     "evalue": "1",
     "output_type": "error",
     "traceback": [
      "An exception has occurred, use %tb to see the full traceback.\n",
      "\u001b[0;31mSystemExit\u001b[0m\u001b[0;31m:\u001b[0m 1\n"
     ]
    },
    {
     "name": "stderr",
     "output_type": "stream",
     "text": [
      "/home/vscode/.local/lib/python3.10/site-packages/IPython/core/interactiveshell.py:3587: UserWarning: To exit: use 'exit', 'quit', or Ctrl-D.\n",
      "  warn(\"To exit: use 'exit', 'quit', or Ctrl-D.\", stacklevel=1)\n"
     ]
    }
   ],
   "source": [
    "# write your code from here\n",
    "# Import libraries\n",
    "import pandas as pd\n",
    "from aif360.datasets import AdultDataset\n",
    "from aif360.algorithms.preprocessing import Reweighing\n",
    "from aif360.metrics import BinaryLabelDatasetMetric\n",
    "\n",
    "# Step 1: Load the Adult dataset\n",
    "dataset = AdultDataset(protected_attribute_names=['sex'],  # 'sex' = gender\n",
    "                       privileged_classes=[['Male']],\n",
    "                       features_to_drop=[])\n",
    "\n",
    "# Step 2: Split dataset into train and test (optional but common)\n",
    "dataset_train, dataset_test = dataset.split([0.7], shuffle=True)\n",
    "\n",
    "# Step 3: Compute fairness metrics before reweighing\n",
    "metric_orig_train = BinaryLabelDatasetMetric(dataset_train,\n",
    "                                             unprivileged_groups=[{'sex': 0}],\n",
    "                                             privileged_groups=[{'sex': 1}])\n",
    "print(\"### Before Reweighing ###\")\n",
    "print(\"Difference in mean outcomes between unprivileged and privileged groups:\",\n",
    "      metric_orig_train.mean_difference())\n",
    "\n",
    "# Step 4: Apply Reweighing Technique\n",
    "RW = Reweighing(unprivileged_groups=[{'sex': 0}],\n",
    "                privileged_groups=[{'sex': 1}])\n",
    "dataset_transf_train = RW.fit_transform(dataset_train)\n",
    "\n",
    "# Step 5: Verify new weights\n",
    "print(\"\\n### Sample Weights After Reweighing ###\")\n",
    "print(dataset_transf_train.instance_weights[:10])\n",
    "\n",
    "# Step 6: Fairness metrics after reweighing\n",
    "metric_transf_train = BinaryLabelDatasetMetric(dataset_transf_train,\n",
    "                                               unprivileged_groups=[{'sex': 0}],\n",
    "                                               privileged_groups=[{'sex': 1}])\n",
    "print(\"\\n### After Reweighing ###\")\n",
    "print(\"Difference in mean outcomes between unprivileged and privileged groups:\",\n",
    "      metric_transf_train.mean_difference())\n"
   ]
  },
  {
   "cell_type": "code",
   "execution_count": null,
   "metadata": {},
   "outputs": [
    {
     "name": "stdout",
     "output_type": "stream",
     "text": [
      "Mean difference before reweighing: -0.19627598779361352\n",
      "Mean difference after reweighing: 2.7755575615628914e-17\n"
     ]
    }
   ],
   "source": [
    "import pandas as pd\n",
    "import numpy as np\n",
    "from sklearn.preprocessing import LabelEncoder\n",
    "from aif360.datasets import BinaryLabelDataset\n",
    "from aif360.algorithms.preprocessing import Reweighing\n",
    "from aif360.metrics import BinaryLabelDatasetMetric\n",
    "\n",
    "# Step 1: Download the dataset from UCI\n",
    "url = 'https://archive.ics.uci.edu/ml/machine-learning-databases/adult/adult.data'\n",
    "column_names = ['age', 'workclass', 'fnlwgt', 'education', 'education-num', 'marital-status',\n",
    "                'occupation', 'relationship', 'race', 'sex', 'capital-gain', 'capital-loss',\n",
    "                'hours-per-week', 'native-country', 'income']\n",
    "\n",
    "df = pd.read_csv(url, names=column_names, sep=',\\s*', engine='python')\n",
    "\n",
    "# Step 2: Preprocess\n",
    "df = df.dropna()\n",
    "df = df[df['income'].isin(['<=50K', '>50K'])]  # remove unknowns\n",
    "\n",
    "# Encode categorical features\n",
    "categorical_cols = df.select_dtypes(include=['object']).columns\n",
    "for col in categorical_cols:\n",
    "    df[col] = LabelEncoder().fit_transform(df[col])\n",
    "\n",
    "# Step 3: Convert to AIF360 BinaryLabelDataset\n",
    "protected_attribute = 'sex'  # gender\n",
    "label_name = 'income'\n",
    "privileged_groups = [{'sex': 1}]   # 1 = Male after encoding\n",
    "unprivileged_groups = [{'sex': 0}] # 0 = Female\n",
    "\n",
    "dataset = BinaryLabelDataset(df=df,\n",
    "                             label_names=[label_name],\n",
    "                             protected_attribute_names=[protected_attribute])\n",
    "\n",
    "# Step 4: Apply Reweighing\n",
    "RW = Reweighing(unprivileged_groups=unprivileged_groups,\n",
    "                privileged_groups=privileged_groups)\n",
    "dataset_transf = RW.fit_transform(dataset)\n",
    "\n",
    "# Step 5: Fairness metrics\n",
    "metric_orig = BinaryLabelDatasetMetric(dataset, \n",
    "                                       unprivileged_groups=unprivileged_groups,\n",
    "                                       privileged_groups=privileged_groups)\n",
    "\n",
    "metric_transf = BinaryLabelDatasetMetric(dataset_transf, \n",
    "                                         unprivileged_groups=unprivileged_groups,\n",
    "                                         privileged_groups=privileged_groups)\n",
    "\n",
    "print(\"Mean difference before reweighing:\", metric_orig.mean_difference())\n",
    "print(\"Mean difference after reweighing:\", metric_transf.mean_difference())\n"
   ]
  }
 ],
 "metadata": {
  "kernelspec": {
   "display_name": "Python 3",
   "language": "python",
   "name": "python3"
  },
  "language_info": {
   "codemirror_mode": {
    "name": "ipython",
    "version": 3
   },
   "file_extension": ".py",
   "mimetype": "text/x-python",
   "name": "python",
   "nbconvert_exporter": "python",
   "pygments_lexer": "ipython3",
   "version": "3.10.12"
  }
 },
 "nbformat": 4,
 "nbformat_minor": 2
}
