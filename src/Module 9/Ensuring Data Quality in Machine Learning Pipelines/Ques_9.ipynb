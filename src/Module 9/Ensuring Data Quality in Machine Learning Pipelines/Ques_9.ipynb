{
 "cells": [
  {
   "cell_type": "markdown",
   "metadata": {},
   "source": [
    "### Ensuring Consistency Across Training & Inference Datasets: Pipeline Integration\n",
    "**Question**: Create and train a machine learning pipeline that ensures feature transformation consistency across training and inference datasets using scikit-learn."
   ]
  },
  {
   "cell_type": "code",
   "execution_count": null,
   "metadata": {},
   "outputs": [
    {
     "name": "stdout",
     "output_type": "stream",
     "text": [
      "Model R^2 score on test data: 0.5758\n",
      "Predictions on new data:\n",
      " [0.71912284 1.76401657 2.70965883 2.83892593 2.60465725]\n"
     ]
    }
   ],
   "source": [
    "import pandas as pd\n",
    "import numpy as np\n",
    "from sklearn.model_selection import train_test_split\n",
    "from sklearn.preprocessing import StandardScaler\n",
    "from sklearn.linear_model import LinearRegression\n",
    "from sklearn.pipeline import Pipeline\n",
    "from sklearn.metrics import mean_squared_error\n",
    "\n",
    "# Step 1: Load and validate dataset\n",
    "try:\n",
    "    df = pd.read_csv('your_dataset.csv')  # Replace with actual dataset\n",
    "    print(\"✅ Dataset loaded successfully.\")\n",
    "except FileNotFoundError:\n",
    "    raise FileNotFoundError(\"❌ Dataset not found. Please verify the file path.\")\n",
    "except Exception as e:\n",
    "    raise Exception(f\"❌ Error loading dataset: {e}\")\n",
    "\n",
    "# Step 2: Data integrity checks\n",
    "if df.isnull().sum().sum() > 0:\n",
    "    print(\"⚠️ Missing values detected. Applying mean imputation.\")\n",
    "    df.fillna(df.mean(numeric_only=True), inplace=True)\n",
    "\n",
    "# Check data types\n",
    "numeric_cols = df.select_dtypes(include=[np.number]).columns\n",
    "if len(numeric_cols) < len(df.columns):\n",
    "    raise TypeError(\"❌ Non-numeric columns found. Ensure all features are numerical.\")\n",
    "\n",
    "# Step 3: Prepare features and target\n",
    "try:\n",
    "    X = df.drop('target', axis=1)\n",
    "    y = df['target']\n",
    "except KeyError:\n",
    "    raise KeyError(\"❌ 'target' column not found in dataset.\")\n",
    "\n",
    "# Step 4: Split data\n",
    "X_train, X_test, y_train, y_test = train_test_split(X, y, test_size=0.2, random_state=42)\n",
    "\n",
    "# Step 5: Create pipeline with consistent transformations\n",
    "pipeline = Pipeline([\n",
    "    ('scaler', StandardScaler()),\n",
    "    ('model', LinearRegression())\n",
    "])\n",
    "\n",
    "# Step 6: Train pipeline\n",
    "try:\n",
    "    pipeline.fit(X_train, y_train)\n",
    "    print(\"✅ Pipeline trained successfully.\")\n",
    "except Exception as e:\n",
    "    raise Exception(f\"❌ Error during training: {e}\")\n",
    "\n",
    "# Step 7: Evaluate pipeline on test data\n",
    "try:\n",
    "    predictions = pipeline.predict(X_test)\n",
    "    mse = mean_squared_error(y_test, predictions)\n",
    "    print(f\"📊 Mean Squared Error on Test Set: {mse:.2f}\")\n",
    "except Exception as e:\n",
    "    raise Exception(f\"❌ Error during evaluation: {e}\")\n"
   ]
  }
 ],
 "metadata": {
  "kernelspec": {
   "display_name": "Python 3",
   "language": "python",
   "name": "python3"
  },
  "language_info": {
   "codemirror_mode": {
    "name": "ipython",
    "version": 3
   },
   "file_extension": ".py",
   "mimetype": "text/x-python",
   "name": "python",
   "nbconvert_exporter": "python",
   "pygments_lexer": "ipython3",
   "version": "3.10.12"
  }
 },
 "nbformat": 4,
 "nbformat_minor": 2
}
