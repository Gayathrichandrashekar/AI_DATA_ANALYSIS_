{
 "cells": [
  {
   "cell_type": "markdown",
   "metadata": {},
   "source": [
    "### Ensuring Consistency Across Training & Inference Datasets: Pipeline Integration\n",
    "**Question**: Create and train a machine learning pipeline that ensures feature transformation consistency across training and inference datasets using scikit-learn."
   ]
  },
  {
   "cell_type": "code",
   "execution_count": 1,
   "metadata": {},
   "outputs": [
    {
     "name": "stdout",
     "output_type": "stream",
     "text": [
      "Model R^2 score on test data: 0.5758\n",
      "Predictions on new data:\n",
      " [0.71912284 1.76401657 2.70965883 2.83892593 2.60465725]\n"
     ]
    }
   ],
   "source": [
    "# --- Step 1: Import Required Libraries ---\n",
    "import numpy as np\n",
    "import pandas as pd\n",
    "from sklearn.datasets import fetch_california_housing\n",
    "from sklearn.model_selection import train_test_split\n",
    "from sklearn.preprocessing import StandardScaler\n",
    "from sklearn.linear_model import LinearRegression\n",
    "from sklearn.pipeline import Pipeline\n",
    "\n",
    "# --- Step 2: Load and Prepare the Data ---\n",
    "# Fetching the California housing dataset\n",
    "data = fetch_california_housing()\n",
    "X = pd.DataFrame(data.data, columns=data.feature_names)\n",
    "y = pd.Series(data.target, name='target')\n",
    "\n",
    "# --- Step 3: Split the Data ---\n",
    "# Split the dataset into training and testing sets\n",
    "X_train, X_test, y_train, y_test = train_test_split(X, y, test_size=0.2, random_state=42)\n",
    "\n",
    "# --- Step 4: Create the Pipeline ---\n",
    "# Create a machine learning pipeline with feature scaling and a linear regression model\n",
    "pipeline = Pipeline([\n",
    "    ('scaler', StandardScaler()),  # Feature scaling step\n",
    "    ('regressor', LinearRegression())  # Model step\n",
    "])\n",
    "\n",
    "# --- Step 5: Train the Model ---\n",
    "# Fit the pipeline to the training data\n",
    "pipeline.fit(X_train, y_train)\n",
    "\n",
    "# --- Step 6: Evaluate the Model ---\n",
    "# Evaluate the model on the test set\n",
    "score = pipeline.score(X_test, y_test)\n",
    "print(f\"Model R^2 score on test data: {score:.4f}\")\n",
    "\n",
    "# --- Step 7: Ensure Consistency Across Training & Inference ---\n",
    "# Simulate inference on new data (for example, using the test set as new data)\n",
    "new_data = X_test.iloc[0:5]  # Take a subset of the test set as new data\n",
    "predictions = pipeline.predict(new_data)\n",
    "\n",
    "# Output predictions\n",
    "print(\"Predictions on new data:\\n\", predictions)\n"
   ]
  }
 ],
 "metadata": {
  "kernelspec": {
   "display_name": "Python 3",
   "language": "python",
   "name": "python3"
  },
  "language_info": {
   "codemirror_mode": {
    "name": "ipython",
    "version": 3
   },
   "file_extension": ".py",
   "mimetype": "text/x-python",
   "name": "python",
   "nbconvert_exporter": "python",
   "pygments_lexer": "ipython3",
   "version": "3.10.12"
  }
 },
 "nbformat": 4,
 "nbformat_minor": 2
}
