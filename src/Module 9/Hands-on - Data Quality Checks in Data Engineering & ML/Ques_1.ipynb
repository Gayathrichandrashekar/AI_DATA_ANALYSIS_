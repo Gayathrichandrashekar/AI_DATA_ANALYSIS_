{
 "cells": [
  {
   "cell_type": "markdown",
   "metadata": {},
   "source": [
    "### Detect Data Drift using Kolmogorov-Smirnov Test\n",
    "**Description**: Use statistical tests to detect data drift between two datasets."
   ]
  },
  {
   "cell_type": "code",
   "execution_count": null,
   "metadata": {},
   "outputs": [],
   "source": [
    "# write your code from here\n",
    "import numpy as np\n",
    "import pandas as pd\n",
    "import matplotlib.pyplot as plt\n",
    "from scipy.stats import ks_2samp\n",
    "\n",
    "# 1. Simulate or load two datasets (reference and new)\n",
    "np.random.seed(0)\n",
    "\n",
    "# Reference dataset: normal distribution with mean=100, std=15\n",
    "reference_data = np.random.normal(loc=100, scale=15, size=1000)\n",
    "\n",
    "# New dataset with potential drift: shifted mean and std deviation\n",
    "new_data = np.random.normal(loc=110, scale=20, size=1000)\n",
    "\n",
    "# 2. Visualize the distributions\n",
    "plt.figure(figsize=(10, 6))\n",
    "plt.hist(reference_data, bins=30, alpha=0.6, label='Reference Data', density=True)\n",
    "plt.hist(new_data, bins=30, alpha=0.6, label='New Data', density=True)\n",
    "plt.title('Distribution Comparison')\n",
    "plt.xlabel('Value')\n",
    "plt.ylabel('Density')\n",
    "plt.legend()\n",
    "plt.grid(True)\n",
    "plt.show()\n",
    "\n",
    "# 3. Perform Kolmogorov-Smirnov test\n",
    "ks_statistic, p_value = ks_2samp(reference_data, new_data)\n",
    "\n",
    "print(f\"Kolmogorov-Smirnov Test Statistic: {ks_statistic:.4f}\")\n",
    "print(f\"P-value: {p_value:.4f}\")\n",
    "\n",
    "# 4. Interpret results\n",
    "alpha = 0.05\n",
    "if p_value < alpha:\n",
    "    print(\"❌ Data drift detected: distributions are significantly different.\")\n",
    "else:\n",
    "    print(\"✅ No significant data drift detected: distributions are similar.\")\n"
   ]
  }
 ],
 "metadata": {
  "kernelspec": {
   "display_name": "base",
   "language": "python",
   "name": "python3"
  },
  "language_info": {
   "name": "python",
   "version": "3.12.7"
  }
 },
 "nbformat": 4,
 "nbformat_minor": 2
}
