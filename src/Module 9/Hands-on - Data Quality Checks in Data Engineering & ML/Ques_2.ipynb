{
 "cells": [
  {
   "cell_type": "markdown",
   "metadata": {},
   "source": [
    "### Implementing Adversarial Validation for Data Drift\n",
    "Description: Create and train a classifier that distinguishes between train and test datasets, using the classifier’s performance to infer data drift."
   ]
  },
  {
   "cell_type": "code",
   "execution_count": null,
   "metadata": {},
   "outputs": [],
   "source": [
    "# write your code from here\n",
    "import pandas as pd\n",
    "from sklearn.model_selection import train_test_split\n",
    "from sklearn.ensemble import RandomForestClassifier\n",
    "from sklearn.metrics import roc_auc_score, accuracy_score\n",
    "\n",
    "# Load your train and test datasets (example placeholders)\n",
    "# Replace with your actual dataset loading code\n",
    "train_df = pd.read_csv('path_to_train.csv')\n",
    "test_df = pd.read_csv('path_to_test.csv')\n",
    "\n",
    "# Add label: 0 for train, 1 for test\n",
    "train_df['is_test'] = 0\n",
    "test_df['is_test'] = 1\n",
    "\n",
    "# Combine datasets\n",
    "combined_df = pd.concat([train_df, test_df], axis=0).reset_index(drop=True)\n",
    "\n",
    "# Drop target variable if exists, so that classifier learns only distribution difference\n",
    "# Example: If train_df has 'target' column, drop it here\n",
    "if 'target' in combined_df.columns:\n",
    "    combined_df = combined_df.drop(columns=['target'])\n",
    "\n",
    "# Separate features and labels\n",
    "X = combined_df.drop(columns=['is_test'])\n",
    "y = combined_df['is_test']\n",
    "\n",
    "# Handle categorical variables - example: one-hot encode categorical features if any\n",
    "X = pd.get_dummies(X)\n",
    "\n",
    "# Split combined data into training and validation for adversarial classifier\n",
    "X_train, X_val, y_train, y_val = train_test_split(X, y, test_size=0.3, random_state=42, stratify=y)\n",
    "\n",
    "# Initialize classifier (you can try other models too)\n",
    "clf = RandomForestClassifier(n_estimators=100, random_state=42)\n",
    "\n",
    "# Train classifier\n",
    "clf.fit(X_train, y_train)\n",
    "\n",
    "# Predict probabilities on validation set\n",
    "y_pred_proba = clf.predict_proba(X_val)[:,1]\n",
    "\n",
    "# Calculate ROC AUC score\n",
    "auc_score = roc_auc_score(y_val, y_pred_proba)\n",
    "print(f'Adversarial Validation ROC AUC: {auc_score:.4f}')\n",
    "\n",
    "# Also print accuracy as an additional metric\n",
    "y_pred = clf.predict(X_val)\n",
    "acc_score = accuracy_score(y_val, y_pred)\n",
    "print(f'Adversarial Validation Accuracy: {acc_score:.4f}')\n",
    "\n",
    "# Interpretation\n",
    "if auc_score > 0.7:\n",
    "    print(\"Significant data drift detected between train and test datasets.\")\n",
    "else:\n",
    "    print(\"No significant data drift detected between train and test datasets.\")\n",
    "\n",
    "\n"
   ]
  }
 ],
 "metadata": {
  "kernelspec": {
   "display_name": "Python 3",
   "language": "python",
   "name": "python3"
  },
  "language_info": {
   "codemirror_mode": {
    "name": "ipython",
    "version": 3
   },
   "file_extension": ".py",
   "mimetype": "text/x-python",
   "name": "python",
   "nbconvert_exporter": "python",
   "pygments_lexer": "ipython3",
   "version": "3.10.12"
  }
 },
 "nbformat": 4,
 "nbformat_minor": 2
}
