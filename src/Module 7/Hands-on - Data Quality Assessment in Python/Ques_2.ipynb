{
 "cells": [
  {
   "cell_type": "markdown",
   "metadata": {},
   "source": [
    "## Check Accuracy & Completeness\n",
    "\n",
    "**Objective**: Learn to assess data quality by checking for accuracy and completeness using Python.\n",
    "\n",
    "For this, you will use a sample dataset students.csv that contains the following\n",
    "columns: ID , Name , Age , Grade , Email .\n",
    "\n",
    "**Steps**:\n",
    "1. Check Accuracy\n",
    "    - Verify Numerical Data Accuracy\n",
    "    - Validate Email Format\n",
    "    - Integer Accuracy Check for Age\n",
    "2. Check Completeness\n",
    "    - Identify Missing Values\n",
    "    - Rows with Missing Data\n",
    "    - Column Specific Missing Value Check"
   ]
  },
  {
   "cell_type": "code",
   "execution_count": 3,
   "metadata": {},
   "outputs": [
    {
     "name": "stdout",
     "output_type": "stream",
     "text": [
      "Columns in the DataFrame: Index(['Age Violations: Empty DataFrame'], dtype='object')\n"
     ]
    },
    {
     "ename": "KeyError",
     "evalue": "\"Column 'Age' not found in DataFrame.\"",
     "output_type": "error",
     "traceback": [
      "\u001b[0;31m---------------------------------------------------------------------------\u001b[0m",
      "\u001b[0;31mKeyError\u001b[0m                                  Traceback (most recent call last)",
      "Cell \u001b[0;32mIn[3], line 53\u001b[0m\n\u001b[1;32m     48\u001b[0m     \u001b[38;5;28;01mreturn\u001b[39;00m df[df[column]\u001b[38;5;241m.\u001b[39misnull()]\n\u001b[1;32m     50\u001b[0m \u001b[38;5;66;03m# Example Usage\u001b[39;00m\n\u001b[1;32m     51\u001b[0m \n\u001b[1;32m     52\u001b[0m \u001b[38;5;66;03m# Checking for Age and Grade numerical accuracy (Age should be between 0 and 120, Grade should be 0-100)\u001b[39;00m\n\u001b[0;32m---> 53\u001b[0m age_violations \u001b[38;5;241m=\u001b[39m \u001b[43mcheck_numerical_accuracy\u001b[49m\u001b[43m(\u001b[49m\u001b[43mdf\u001b[49m\u001b[43m,\u001b[49m\u001b[43m \u001b[49m\u001b[38;5;124;43m'\u001b[39;49m\u001b[38;5;124;43mAge\u001b[39;49m\u001b[38;5;124;43m'\u001b[39;49m\u001b[43m,\u001b[49m\u001b[43m \u001b[49m\u001b[38;5;241;43m0\u001b[39;49m\u001b[43m,\u001b[49m\u001b[43m \u001b[49m\u001b[38;5;241;43m120\u001b[39;49m\u001b[43m)\u001b[49m\n\u001b[1;32m     54\u001b[0m grade_violations \u001b[38;5;241m=\u001b[39m check_numerical_accuracy(df, \u001b[38;5;124m'\u001b[39m\u001b[38;5;124mGrade\u001b[39m\u001b[38;5;124m'\u001b[39m, \u001b[38;5;241m0\u001b[39m, \u001b[38;5;241m100\u001b[39m)\n\u001b[1;32m     56\u001b[0m \u001b[38;5;66;03m# Validate email format\u001b[39;00m\n",
      "Cell \u001b[0;32mIn[3], line 18\u001b[0m, in \u001b[0;36mcheck_numerical_accuracy\u001b[0;34m(df, column, min_value, max_value)\u001b[0m\n\u001b[1;32m     16\u001b[0m \u001b[38;5;28;01mdef\u001b[39;00m\u001b[38;5;250m \u001b[39m\u001b[38;5;21mcheck_numerical_accuracy\u001b[39m(df, column, min_value, max_value):\n\u001b[1;32m     17\u001b[0m     \u001b[38;5;28;01mif\u001b[39;00m column \u001b[38;5;129;01mnot\u001b[39;00m \u001b[38;5;129;01min\u001b[39;00m df\u001b[38;5;241m.\u001b[39mcolumns:\n\u001b[0;32m---> 18\u001b[0m         \u001b[38;5;28;01mraise\u001b[39;00m \u001b[38;5;167;01mKeyError\u001b[39;00m(\u001b[38;5;124mf\u001b[39m\u001b[38;5;124m\"\u001b[39m\u001b[38;5;124mColumn \u001b[39m\u001b[38;5;124m'\u001b[39m\u001b[38;5;132;01m{\u001b[39;00mcolumn\u001b[38;5;132;01m}\u001b[39;00m\u001b[38;5;124m'\u001b[39m\u001b[38;5;124m not found in DataFrame.\u001b[39m\u001b[38;5;124m\"\u001b[39m)\n\u001b[1;32m     19\u001b[0m     \u001b[38;5;28;01mreturn\u001b[39;00m df[(df[column] \u001b[38;5;241m<\u001b[39m min_value) \u001b[38;5;241m|\u001b[39m (df[column] \u001b[38;5;241m>\u001b[39m max_value)]\n",
      "\u001b[0;31mKeyError\u001b[0m: \"Column 'Age' not found in DataFrame.\""
     ]
    }
   ],
   "source": [
    "import pandas as pd\n",
    "import re\n",
    "\n",
    "# Load the dataset\n",
    "df = pd.read_csv('students.csv')\n",
    "\n",
    "# Print column names to check for any hidden issues\n",
    "print(\"Columns in the DataFrame:\", df.columns)\n",
    "\n",
    "# Remove any leading or trailing spaces from column names\n",
    "df.columns = df.columns.str.strip()\n",
    "\n",
    "# Step 1: Check Accuracy\n",
    "\n",
    "# 1.1 Verify Numerical Data Accuracy (Age and Grade should be within reasonable ranges)\n",
    "def check_numerical_accuracy(df, column, min_value, max_value):\n",
    "    if column not in df.columns:\n",
    "        raise KeyError(f\"Column '{column}' not found in DataFrame.\")\n",
    "    return df[(df[column] < min_value) | (df[column] > max_value)]\n",
    "\n",
    "# 1.2 Validate Email Format using regex\n",
    "def validate_email_format(df, column):\n",
    "    if column not in df.columns:\n",
    "        raise KeyError(f\"Column '{column}' not found in DataFrame.\")\n",
    "    email_pattern = r\"^[\\w\\.-]+@[\\w\\.-]+\\.\\w+$\"\n",
    "    return df[~df[column].astype(str).str.match(email_pattern, na=False)]\n",
    "\n",
    "# 1.3 Integer Accuracy Check for Age (Check if Age is an integer)\n",
    "def check_integer_accuracy(df, column):\n",
    "    if column not in df.columns:\n",
    "        raise KeyError(f\"Column '{column}' not found in DataFrame.\")\n",
    "    return df[~df[column].apply(lambda x: isinstance(x, int))]\n",
    "\n",
    "# Step 2: Check Completeness\n",
    "\n",
    "# 2.1 Identify Missing Values in the whole DataFrame\n",
    "def check_missing_values(df):\n",
    "    return df.isnull().sum()\n",
    "\n",
    "# 2.2 Rows with Missing Data\n",
    "def rows_with_missing_data(df):\n",
    "    return df[df.isnull().any(axis=1)]\n",
    "\n",
    "# 2.3 Column-Specific Missing Value Check\n",
    "def check_column_specific_missing(df, column):\n",
    "    if column not in df.columns:\n",
    "        raise KeyError(f\"Column '{column}' not found in DataFrame.\")\n",
    "    return df[df[column].isnull()]\n",
    "\n",
    "# Example Usage\n",
    "\n",
    "# Checking for Age and Grade numerical accuracy (Age should be between 0 and 120, Grade should be 0-100)\n",
    "age_violations = check_numerical_accuracy(df, 'Age', 0, 120)\n",
    "grade_violations = check_numerical_accuracy(df, 'Grade', 0, 100)\n",
    "\n",
    "# Validate email format\n",
    "invalid_emails = validate_email_format(df, 'Email')\n",
    "\n",
    "# Check for integer accuracy in Age\n",
    "invalid_ages = check_integer_accuracy(df, 'Age')\n",
    "\n",
    "# Check for missing values\n",
    "missing_values = check_missing_values(df)\n",
    "\n",
    "# Rows with missing data\n",
    "rows_with_missing = rows_with_missing_data(df)\n",
    "\n",
    "# Column-specific missing data (example: check missing emails)\n",
    "missing_emails = check_column_specific_missing(df, 'Email')\n",
    "\n",
    "# Display results\n",
    "print(f\"Age Violations: {age_violations}\")\n",
    "print(f\"Grade Violations: {grade_violations}\")\n",
    "print(f\"Invalid Emails: {invalid_emails}\")\n",
    "print(f\"Invalid Ages (non-integer): {invalid_ages}\")\n",
    "print(f\"Missing Values per Column:\\n{missing_values}\")\n",
    "print(f\"Rows with Missing Data:\\n{rows_with_missing}\")\n",
    "print(f\"Rows with Missing Emails:\\n{missing_emails}\")\n"
   ]
  }
 ],
 "metadata": {
  "kernelspec": {
   "display_name": "Python 3",
   "language": "python",
   "name": "python3"
  },
  "language_info": {
   "codemirror_mode": {
    "name": "ipython",
    "version": 3
   },
   "file_extension": ".py",
   "mimetype": "text/x-python",
   "name": "python",
   "nbconvert_exporter": "python",
   "pygments_lexer": "ipython3",
   "version": "3.10.12"
  }
 },
 "nbformat": 4,
 "nbformat_minor": 2
}
