{
 "cells": [
  {
   "cell_type": "markdown",
   "metadata": {},
   "source": [
    "## Advanced Consistency Check with Hierarchical Data\n",
    "\n",
    "**Description**: You have two datasets `orders.csv` and `order_items.csv` . Perform a consistency check to ensure each order in `orders.csv` has corresponding items in `order_items.csv` ."
   ]
  },
  {
   "cell_type": "code",
   "execution_count": 3,
   "metadata": {},
   "outputs": [
    {
     "name": "stdout",
     "output_type": "stream",
     "text": [
      "CSV file 'orders.csv' created successfully.\n",
      "CSV file 'order_items.csv' created successfully.\n"
     ]
    }
   ],
   "source": [
    "# Write your code from here\n",
    "import pandas as pd\n",
    "\n",
    "# Sample data for orders.csv\n",
    "orders_data = {\n",
    "    'order_id': [1, 2, 3, 4, 5],\n",
    "    'customer_id': [1001, 1002, 1003, 1004, 1005],\n",
    "    'order_date': ['2023-01-01', '2023-01-02', '2023-01-03', '2023-01-04', '2023-01-05']\n",
    "}\n",
    "\n",
    "# Create DataFrame\n",
    "orders_df = pd.DataFrame(orders_data)\n",
    "\n",
    "# Save to CSV\n",
    "orders_df.to_csv('orders.csv', index=False)\n",
    "print(\"CSV file 'orders.csv' created successfully.\")\n",
    "import pandas as pd\n",
    "\n",
    "# Sample data for order_items.csv\n",
    "order_items_data = {\n",
    "    'order_id': [1, 1, 2, 3, 3, 4, 5, 5],\n",
    "    'item_id': [101, 102, 103, 104, 105, 106, 107, 108],\n",
    "    'item_name': ['Product A', 'Product B', 'Product C', 'Product D', 'Product E', 'Product F', 'Product G', 'Product H'],\n",
    "    'quantity': [2, 1, 1, 3, 2, 1, 2, 1],\n",
    "    'price': [50.0, 30.0, 100.0, 25.0, 40.0, 60.0, 80.0, 90.0]\n",
    "}\n",
    "\n",
    "# Create DataFrame\n",
    "order_items_df = pd.DataFrame(order_items_data)\n",
    "\n",
    "# Save to CSV\n",
    "order_items_df.to_csv('order_items.csv', index=False)\n",
    "print(\"CSV file 'order_items.csv' created successfully.\")\n"
   ]
  },
  {
   "cell_type": "code",
   "execution_count": 4,
   "metadata": {},
   "outputs": [
    {
     "name": "stdout",
     "output_type": "stream",
     "text": [
      "All orders have corresponding items.\n",
      "All order items are linked to existing orders.\n"
     ]
    }
   ],
   "source": [
    "import pandas as pd\n",
    "\n",
    "# Load orders and order_items datasets\n",
    "orders_df = pd.read_csv('orders.csv')\n",
    "order_items_df = pd.read_csv('order_items.csv')\n",
    "\n",
    "# Check if each order in orders has corresponding items in order_items\n",
    "missing_orders = orders_df[~orders_df['order_id'].isin(order_items_df['order_id'])]\n",
    "\n",
    "# Check if there are order_items with no corresponding order in orders\n",
    "orphaned_items = order_items_df[~order_items_df['order_id'].isin(orders_df['order_id'])]\n",
    "\n",
    "# Output the results\n",
    "if not missing_orders.empty:\n",
    "    print(\"Orders with no corresponding items in order_items:\")\n",
    "    print(missing_orders)\n",
    "else:\n",
    "    print(\"All orders have corresponding items.\")\n",
    "\n",
    "if not orphaned_items.empty:\n",
    "    print(\"\\nOrder items with no corresponding orders in orders:\")\n",
    "    print(orphaned_items)\n",
    "else:\n",
    "    print(\"All order items are linked to existing orders.\")\n"
   ]
  }
 ],
 "metadata": {
  "kernelspec": {
   "display_name": "Python 3",
   "language": "python",
   "name": "python3"
  },
  "language_info": {
   "codemirror_mode": {
    "name": "ipython",
    "version": 3
   },
   "file_extension": ".py",
   "mimetype": "text/x-python",
   "name": "python",
   "nbconvert_exporter": "python",
   "pygments_lexer": "ipython3",
   "version": "3.10.12"
  }
 },
 "nbformat": 4,
 "nbformat_minor": 2
}
