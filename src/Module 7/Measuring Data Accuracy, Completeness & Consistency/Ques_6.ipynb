{
 "cells": [
  {
   "cell_type": "markdown",
   "metadata": {},
   "source": [
    "## Architecture to Monitor Data Quality Over Time\n",
    "\n",
    "**Description**: Design a monitoring system in Python that checks and logs data quality metrics (accuracy, completeness) for a dataset over time.\n",
    "\n",
    "**Steps to follow:**\n",
    "1. Implement a Scheduled Script:\n",
    "    - Use schedule library to periodically run a script.\n",
    "2. Script to Calculate Metrics:\n",
    "    - For simplicity, use a function calculate_quality_metrics() that calculates and logs metrics such as missing rate or mismatch rate.\n",
    "3. Store Logs:\n",
    "    - Use Python's logging library to save these metrics over time."
   ]
  },
  {
   "cell_type": "code",
   "execution_count": null,
   "metadata": {},
   "outputs": [
    {
     "name": "stdout",
     "output_type": "stream",
     "text": [
      "Running data quality check...\n",
      "Missing Data Rate:\n",
      "transaction_id    20.0\n",
      "amount            20.0\n",
      "date              20.0\n",
      "dtype: float64\n",
      "Mismatch Rate: 40.0%\n",
      "Running data quality check...\n",
      "Missing Data Rate:\n",
      "transaction_id    20.0\n",
      "amount            20.0\n",
      "date              20.0\n",
      "dtype: float64\n",
      "Mismatch Rate: 40.0%\n"
     ]
    }
   ],
   "source": [
    "import pandas as pd\n",
    "import schedule\n",
    "import time\n",
    "import logging\n",
    "\n",
    "# Step 1: Set up the logging configuration\n",
    "logging.basicConfig(filename='data_quality_log.txt', level=logging.INFO,\n",
    "                    format='%(asctime)s - %(message)s')\n",
    "\n",
    "# Sample dataset for demonstration\n",
    "data = {\n",
    "    'transaction_id': [1, 2, 3, None, 5],\n",
    "    'amount': [100.0, 200.5, None, 400.0, 500.5],\n",
    "    'date': ['2023-01-01', '2023-01-02', None, '2023-01-04', '2023-01-05']\n",
    "}\n",
    "\n",
    "# Creating a DataFrame for the example dataset\n",
    "df = pd.DataFrame(data)\n",
    "\n",
    "# Step 2: Function to calculate quality metrics\n",
    "def calculate_quality_metrics(df):\n",
    "    # Calculate missing data rate for each column\n",
    "    missing_data_rate = df.isnull().mean() * 100\n",
    "\n",
    "    # Calculate mismatch rate (assuming we compare 'amount' with a trusted source, here we use a dummy check)\n",
    "    expected_amount = [100.0, 200.5, 300.0, 400.0, 500.0]  # Example of expected values\n",
    "    mismatch_rate = ((df['amount'] != pd.Series(expected_amount)).sum()) / len(df) * 100\n",
    "\n",
    "    # Log the calculated metrics\n",
    "    logging.info(f\"Missing Data Rate:\\n{missing_data_rate}\")\n",
    "    logging.info(f\"Mismatch Rate: {mismatch_rate}%\")\n",
    "    \n",
    "    print(f\"Missing Data Rate:\\n{missing_data_rate}\")\n",
    "    print(f\"Mismatch Rate: {mismatch_rate}%\")\n",
    "\n",
    "# Step 3: Function to run the scheduled task\n",
    "def run_monitoring_task():\n",
    "    print(\"Running data quality check...\")\n",
    "    calculate_quality_metrics(df)\n",
    "\n",
    "# Step 4: Schedule the task to run every 5 minutes\n",
    "schedule.every(5).minutes.do(run_monitoring_task)\n",
    "\n",
    "# Step 5: Keep the script running to monitor data quality periodically\n",
    "try:\n",
    "    while True:\n",
    "        schedule.run_pending()\n",
    "        time.sleep(1)  # Wait for 1 second before checking again\n",
    "except KeyboardInterrupt:\n",
    "    print(\"Monitoring script has been stopped by the user.\")\n"
   ]
  },
  {
   "cell_type": "code",
   "execution_count": null,
   "metadata": {},
   "outputs": [
    {
     "name": "stdout",
     "output_type": "stream",
     "text": [
      "CSV file 'transaction_data.csv' created successfully.\n"
     ]
    }
   ],
   "source": [
    "import pandas as pd\n",
    "\n",
    "# Sample data to write to CSV\n",
    "data = {\n",
    "    'transaction_id': [1, 2, 3, 4, 5],\n",
    "    'amount': [100.0, 200.5, None, 400.0, 500.5],\n",
    "    'date': ['2023-01-01', '2023-01-02', '2023-01-03', '2023-01-04', '2023-01-05']\n",
    "}\n",
    "\n",
    "# Create a DataFrame\n",
    "df = pd.DataFrame(data)\n",
    "\n",
    "# Save to CSV\n",
    "df.to_csv('transaction_data.csv', index=False)\n",
    "print(\"CSV file 'transaction_data.csv' created successfully.\")\n"
   ]
  }
 ],
 "metadata": {
  "kernelspec": {
   "display_name": "Python 3",
   "language": "python",
   "name": "python3"
  },
  "language_info": {
   "codemirror_mode": {
    "name": "ipython",
    "version": 3
   },
   "file_extension": ".py",
   "mimetype": "text/x-python",
   "name": "python",
   "nbconvert_exporter": "python",
   "pygments_lexer": "ipython3",
   "version": "3.10.12"
  }
 },
 "nbformat": 4,
 "nbformat_minor": 2
}
