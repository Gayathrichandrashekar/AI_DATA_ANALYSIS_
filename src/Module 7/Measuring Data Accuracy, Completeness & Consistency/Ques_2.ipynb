{
 "cells": [
  {
   "cell_type": "markdown",
   "metadata": {},
   "source": [
    "## Find Conflicting Values Across Datasets\n",
    "\n",
    "**Description**: You have two datasets: `crm_customers.csv` and `erp_customers.csv` . Find customers with conflicting \"email\" information."
   ]
  },
  {
   "cell_type": "code",
   "execution_count": 3,
   "metadata": {},
   "outputs": [
    {
     "name": "stdout",
     "output_type": "stream",
     "text": [
      "CSV files have been generated: crm_customers.csv, erp_customers.csv\n",
      "Conflicting emails found:\n",
      "   customer_id               email_crm               email_erp\n",
      "0        12345    john.doe@example.com  johnny.doe@example.com\n",
      "1        67890  jane.smith@example.com      jsmith@example.com\n",
      "Number of conflicting emails: 2\n"
     ]
    }
   ],
   "source": [
    "# Write your code from here\n",
    "import pandas as pd\n",
    "\n",
    "# Sample data for crm_customers.csv\n",
    "crm_data = {\n",
    "    'customer_id': [12345, 67890, 11223],\n",
    "    'name': ['John Doe', 'Jane Smith', 'Alice Brown'],\n",
    "    'email': ['john.doe@example.com', 'jane.smith@example.com', 'alice.brown@example.com']\n",
    "}\n",
    "\n",
    "# Create DataFrame for crm_customers\n",
    "crm_df = pd.DataFrame(crm_data)\n",
    "\n",
    "# Write to crm_customers.csv\n",
    "crm_df.to_csv('crm_customers.csv', index=False)\n",
    "\n",
    "# Sample data for erp_customers.csv\n",
    "erp_data = {\n",
    "    'customer_id': [12345, 67890, 11223],\n",
    "    'name': ['John Doe', 'Jane Smith', 'Alice Brown'],\n",
    "    'email': ['johnny.doe@example.com', 'jsmith@example.com', 'alice.brown@example.com']\n",
    "}\n",
    "\n",
    "# Create DataFrame for erp_customers\n",
    "erp_df = pd.DataFrame(erp_data)\n",
    "\n",
    "# Write to erp_customers.csv\n",
    "erp_df.to_csv('erp_customers.csv', index=False)\n",
    "\n",
    "print(\"CSV files have been generated: crm_customers.csv, erp_customers.csv\")\n",
    "\n",
    "import pandas as pd\n",
    "\n",
    "# Step 1: Load the datasets\n",
    "crm_df = pd.read_csv('crm_customers.csv')  # Replace with the actual path of your crm_customers.csv\n",
    "erp_df = pd.read_csv('erp_customers.csv')  # Replace with the actual path of your erp_customers.csv\n",
    "\n",
    "# Step 2: Merge the datasets on 'customer_id'\n",
    "merged_df = pd.merge(crm_df, erp_df, on='customer_id', suffixes=('_crm', '_erp'))\n",
    "\n",
    "# Step 3: Identify conflicting emails (where the emails do not match between the CRM and ERP datasets)\n",
    "conflicting_emails = merged_df[merged_df['email_crm'] != merged_df['email_erp']]\n",
    "\n",
    "# Step 4: Display the conflicting records\n",
    "print(\"Conflicting emails found:\")\n",
    "print(conflicting_emails[['customer_id', 'email_crm', 'email_erp']])\n",
    "\n",
    "# Step 5: Optionally save the conflicting records to a new CSV file for further analysis\n",
    "conflicting_emails.to_csv('conflicting_emails.csv', index=False)\n",
    "\n",
    "# Step 6: Print the number of conflicting email records\n",
    "print(f\"Number of conflicting emails: {conflicting_emails.shape[0]}\")\n",
    "\n",
    "\n"
   ]
  }
 ],
 "metadata": {
  "kernelspec": {
   "display_name": "Python 3",
   "language": "python",
   "name": "python3"
  },
  "language_info": {
   "codemirror_mode": {
    "name": "ipython",
    "version": 3
   },
   "file_extension": ".py",
   "mimetype": "text/x-python",
   "name": "python",
   "nbconvert_exporter": "python",
   "pygments_lexer": "ipython3",
   "version": "3.10.12"
  }
 },
 "nbformat": 4,
 "nbformat_minor": 2
}
