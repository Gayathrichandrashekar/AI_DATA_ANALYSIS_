{
 "cells": [
  {
   "cell_type": "markdown",
   "metadata": {},
   "source": [
    "## Ensuring Consistency in Multi-source Data Integration\n",
    "\n",
    "**Description**: Validate the integration of two datasets `products_A.csv` and `products_B.csv` . Ensure consistency in product \"category\" information."
   ]
  },
  {
   "cell_type": "code",
   "execution_count": 2,
   "metadata": {},
   "outputs": [
    {
     "name": "stdout",
     "output_type": "stream",
     "text": [
      "CSV files 'products_A.csv' and 'products_B.csv' have been created.\n"
     ]
    }
   ],
   "source": [
    "# Write your code from here\n",
    "import pandas as pd\n",
    "\n",
    "# Create sample data for products_A.csv\n",
    "data_A = {\n",
    "    'product_id': [1, 2, 3, 4, 5],\n",
    "    'category': ['Electronics', 'Clothing', 'Furniture', 'Toys', 'Electronics']\n",
    "}\n",
    "\n",
    "# Create a DataFrame from the data\n",
    "df_A = pd.DataFrame(data_A)\n",
    "\n",
    "# Write the DataFrame to CSV\n",
    "df_A.to_csv('products_A.csv', index=False)\n",
    "\n",
    "# Create sample data for products_B.csv\n",
    "data_B = {\n",
    "    'product_id': [1, 2, 3, 4, 5],\n",
    "    'category': ['Electronics', 'Apparel', 'Furniture', 'Kids', 'Electronics']\n",
    "}\n",
    "\n",
    "# Create a DataFrame from the data\n",
    "df_B = pd.DataFrame(data_B)\n",
    "\n",
    "# Write the DataFrame to CSV\n",
    "df_B.to_csv('products_B.csv', index=False)\n",
    "\n",
    "print(\"CSV files 'products_A.csv' and 'products_B.csv' have been created.\")\n"
   ]
  },
  {
   "cell_type": "code",
   "execution_count": 3,
   "metadata": {},
   "outputs": [
    {
     "name": "stdout",
     "output_type": "stream",
     "text": [
      "Found 2 products with inconsistent categories.\n",
      "   product_id category_A category_B\n",
      "1           2   Clothing    Apparel\n",
      "3           4       Toys       Kids\n"
     ]
    }
   ],
   "source": [
    "import pandas as pd\n",
    "\n",
    "# Load the datasets\n",
    "def load_product_data(file_path):\n",
    "    \"\"\"Load product data from a CSV file.\"\"\"\n",
    "    try:\n",
    "        df = pd.read_csv(file_path)\n",
    "        if 'product_id' not in df.columns or 'category' not in df.columns:\n",
    "            raise ValueError(\"Both 'product_id' and 'category' columns must be present.\")\n",
    "        return df\n",
    "    except FileNotFoundError:\n",
    "        print(f\"Error: The file {file_path} was not found.\")\n",
    "    except ValueError as e:\n",
    "        print(f\"Error: {e}\")\n",
    "    except Exception as e:\n",
    "        print(f\"An unexpected error occurred: {e}\")\n",
    "\n",
    "# Validate consistency in product categories between two datasets\n",
    "def validate_category_consistency(df_A, df_B):\n",
    "    \"\"\"Validate consistency of 'category' across two product datasets.\"\"\"\n",
    "    # Merge datasets on 'product_id'\n",
    "    merged_df = pd.merge(df_A[['product_id', 'category']], df_B[['product_id', 'category']], \n",
    "                         on='product_id', suffixes=('_A', '_B'), how='inner')\n",
    "    \n",
    "    # Find discrepancies where categories don't match\n",
    "    discrepancies = merged_df[merged_df['category_A'] != merged_df['category_B']]\n",
    "\n",
    "    if not discrepancies.empty:\n",
    "        print(f\"Found {len(discrepancies)} products with inconsistent categories.\")\n",
    "        print(discrepancies)\n",
    "    else:\n",
    "        print(\"All product categories are consistent across both datasets.\")\n",
    "\n",
    "# Main code execution\n",
    "file_A = 'products_A.csv'\n",
    "file_B = 'products_B.csv'\n",
    "\n",
    "# Load both product datasets\n",
    "df_A = load_product_data(file_A)\n",
    "df_B = load_product_data(file_B)\n",
    "\n",
    "if df_A is not None and df_B is not None:\n",
    "    # Validate consistency in the \"category\" column\n",
    "    validate_category_consistency(df_A, df_B)\n"
   ]
  }
 ],
 "metadata": {
  "kernelspec": {
   "display_name": "Python 3",
   "language": "python",
   "name": "python3"
  },
  "language_info": {
   "codemirror_mode": {
    "name": "ipython",
    "version": 3
   },
   "file_extension": ".py",
   "mimetype": "text/x-python",
   "name": "python",
   "nbconvert_exporter": "python",
   "pygments_lexer": "ipython3",
   "version": "3.10.12"
  }
 },
 "nbformat": 4,
 "nbformat_minor": 2
}
