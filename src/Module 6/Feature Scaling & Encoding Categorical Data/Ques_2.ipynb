{
 "cells": [
  {
   "cell_type": "code",
   "execution_count": 5,
   "metadata": {},
   "outputs": [
    {
     "name": "stdout",
     "output_type": "stream",
     "text": [
      "Column names after encoding: Index(['PassengerId', 'Survived', 'Pclass', 'Name', 'Sex', 'Age', 'SibSp',\n",
      "       'Parch', 'Ticket', 'Fare', 'Embarked', 'Sex_LabelEncoded', 'Sex_female',\n",
      "       'Sex_male'],\n",
      "      dtype='object')\n",
      "Encoded DataFrame:\n",
      "      Sex  Sex_LabelEncoded  Sex_female\n",
      "0    male                 1         0.0\n",
      "1  female                 0         1.0\n",
      "2  female                 0         1.0\n",
      "3  female                 0         1.0\n",
      "4    male                 1         0.0\n"
     ]
    }
   ],
   "source": [
    "import pandas as pd\n",
    "from sklearn.preprocessing import LabelEncoder, OneHotEncoder\n",
    "\n",
    "# Sample Titanic dataset\n",
    "data = {\n",
    "    'PassengerId': [1, 2, 3, 4, 5],\n",
    "    'Survived': [0, 1, 1, 0, 0],\n",
    "    'Pclass': [3, 1, 3, 1, 3],\n",
    "    'Name': ['Braund, Mr. Owen Harris', 'Cumings, Mrs. John Bradley', 'Heikkinen, Miss. Laina', 'Futrelle, Mrs. Jacques Heath', 'Allen, Mr. William Henry'],\n",
    "    'Sex': ['male', 'female', 'female', 'female', 'male'],\n",
    "    'Age': [22, 38, 26, 35, 35],\n",
    "    'SibSp': [1, 1, 0, 1, 0],\n",
    "    'Parch': [0, 0, 0, 0, 0],\n",
    "    'Ticket': ['A/5 21171', 'PC 17599', 'STON/O2. 3101282', '113803', '373450'],\n",
    "    'Fare': [7.25, 71.2833, 7.925, 53.1, 8.05],\n",
    "    'Embarked': ['S', 'C', 'S', 'S', 'S']\n",
    "}\n",
    "\n",
    "titanic_df = pd.DataFrame(data)\n",
    "\n",
    "# Label Encoding for 'Sex' column\n",
    "label_encoder = LabelEncoder()\n",
    "titanic_df['Sex_LabelEncoded'] = label_encoder.fit_transform(titanic_df['Sex'])\n",
    "\n",
    "# One-Hot Encoding for 'Sex' column\n",
    "onehot_encoder = OneHotEncoder(sparse_output=False)  # Changed sparse=False to sparse_output=False\n",
    "sex_encoded = onehot_encoder.fit_transform(titanic_df[['Sex']])\n",
    "sex_encoded_df = pd.DataFrame(sex_encoded, columns=onehot_encoder.get_feature_names_out(['Sex']))\n",
    "titanic_df = pd.concat([titanic_df, sex_encoded_df], axis=1)\n",
    "\n",
    "# Display column names to check\n",
    "print(\"Column names after encoding:\", titanic_df.columns)\n",
    "\n",
    "# Display the first few rows to ensure correct encoding\n",
    "print(\"Encoded DataFrame:\")\n",
    "print(titanic_df[['Sex', 'Sex_LabelEncoded', 'Sex_female']].head())  # Sex_female is One-Hot Encoded\n"
   ]
  }
 ],
 "metadata": {
  "kernelspec": {
   "display_name": "Python 3",
   "language": "python",
   "name": "python3"
  },
  "language_info": {
   "codemirror_mode": {
    "name": "ipython",
    "version": 3
   },
   "file_extension": ".py",
   "mimetype": "text/x-python",
   "name": "python",
   "nbconvert_exporter": "python",
   "pygments_lexer": "ipython3",
   "version": "3.10.12"
  }
 },
 "nbformat": 4,
 "nbformat_minor": 2
}
