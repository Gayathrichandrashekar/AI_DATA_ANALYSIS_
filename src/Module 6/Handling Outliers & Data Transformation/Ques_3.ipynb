{
 "cells": [
  {
   "cell_type": "code",
   "execution_count": null,
   "metadata": {},
   "outputs": [
    {
     "name": "stdout",
     "output_type": "stream",
     "text": [
      "Lambda used: -0.00911059692200321\n",
      "Transformed Data: [0.         0.69096317 1.09313257 1.77721438 2.05986788 2.27860137\n",
      " 2.95522055 3.34904114 3.84312996 4.50990029]\n"
     ]
    }
   ],
   "source": [
    "import numpy as np\n",
    "import pandas as pd\n",
    "from scipy.stats import boxcox\n",
    "import matplotlib.pyplot as plt\n",
    "import seaborn as sns\n",
    "\n",
    "def apply_boxcox_transformation(data):\n",
    "    \"\"\"\n",
    "    Applies Box-Cox power transformation to a dataset to stabilize variance and make it more normal.\n",
    "\n",
    "    Parameters:\n",
    "        data (list or array-like): Positive numerical values only.\n",
    "\n",
    "    Returns:\n",
    "        tuple: (transformed_data, lambda_value)\n",
    "    \"\"\"\n",
    "    data = np.array(data)\n",
    "\n",
    "    if np.any(data <= 0):\n",
    "        raise ValueError(\"Box-Cox transformation requires all values to be positive.\")\n",
    "\n",
    "    transformed_data, lambda_value = boxcox(data)\n",
    "    return transformed_data, lambda_value\n",
    "\n",
    "# Example usage\n",
    "dataset = [1, 2, 3, 6, 8, 10, 20, 30, 50, 100]\n",
    "transformed, lmbda = apply_boxcox_transformation(dataset)\n",
    "\n",
    "# Display results\n",
    "print(\"Lambda used:\", lmbda)\n",
    "print(\"Transformed Data:\", transformed)\n",
    "\n",
    "# Plot before and after\n",
    "plt.figure(figsize=(12, 5))\n",
    "\n",
    "plt.subplot(1, 2, 1)\n",
    "sns.histplot(dataset, kde=True, color='lightcoral')\n",
    "plt.title(\"Original Data Distribution\")\n",
    "\n",
    "plt.subplot(1, 2, 2)\n",
    "sns.histplot(transformed, kde=True, color='lightblue')\n",
    "plt.title(\"Box-Cox Transformed Data\")\n",
    "\n",
    "plt.tight_layout()\n",
    "plt.show()\n"
   ]
  }
 ],
 "metadata": {
  "kernelspec": {
   "display_name": "Python 3",
   "language": "python",
   "name": "python3"
  },
  "language_info": {
   "codemirror_mode": {
    "name": "ipython",
    "version": 3
   },
   "file_extension": ".py",
   "mimetype": "text/x-python",
   "name": "python",
   "nbconvert_exporter": "python",
   "pygments_lexer": "ipython3",
   "version": "3.10.12"
  }
 },
 "nbformat": 4,
 "nbformat_minor": 2
}
