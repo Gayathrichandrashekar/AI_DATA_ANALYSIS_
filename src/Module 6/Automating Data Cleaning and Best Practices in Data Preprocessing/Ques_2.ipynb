{
 "cells": [
  {
   "cell_type": "markdown",
   "metadata": {},
   "source": [
    "    Task: Complete Pipeline for a Dataset\n",
    "1. Objective: Build a complex pipeline with multiple transformations.\n",
    "2. Steps:\n",
    "    - Load a sample dataset.\n",
    "    - Define a transformation pipeline with both imputation and scaling."
   ]
  },
  {
   "cell_type": "code",
   "execution_count": 14,
   "metadata": {},
   "outputs": [],
   "source": [
    "import pytest\n",
    "import pandas as pd\n",
    "import numpy as np\n",
    "from sklearn.impute import SimpleImputer\n",
    "from sklearn.preprocessing import StandardScaler\n",
    "\n",
    "# Test for Imputation\n",
    "def test_imputation():\n",
    "    # Sample data with missing values\n",
    "    data = {'A': [1, 2, np.nan, 4], 'B': [5, np.nan, 7, 8]}\n",
    "    df = pd.DataFrame(data)\n",
    "    \n",
    "    imputer = SimpleImputer(strategy='mean')\n",
    "    imputed_data = imputer.fit_transform(df)\n",
    "    \n",
    "    # Assert that missing values are replaced\n",
    "    assert not np.any(np.isnan(imputed_data)), \"Missing values exist after imputation!\"\n",
    "\n",
    "# Test for Scaling\n",
    "def test_scaling():\n",
    "    # Sample data\n",
    "    data = {'A': [1, 2, 3, 4], 'B': [5, 6, 7, 8]}\n",
    "    df = pd.DataFrame(data)\n",
    "    \n",
    "    scaler = StandardScaler()\n",
    "    scaled_data = scaler.fit_transform(df)\n",
    "    \n",
    "    # Assert that the scaled data has mean=0 and std=1 for each column\n",
    "    assert np.abs(np.mean(scaled_data[:, 0])) < 0.1, \"Column A mean is not close to 0\"  # Column A\n",
    "    assert np.abs(np.mean(scaled_data[:, 1])) < 0.1, \"Column B mean is not close to 0\"  # Column B\n",
    "    assert np.abs(np.std(scaled_data[:, 0]) - 1) < 0.1, \"Column A std is not close to 1\"\n",
    "    assert np.abs(np.std(scaled_data[:, 1]) - 1) < 0.1, \"Column B std is not close to 1\"\n"
   ]
  },
  {
   "cell_type": "code",
   "execution_count": null,
   "metadata": {},
   "outputs": [],
   "source": []
  }
 ],
 "metadata": {
  "kernelspec": {
   "display_name": "Python 3",
   "language": "python",
   "name": "python3"
  },
  "language_info": {
   "codemirror_mode": {
    "name": "ipython",
    "version": 3
   },
   "file_extension": ".py",
   "mimetype": "text/x-python",
   "name": "python",
   "nbconvert_exporter": "python",
   "pygments_lexer": "ipython3",
   "version": "3.10.12"
  }
 },
 "nbformat": 4,
 "nbformat_minor": 2
}
