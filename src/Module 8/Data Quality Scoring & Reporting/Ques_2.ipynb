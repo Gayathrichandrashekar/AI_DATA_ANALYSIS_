{
 "cells": [
  {
   "cell_type": "markdown",
   "metadata": {},
   "source": [
    "## Build a Data Quality Dashboard\n",
    "\n",
    "**Description**: Create a simple dashboard that displays data quality metrics using a library like `dash` or `streamlit`.\n",
    "\n",
    "**Steps:**\n",
    "1. Install Streamlit: pip install streamlit\n",
    "2. Create a Python script dashboard.py.\n",
    "3. Run the dashboard: streamlit run dashboard.py"
   ]
  },
  {
   "cell_type": "code",
   "execution_count": 11,
   "metadata": {},
   "outputs": [
    {
     "name": "stdout",
     "output_type": "stream",
     "text": [
      "{'completeness': 0.95, 'accuracy': 0.89, 'consistency': 0.8, 'dqi_score': 0.88}\n"
     ]
    }
   ],
   "source": [
    "import pandas as pd\n",
    "import re\n",
    "\n",
    "# --------- Validation Helper ---------\n",
    "def validate_dataframe(df):\n",
    "    if not isinstance(df, pd.DataFrame):\n",
    "        raise ValueError(\"Input must be a pandas DataFrame.\")\n",
    "    if df.empty or df.isnull().all().all():\n",
    "        return False\n",
    "    return True\n",
    "\n",
    "# --------- Completeness Metric ---------\n",
    "def calculate_completeness(df):\n",
    "    if not validate_dataframe(df):\n",
    "        return 0.0\n",
    "    total_cells = df.size\n",
    "    non_missing = df.notnull().sum().sum()\n",
    "    return round(non_missing / total_cells, 2)\n",
    "\n",
    "# --------- Accuracy Metric ---------\n",
    "def calculate_accuracy(df):\n",
    "    if not validate_dataframe(df):\n",
    "        return 0.0\n",
    "    if 'email' not in df.columns:\n",
    "        return 0.0\n",
    "\n",
    "    pattern = r'^[\\w\\.-]+@[\\w\\.-]+\\.\\w+$'\n",
    "    valid_emails = df['email'].dropna().apply(lambda x: bool(re.match(pattern, str(x))))\n",
    "    return round(valid_emails.sum() / len(valid_emails), 2) if len(valid_emails) > 0 else 0.0\n",
    "\n",
    "# --------- Consistency Metric ---------\n",
    "def calculate_consistency(df):\n",
    "    if not validate_dataframe(df):\n",
    "        return 0.0\n",
    "    if 'grade' not in df.columns:\n",
    "        return 0.0\n",
    "\n",
    "    valid_grades = {'A', 'B', 'C', 'D', 'E', 'F'}\n",
    "    consistent_grades = df['grade'].dropna().apply(lambda x: x in valid_grades)\n",
    "    return round(consistent_grades.sum() / len(consistent_grades), 2) if len(consistent_grades) > 0 else 0.0\n",
    "\n",
    "# --------- Combined DQI Score ---------\n",
    "def calculate_dqi(df):\n",
    "    completeness = calculate_completeness(df)\n",
    "    accuracy = calculate_accuracy(df)\n",
    "    consistency = calculate_consistency(df)\n",
    "    dqi_score = round((completeness + accuracy + consistency) / 3, 2)\n",
    "    return {\n",
    "        \"completeness\": completeness,\n",
    "        \"accuracy\": accuracy,\n",
    "        \"consistency\": consistency,\n",
    "        \"dqi_score\": dqi_score\n",
    "    }\n",
    "\n",
    "# --------- Sample Usage ---------\n",
    "df = pd.read_csv('data_quality_sample.csv')\n",
    "score = calculate_dqi(df)\n",
    "print(score)\n"
   ]
  },
  {
   "cell_type": "code",
   "execution_count": 12,
   "metadata": {},
   "outputs": [
    {
     "ename": "ModuleNotFoundError",
     "evalue": "No module named 'Ques_2'",
     "output_type": "error",
     "traceback": [
      "\u001b[0;31m---------------------------------------------------------------------------\u001b[0m",
      "\u001b[0;31mModuleNotFoundError\u001b[0m                       Traceback (most recent call last)",
      "Cell \u001b[0;32mIn[12], line 3\u001b[0m\n\u001b[1;32m      1\u001b[0m \u001b[38;5;28;01mimport\u001b[39;00m\u001b[38;5;250m \u001b[39m\u001b[38;5;21;01munittest\u001b[39;00m\n\u001b[1;32m      2\u001b[0m \u001b[38;5;28;01mimport\u001b[39;00m\u001b[38;5;250m \u001b[39m\u001b[38;5;21;01mpandas\u001b[39;00m\u001b[38;5;250m \u001b[39m\u001b[38;5;28;01mas\u001b[39;00m\u001b[38;5;250m \u001b[39m\u001b[38;5;21;01mpd\u001b[39;00m\n\u001b[0;32m----> 3\u001b[0m \u001b[38;5;28;01mfrom\u001b[39;00m\u001b[38;5;250m \u001b[39m\u001b[38;5;21;01mQues_2\u001b[39;00m\u001b[38;5;250m \u001b[39m\u001b[38;5;28;01mimport\u001b[39;00m calculate_completeness, calculate_accuracy, calculate_consistency, calculate_dqi\n\u001b[1;32m      5\u001b[0m \u001b[38;5;28;01mclass\u001b[39;00m\u001b[38;5;250m \u001b[39m\u001b[38;5;21;01mTestDataQualityFunctions\u001b[39;00m(unittest\u001b[38;5;241m.\u001b[39mTestCase):\n\u001b[1;32m      7\u001b[0m     \u001b[38;5;28;01mdef\u001b[39;00m\u001b[38;5;250m \u001b[39m\u001b[38;5;21mtest_completeness_all_nan\u001b[39m(\u001b[38;5;28mself\u001b[39m):\n",
      "\u001b[0;31mModuleNotFoundError\u001b[0m: No module named 'Ques_2'"
     ]
    }
   ],
   "source": [
    "import unittest\n",
    "import pandas as pd\n",
    "from Ques_2 import calculate_completeness, calculate_accuracy, calculate_consistency, calculate_dqi\n",
    "\n",
    "class TestDataQualityFunctions(unittest.TestCase):\n",
    "\n",
    "    def test_completeness_all_nan(self):\n",
    "        df = pd.DataFrame({'A': [None, None], 'B': [None, None]})\n",
    "        self.assertEqual(calculate_completeness(df), 0.0)\n",
    "\n",
    "    def test_completeness_partial(self):\n",
    "        df = pd.DataFrame({'A': [1, None], 'B': [None, 2]})\n",
    "        self.assertEqual(calculate_completeness(df), 0.5)\n",
    "\n",
    "    def test_accuracy_invalid_and_valid_emails(self):\n",
    "        df = pd.DataFrame({'email': ['user@example.com', 'bademail', None]})\n",
    "        self.assertEqual(calculate_accuracy(df), 0.5)\n",
    "\n",
    "    def test_accuracy_missing_column(self):\n",
    "        df = pd.DataFrame({'name': ['Alice']})\n",
    "        self.assertEqual(calculate_accuracy(df), 0.0)\n",
    "\n",
    "    def test_consistency_valid_and_invalid_grades(self):\n",
    "        df = pd.DataFrame({'grade': ['A', 'Z', 'B', None]})\n",
    "        self.assertEqual(calculate_consistency(df), 0.5)\n",
    "\n",
    "    def test_consistency_missing_column(self):\n",
    "        df = pd.DataFrame({'name': ['Bob']})\n",
    "        self.assertEqual(calculate_consistency(df), 0.0)\n",
    "\n",
    "    def test_dqi_combined(self):\n",
    "        df = pd.DataFrame({\n",
    "            'email': ['user@example.com', 'bademail'],\n",
    "            'grade': ['A', 'Z'],\n",
    "            'name': ['Alice', 'Bob']\n",
    "        })\n",
    "        result = calculate_dqi(df)\n",
    "        self.assertIn('dqi_score', result)\n",
    "        self.assertTrue(0.0 <= result['dqi_score'] <= 1.0)\n",
    "\n",
    "if __name__ == '__main__':\n",
    "    unittest.main()\n"
   ]
  },
  {
   "cell_type": "code",
   "execution_count": null,
   "metadata": {},
   "outputs": [],
   "source": [
    "import pandas as pd\n",
    "\n",
    "data = {\n",
    "    \"id\": [1,2,3,4,5,6,7,8,9,10],\n",
    "    \"name\": [\"Alice\", \"Bob\", \"Charlie\", \"David\", \"Eve\", \"Frank\", \"Grace\", \"Hank\", \"Ivy\", \"Jack\"],\n",
    "    \"age\": [25, None, 30, 27, None, 22, 29, 35, 28, 31],\n",
    "    \"email\": [\"alice@example.com\", \"bob[at]example.com\", None, \"david@example.com\", \"eve@example.com\",\n",
    "              \"frank@example.com\", \"grace@example.com\", \"hank@example.com\", \"ivy@example.com\", \"jack@example.com\"],\n",
    "    \"gender\": [\"F\", \"M\", \"M\", \"M\", \"F\", \"M\", \"F\", \"M\", \"F\", \"M\"],\n",
    "    \"grade\": [\"A\", \"B\", \"C\", \"A\", \"B\", \"D\", \"E\", \"F\", \"G\", \"H\"]\n",
    "}\n",
    "\n",
    "df = pd.DataFrame(data)\n",
    "df.to_csv(\"data_quality_sample.csv\", index=False)\n"
   ]
  }
 ],
 "metadata": {
  "kernelspec": {
   "display_name": "Python 3",
   "language": "python",
   "name": "python3"
  },
  "language_info": {
   "codemirror_mode": {
    "name": "ipython",
    "version": 3
   },
   "file_extension": ".py",
   "mimetype": "text/x-python",
   "name": "python",
   "nbconvert_exporter": "python",
   "pygments_lexer": "ipython3",
   "version": "3.10.12"
  }
 },
 "nbformat": 4,
 "nbformat_minor": 2
}
