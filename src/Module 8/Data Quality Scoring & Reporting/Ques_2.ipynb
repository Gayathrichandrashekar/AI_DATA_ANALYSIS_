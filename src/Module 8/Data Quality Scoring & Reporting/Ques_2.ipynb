{
 "cells": [
  {
   "cell_type": "markdown",
   "metadata": {},
   "source": [
    "## Build a Data Quality Dashboard\n",
    "\n",
    "**Description**: Create a simple dashboard that displays data quality metrics using a library like `dash` or `streamlit`.\n",
    "\n",
    "**Steps:**\n",
    "1. Install Streamlit: pip install streamlit\n",
    "2. Create a Python script dashboard.py.\n",
    "3. Run the dashboard: streamlit run dashboard.py"
   ]
  },
  {
   "cell_type": "code",
   "execution_count": 2,
   "metadata": {},
   "outputs": [
    {
     "name": "stderr",
     "output_type": "stream",
     "text": [
      "2025-05-10 21:04:37.353 WARNING streamlit.runtime.scriptrunner_utils.script_run_context: Thread 'MainThread': missing ScriptRunContext! This warning can be ignored when running in bare mode.\n",
      "2025-05-10 21:04:37.354 WARNING streamlit.runtime.scriptrunner_utils.script_run_context: Thread 'MainThread': missing ScriptRunContext! This warning can be ignored when running in bare mode.\n",
      "2025-05-10 21:04:38.041 \n",
      "  \u001b[33m\u001b[1mWarning:\u001b[0m to view this Streamlit app on a browser, run it with the following\n",
      "  command:\n",
      "\n",
      "    streamlit run /home/vscode/.local/lib/python3.10/site-packages/ipykernel_launcher.py [ARGUMENTS]\n",
      "2025-05-10 21:04:38.045 Thread 'MainThread': missing ScriptRunContext! This warning can be ignored when running in bare mode.\n",
      "2025-05-10 21:04:38.047 Thread 'MainThread': missing ScriptRunContext! This warning can be ignored when running in bare mode.\n",
      "2025-05-10 21:04:38.049 Thread 'MainThread': missing ScriptRunContext! This warning can be ignored when running in bare mode.\n",
      "2025-05-10 21:04:38.052 Thread 'MainThread': missing ScriptRunContext! This warning can be ignored when running in bare mode.\n",
      "2025-05-10 21:04:38.055 Thread 'MainThread': missing ScriptRunContext! This warning can be ignored when running in bare mode.\n",
      "2025-05-10 21:04:38.059 Thread 'MainThread': missing ScriptRunContext! This warning can be ignored when running in bare mode.\n",
      "2025-05-10 21:04:38.063 Thread 'MainThread': missing ScriptRunContext! This warning can be ignored when running in bare mode.\n",
      "2025-05-10 21:04:38.069 Thread 'MainThread': missing ScriptRunContext! This warning can be ignored when running in bare mode.\n"
     ]
    }
   ],
   "source": [
    "# Write your code from here\n",
    "# dashboard.py\n",
    "\n",
    "import streamlit as st\n",
    "import pandas as pd\n",
    "import matplotlib.pyplot as plt\n",
    "\n",
    "st.set_page_config(page_title=\"Data Quality Dashboard\", layout=\"centered\")\n",
    "\n",
    "st.title(\"📊 Data Quality Dashboard\")\n",
    "\n",
    "# Upload CSV\n",
    "uploaded_file = st.file_uploader(\"Upload your CSV file\", type=[\"csv\"])\n",
    "\n",
    "if uploaded_file is not None:\n",
    "    try:\n",
    "        df = pd.read_csv(uploaded_file)\n",
    "\n",
    "        st.success(\"✅ File successfully loaded!\")\n",
    "\n",
    "        st.subheader(\"🔍 Dataset Preview\")\n",
    "        st.dataframe(df.head())\n",
    "\n",
    "        # Basic Metrics\n",
    "        total_cells = df.size\n",
    "        total_missing = df.isnull().sum().sum()\n",
    "        dqi = round((1 - total_missing / total_cells) * 100, 2)\n",
    "\n",
    "        st.subheader(\"📈 Data Quality Metrics\")\n",
    "        st.metric(label=\"Total Rows\", value=df.shape[0])\n",
    "        st.metric(label=\"Total Columns\", value=df.shape[1])\n",
    "        st.metric(label=\"Total Missing Values\", value=total_missing)\n",
    "        st.metric(label=\"Data Quality Index (DQI)\", value=f\"{dqi} %\")\n",
    "\n",
    "        # Bar Plot for DQI\n",
    "        st.subheader(\"📊 DQI vs Errors (%)\")\n",
    "        fig, ax = plt.subplots()\n",
    "        ax.bar([\"DQI\", \"Errors\"], [dqi, 100 - dqi], color=[\"green\", \"red\"])\n",
    "        ax.set_ylabel(\"Percentage\")\n",
    "        ax.set_ylim([0, 100])\n",
    "        for i, val in enumerate([dqi, 100 - dqi]):\n",
    "            ax.text(i, val + 2, f\"{val:.2f}%\", ha='center')\n",
    "        st.pyplot(fig)\n",
    "\n",
    "        # Column-wise missing values\n",
    "        st.subheader(\"🧮 Missing Values per Column\")\n",
    "        missing_per_column = df.isnull().sum()\n",
    "        st.bar_chart(missing_per_column)\n",
    "\n",
    "    except pd.errors.ParserError:\n",
    "        st.error(\"❌ The file appears to be malformed.\")\n",
    "    except UnicodeDecodeError:\n",
    "        st.error(\"❌ Unsupported character encoding.\")\n",
    "    except Exception as e:\n",
    "        st.error(f\"❌ Unexpected error: {e}\")\n",
    "else:\n",
    "    st.info(\"📁 Please upload a CSV file to begin.\")\n"
   ]
  }
 ],
 "metadata": {
  "kernelspec": {
   "display_name": "Python 3",
   "language": "python",
   "name": "python3"
  },
  "language_info": {
   "codemirror_mode": {
    "name": "ipython",
    "version": 3
   },
   "file_extension": ".py",
   "mimetype": "text/x-python",
   "name": "python",
   "nbconvert_exporter": "python",
   "pygments_lexer": "ipython3",
   "version": "3.10.12"
  }
 },
 "nbformat": 4,
 "nbformat_minor": 2
}
