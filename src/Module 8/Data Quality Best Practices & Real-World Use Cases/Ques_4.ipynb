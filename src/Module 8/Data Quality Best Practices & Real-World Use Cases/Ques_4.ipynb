{
 "cells": [
  {
   "cell_type": "markdown",
   "metadata": {},
   "source": [
    "### Healthcare – Patient Data Accuracy\n",
    "\n",
    "**Task 1**: Patient Record Accuracy Assessment\n",
    "\n",
    "**Objective**: Achieve high accuracy in patient records.\n",
    "\n",
    "**Steps**:\n",
    "1. Examine a sample patient dataset for common inaccuracies.\n",
    "2. Identify at least three common issues, such as medication errors or misdiagnoses.\n",
    "3. Propose validation measures to ensure data accuracy at the point of entry."
   ]
  },
  {
   "cell_type": "code",
   "execution_count": 11,
   "metadata": {},
   "outputs": [
    {
     "name": "stdout",
     "output_type": "stream",
     "text": [
      "CSV file 'patient_data.csv' has been generated successfully!\n"
     ]
    }
   ],
   "source": [
    "import pandas as pd\n",
    "\n",
    "# Sample Patient Data\n",
    "data = {\n",
    "    'Patient_ID': ['001', '002', '003', '004', '005', '006'],\n",
    "    'Name': ['John Doe', 'Jane Doe', 'Mary Johnson', 'James Brown', 'Sarah Green', 'Michael White'],\n",
    "    'Date_of_Birth': ['1980-05-01', '1992-07-15', '1970-08-22', '1995-02-28', '2003-09-10', '2000-03-15'],\n",
    "    'Gender': ['Male', 'Female', 'Female', 'Male', 'Female', 'Male'],\n",
    "    'Medications': ['Aspirin', 'Metformin', 'Incorrect Medicine', 'None', 'Ibuprofen', '-'],\n",
    "    'Diagnosis': ['Hypertension', 'Diabetes Type 2', 'Hypertension', '-', 'Asthma', 'Unspecified'],\n",
    "    'Date_of_Last_Visit': ['2025-03-01', '2025-01-15', '2024-12-10', '2025-03-20', '2025-04-05', '2025-03-10'],\n",
    "    'Primary_Care_Physician': ['Dr. Smith', 'Dr. Taylor', 'Dr. Davis', 'Dr. Smith', 'Dr. Taylor', 'Dr. Davis'],\n",
    "    'Insurance_Details': ['ABC Health', 'XYZ Insurance', 'DEF Health', 'ABC Health', 'XYZ Insurance', 'None']\n",
    "}\n",
    "\n",
    "# Convert to DataFrame\n",
    "df = pd.DataFrame(data)\n",
    "\n",
    "# Save to CSV\n",
    "df.to_csv('patient_data.csv', index=False)\n",
    "print(\"CSV file 'patient_data.csv' has been generated successfully!\")\n"
   ]
  },
  {
   "cell_type": "code",
   "execution_count": 12,
   "metadata": {},
   "outputs": [
    {
     "name": "stdout",
     "output_type": "stream",
     "text": [
      "Invalid medication for Patient ID 3: Incorrect Medicine\n",
      "Invalid medication for Patient ID 4: nan\n",
      "Missing or invalid diagnosis for Patient ID 4: -\n",
      "Missing or invalid diagnosis for Patient ID 6: Unspecified\n"
     ]
    }
   ],
   "source": [
    "# Write your code from here\n",
    "import pandas as pd\n",
    "from datetime import datetime\n",
    "\n",
    "# Load the dataset from the generated CSV file\n",
    "df = pd.read_csv('patient_data.csv')\n",
    "\n",
    "def validate_patient_data(df):\n",
    "    issues = []\n",
    "    \n",
    "    # Medication Validation\n",
    "    valid_medications = ['Aspirin', 'Metformin', 'Ibuprofen']\n",
    "    for index, row in df.iterrows():\n",
    "        if row['Medications'] not in valid_medications and row['Medications'] != '-':\n",
    "            issues.append(f\"Invalid medication for Patient ID {row['Patient_ID']}: {row['Medications']}\")\n",
    "    \n",
    "    # Diagnosis Validation\n",
    "    for index, row in df.iterrows():\n",
    "        if row['Diagnosis'] in ['-', 'Unspecified', 'None']:\n",
    "            issues.append(f\"Missing or invalid diagnosis for Patient ID {row['Patient_ID']}: {row['Diagnosis']}\")\n",
    "    \n",
    "    # Insurance Validation\n",
    "    for index, row in df.iterrows():\n",
    "        if row['Insurance_Details'] == 'None':\n",
    "            issues.append(f\"Missing insurance details for Patient ID {row['Patient_ID']}\")\n",
    "    \n",
    "    # Date Validation (DOB and Visit Date)\n",
    "    current_date = datetime.now()\n",
    "    for index, row in df.iterrows():\n",
    "        if pd.to_datetime(row['Date_of_Birth']) > current_date:\n",
    "            issues.append(f\"Future birthdate for Patient ID {row['Patient_ID']}: {row['Date_of_Birth']}\")\n",
    "        if pd.to_datetime(row['Date_of_Last_Visit']) > current_date:\n",
    "            issues.append(f\"Future visit date for Patient ID {row['Patient_ID']}: {row['Date_of_Last_Visit']}\")\n",
    "    \n",
    "    # Gender Consistency\n",
    "    valid_genders = ['Male', 'Female', 'Other']\n",
    "    for index, row in df.iterrows():\n",
    "        if row['Gender'] not in valid_genders:\n",
    "            issues.append(f\"Invalid gender for Patient ID {row['Patient_ID']}: {row['Gender']}\")\n",
    "    \n",
    "    return issues\n",
    "\n",
    "# Validate Patient Data\n",
    "validation_issues = validate_patient_data(df)\n",
    "if validation_issues:\n",
    "    for issue in validation_issues:\n",
    "        print(issue)\n",
    "else:\n",
    "    print(\"No issues found in the patient records.\")\n"
   ]
  },
  {
   "cell_type": "markdown",
   "metadata": {},
   "source": [
    "**Task 2**: Implement Healthcare Data Quality Checks\n",
    "\n",
    "**Objective**: Maintain accurate health records within a healthcare system.\n",
    "\n",
    "**Steps**:\n",
    "1. Develop a validation workflow for patient data.\n",
    "2. Use appropriate software to automate checks for common errors."
   ]
  },
  {
   "cell_type": "code",
   "execution_count": 13,
   "metadata": {},
   "outputs": [
    {
     "name": "stdout",
     "output_type": "stream",
     "text": [
      "Invalid medication for Patient ID 003: Incorrect Medicine\n",
      "Invalid medication for Patient ID 004: None\n",
      "Missing or invalid diagnosis for Patient ID 004: -\n",
      "Missing or invalid diagnosis for Patient ID 006: Unspecified\n",
      "Missing insurance details for Patient ID 006\n"
     ]
    }
   ],
   "source": [
    "# Write your code from here\n",
    "import pandas as pd\n",
    "from datetime import datetime\n",
    "\n",
    "# Sample Patient Data\n",
    "data = {\n",
    "    'Patient_ID': ['001', '002', '003', '004', '005', '006'],\n",
    "    'Name': ['John Doe', 'Jane Doe', 'Mary Johnson', 'James Brown', 'Sarah Green', 'Michael White'],\n",
    "    'Date_of_Birth': ['1980-05-01', '1992-07-15', '1970-08-22', '1995-02-28', '2003-09-10', '2000-03-15'],\n",
    "    'Gender': ['Male', 'Female', 'Female', 'Male', 'Female', 'Male'],\n",
    "    'Medications': ['Aspirin', 'Metformin', 'Incorrect Medicine', 'None', 'Ibuprofen', '-'],\n",
    "    'Diagnosis': ['Hypertension', 'Diabetes Type 2', 'Hypertension', '-', 'Asthma', 'Unspecified'],\n",
    "    'Date_of_Last_Visit': ['2025-03-01', '2025-01-15', '2024-12-10', '2025-03-20', '2025-04-05', '2025-03-10'],\n",
    "    'Primary_Care_Physician': ['Dr. Smith', 'Dr. Taylor', 'Dr. Davis', 'Dr. Smith', 'Dr. Taylor', 'Dr. Davis'],\n",
    "    'Insurance_Details': ['ABC Health', 'XYZ Insurance', 'DEF Health', 'ABC Health', 'XYZ Insurance', 'None']\n",
    "}\n",
    "\n",
    "# Convert to DataFrame\n",
    "df = pd.DataFrame(data)\n",
    "\n",
    "def validate_patient_data(df):\n",
    "    issues = []\n",
    "    \n",
    "    # Medication Validation\n",
    "    valid_medications = ['Aspirin', 'Metformin', 'Ibuprofen']\n",
    "    for index, row in df.iterrows():\n",
    "        if row['Medications'] not in valid_medications and row['Medications'] != '-':\n",
    "            issues.append(f\"Invalid medication for Patient ID {row['Patient_ID']}: {row['Medications']}\")\n",
    "    \n",
    "    # Diagnosis Validation\n",
    "    for index, row in df.iterrows():\n",
    "        if row['Diagnosis'] in ['-', 'Unspecified', 'None']:\n",
    "            issues.append(f\"Missing or invalid diagnosis for Patient ID {row['Patient_ID']}: {row['Diagnosis']}\")\n",
    "    \n",
    "    # Insurance Validation\n",
    "    for index, row in df.iterrows():\n",
    "        if row['Insurance_Details'] == 'None':\n",
    "            issues.append(f\"Missing insurance details for Patient ID {row['Patient_ID']}\")\n",
    "    \n",
    "    # Date Validation (DOB and Visit Date)\n",
    "    current_date = datetime.now()\n",
    "    for index, row in df.iterrows():\n",
    "        if pd.to_datetime(row['Date_of_Birth']) > current_date:\n",
    "            issues.append(f\"Future birthdate for Patient ID {row['Patient_ID']}: {row['Date_of_Birth']}\")\n",
    "        if pd.to_datetime(row['Date_of_Last_Visit']) > current_date:\n",
    "            issues.append(f\"Future visit date for Patient ID {row['Patient_ID']}: {row['Date_of_Last_Visit']}\")\n",
    "    \n",
    "    # Gender Consistency\n",
    "    valid_genders = ['Male', 'Female', 'Other']\n",
    "    for index, row in df.iterrows():\n",
    "        if row['Gender'] not in valid_genders:\n",
    "            issues.append(f\"Invalid gender for Patient ID {row['Patient_ID']}: {row['Gender']}\")\n",
    "    \n",
    "    return issues\n",
    "\n",
    "# Validate Patient Data\n",
    "validation_issues = validate_patient_data(df)\n",
    "if validation_issues:\n",
    "    for issue in validation_issues:\n",
    "        print(issue)\n",
    "else:\n",
    "    print(\"No issues found in the patient records.\")\n",
    "\n"
   ]
  }
 ],
 "metadata": {
  "kernelspec": {
   "display_name": "Python 3",
   "language": "python",
   "name": "python3"
  },
  "language_info": {
   "codemirror_mode": {
    "name": "ipython",
    "version": 3
   },
   "file_extension": ".py",
   "mimetype": "text/x-python",
   "name": "python",
   "nbconvert_exporter": "python",
   "pygments_lexer": "ipython3",
   "version": "3.10.12"
  }
 },
 "nbformat": 4,
 "nbformat_minor": 2
}
