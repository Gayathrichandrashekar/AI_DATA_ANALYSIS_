{
 "cells": [
  {
   "cell_type": "markdown",
   "metadata": {},
   "source": [
    "### Finance – Ensuring Accurate Transactions\n",
    "\n",
    "**Task 1**: Transaction Data Validation Insights\n",
    "\n",
    "**Objective**: Maintain transaction integrity.\n",
    "\n",
    "**Steps**:\n",
    "1. Choose a sample financial transaction dataset.\n",
    "2. Identify common transaction issues like duplicate entries or incorrect amounts.\n",
    "3. Develop a list of validation checks specific to financial transactions."
   ]
  },
  {
   "cell_type": "code",
   "execution_count": 12,
   "metadata": {},
   "outputs": [
    {
     "name": "stdout",
     "output_type": "stream",
     "text": [
      "✅ sample_transactions.csv created.\n"
     ]
    }
   ],
   "source": [
    "import pandas as pd\n",
    "\n",
    "data = {\n",
    "    'Transaction_ID': ['TXN001', 'TXN002', 'TXN003', 'TXN003', 'TXN005'],\n",
    "    'Date': ['2025-05-01', '2025-05-01', '2025-05-02', '2025-05-02', '2026-01-01'],\n",
    "    'Sender_Account': ['1234567890', '1234567890', '2345678901', '2345678901', '3456789012'],\n",
    "    'Receiver_Account': ['0987654321', '0987654321', '8765432109', '8765432109', '4567890123'],\n",
    "    'Amount': [500.00, -100.00, 250.00, 250.00, 99.999],\n",
    "    'Currency': ['USD', 'USD', 'USD', 'USD', 'usd'],\n",
    "    'Status': ['Success', 'Failed', 'Pending', 'Pending', 'Succcess']\n",
    "}\n",
    "\n",
    "df = pd.DataFrame(data)\n",
    "df.to_csv('sample_transactions.csv', index=False)\n",
    "print(\"✅ sample_transactions.csv created.\")\n"
   ]
  },
  {
   "cell_type": "code",
   "execution_count": 13,
   "metadata": {},
   "outputs": [],
   "source": [
    "import pandas as pd\n",
    "from datetime import datetime\n",
    "\n",
    "def validate_transactions(df):\n",
    "    issues = {}\n",
    "\n",
    "    try:\n",
    "        df['Date'] = pd.to_datetime(df['Date'], errors='coerce')\n",
    "    except Exception as e:\n",
    "        issues['date_conversion_error'] = str(e)\n",
    "        return issues\n",
    "\n",
    "    try:\n",
    "        issues['duplicate_ids'] = df[df.duplicated('Transaction_ID', keep=False)]\n",
    "        issues['invalid_amounts'] = df[(df['Amount'] <= 0) & (df['Status'] == 'Success')]\n",
    "        issues['invalid_currency'] = df[~df['Currency'].isin(['USD', 'EUR', 'INR'])]\n",
    "        issues['missing_fields'] = df[df[['Transaction_ID', 'Amount', 'Sender_Account', 'Status']].isnull().any(axis=1)]\n",
    "        issues['invalid_accounts'] = df[~df['Sender_Account'].astype(str).str.match(r'^\\d{10}$')]\n",
    "        issues['invalid_status'] = df[~df['Status'].isin(['Success', 'Failed', 'Pending'])]\n",
    "        issues['future_dates'] = df[df['Date'] > pd.to_datetime(datetime.now())]\n",
    "        issues['duplicate_rows'] = df[df.duplicated(['Sender_Account', 'Receiver_Account', 'Amount', 'Date'], keep=False)]\n",
    "        issues['decimal_precision'] = df[df['Amount'].apply(lambda x: round(x, 2) != x)]\n",
    "    except Exception as e:\n",
    "        issues['processing_error'] = str(e)\n",
    "\n",
    "    return issues\n"
   ]
  },
  {
   "cell_type": "markdown",
   "metadata": {},
   "source": [
    "**Task 2**: Implement Financial Data Validation\n",
    "\n",
    "**Objective**: Use automated tools to ensure transaction accuracy.\n",
    "\n",
    "**Steps**:\n",
    "1. Integrate data validation rules into your existing financial systems.\n",
    "2. Ensure real-time checks to validate data upon entry."
   ]
  },
  {
   "cell_type": "code",
   "execution_count": 14,
   "metadata": {},
   "outputs": [],
   "source": [
    "# Write your code from here\n",
    "import pandas as pd\n",
    "from datetime import datetime\n",
    "\n",
    "def validate_transactions(df):\n",
    "    issues = {}\n",
    "\n",
    "    # 1. Duplicate Transaction_ID\n",
    "    issues['duplicate_ids'] = df[df.duplicated('Transaction_ID', keep=False)]\n",
    "\n",
    "    # 2. Negative or Zero Amounts for 'Success'\n",
    "    issues['invalid_amounts'] = df[(df['Amount'] <= 0) & (df['Status'] == 'Success')]\n",
    "\n",
    "    # 3. Invalid Currency\n",
    "    valid_currencies = ['USD', 'EUR', 'INR']\n",
    "    issues['invalid_currency'] = df[~df['Currency'].isin(valid_currencies)]\n",
    "\n",
    "    # 4. Missing Required Fields\n",
    "    issues['missing_fields'] = df[df[['Transaction_ID', 'Amount', 'Sender_Account', 'Status']].isnull().any(axis=1)]\n",
    "\n",
    "    # 5. Invalid Account Format\n",
    "    issues['invalid_accounts'] = df[~df['Sender_Account'].astype(str).str.isnumeric() |\n",
    "                                    (df['Sender_Account'].astype(str).str.len() != 10)]\n",
    "\n",
    "    # 6. Incorrect Status\n",
    "    valid_statuses = ['Success', 'Failed', 'Pending']\n",
    "    issues['invalid_status'] = df[~df['Status'].isin(valid_statuses)]\n",
    "\n",
    "    # 7. Future Dates\n",
    "    issues['future_dates'] = df[df['Date'] > pd.to_datetime(datetime.now())]\n",
    "\n",
    "    # 8. Duplicate Transaction Details\n",
    "    issues['duplicate_rows'] = df[df.duplicated(['Sender_Account', 'Receiver_Account', 'Amount', 'Date'], keep=False)]\n",
    "\n",
    "    # 9. Too Many Decimals\n",
    "    issues['decimal_precision'] = df[df['Amount'].apply(lambda x: round(x, 2) != x)]\n",
    "\n",
    "    return issues\n",
    "\n"
   ]
  },
  {
   "cell_type": "code",
   "execution_count": 15,
   "metadata": {},
   "outputs": [
    {
     "ename": "ModuleNotFoundError",
     "evalue": "No module named 'validation_module'",
     "output_type": "error",
     "traceback": [
      "\u001b[0;31m---------------------------------------------------------------------------\u001b[0m",
      "\u001b[0;31mModuleNotFoundError\u001b[0m                       Traceback (most recent call last)",
      "Cell \u001b[0;32mIn[15], line 3\u001b[0m\n\u001b[1;32m      1\u001b[0m \u001b[38;5;28;01mimport\u001b[39;00m\u001b[38;5;250m \u001b[39m\u001b[38;5;21;01munittest\u001b[39;00m\n\u001b[1;32m      2\u001b[0m \u001b[38;5;28;01mimport\u001b[39;00m\u001b[38;5;250m \u001b[39m\u001b[38;5;21;01mpandas\u001b[39;00m\u001b[38;5;250m \u001b[39m\u001b[38;5;28;01mas\u001b[39;00m\u001b[38;5;250m \u001b[39m\u001b[38;5;21;01mpd\u001b[39;00m\n\u001b[0;32m----> 3\u001b[0m \u001b[38;5;28;01mfrom\u001b[39;00m\u001b[38;5;250m \u001b[39m\u001b[38;5;21;01mvalidation_module\u001b[39;00m\u001b[38;5;250m \u001b[39m\u001b[38;5;28;01mimport\u001b[39;00m validate_transactions\n\u001b[1;32m      5\u001b[0m \u001b[38;5;28;01mclass\u001b[39;00m\u001b[38;5;250m \u001b[39m\u001b[38;5;21;01mTestTransactionValidation\u001b[39;00m(unittest\u001b[38;5;241m.\u001b[39mTestCase):\n\u001b[1;32m      6\u001b[0m     \u001b[38;5;28;01mdef\u001b[39;00m\u001b[38;5;250m \u001b[39m\u001b[38;5;21msetUp\u001b[39m(\u001b[38;5;28mself\u001b[39m):\n",
      "\u001b[0;31mModuleNotFoundError\u001b[0m: No module named 'validation_module'"
     ]
    }
   ],
   "source": [
    "import unittest\n",
    "import pandas as pd\n",
    "from validation_module import validate_transactions\n",
    "\n",
    "class TestTransactionValidation(unittest.TestCase):\n",
    "    def setUp(self):\n",
    "        self.df = pd.DataFrame({\n",
    "            'Transaction_ID': ['T1', 'T1'],\n",
    "            'Date': ['2025-05-01', '2025-05-01'],\n",
    "            'Sender_Account': ['1234567890', '1234567890'],\n",
    "            'Receiver_Account': ['0987654321', '0987654321'],\n",
    "            'Amount': [100.00, -50.00],\n",
    "            'Currency': ['USD', 'USD'],\n",
    "            'Status': ['Success', 'Success']\n",
    "        })\n",
    "        self.df['Date'] = pd.to_datetime(self.df['Date'])\n",
    "\n",
    "    def test_duplicate_ids(self):\n",
    "        issues = validate_transactions(self.df)\n",
    "        self.assertFalse(issues['duplicate_ids'].empty)\n",
    "\n",
    "    def test_invalid_amounts(self):\n",
    "        issues = validate_transactions(self.df)\n",
    "        self.assertFalse(issues['invalid_amounts'].empty)\n",
    "\n",
    "if __name__ == '__main__':\n",
    "    unittest.main()\n"
   ]
  }
 ],
 "metadata": {
  "kernelspec": {
   "display_name": "Python 3",
   "language": "python",
   "name": "python3"
  },
  "language_info": {
   "codemirror_mode": {
    "name": "ipython",
    "version": 3
   },
   "file_extension": ".py",
   "mimetype": "text/x-python",
   "name": "python",
   "nbconvert_exporter": "python",
   "pygments_lexer": "ipython3",
   "version": "3.10.12"
  }
 },
 "nbformat": 4,
 "nbformat_minor": 2
}
