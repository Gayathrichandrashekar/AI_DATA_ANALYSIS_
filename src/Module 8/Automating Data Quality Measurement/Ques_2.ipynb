{
 "cells": [
  {
   "cell_type": "markdown",
   "metadata": {},
   "source": [
    "### Task 1: Validate Data with a Custom Expectation in Great Expectations\n",
    "**Description**: Create a custom expectation and validate data with Great Expectations.\n",
    "\n",
    "**Load a sample DataFrame**\n",
    "\n",
    "data = {\n",
    "'age': [25, 30, 35, 40, 45],\n",
    "'income': [50000, 60000, 75000, None, 100000]\n",
    "}"
   ]
  },
  {
   "cell_type": "code",
   "execution_count": 8,
   "metadata": {},
   "outputs": [
    {
     "ename": "ImportError",
     "evalue": "cannot import name 'ExpectationConfiguration' from 'great_expectations.core' (/home/vscode/.local/lib/python3.10/site-packages/great_expectations/core/__init__.py)",
     "output_type": "error",
     "traceback": [
      "\u001b[0;31m---------------------------------------------------------------------------\u001b[0m",
      "\u001b[0;31mImportError\u001b[0m                               Traceback (most recent call last)",
      "Cell \u001b[0;32mIn[8], line 6\u001b[0m\n\u001b[1;32m      4\u001b[0m \u001b[38;5;28;01mfrom\u001b[39;00m\u001b[38;5;250m \u001b[39m\u001b[38;5;21;01memail\u001b[39;00m\u001b[38;5;21;01m.\u001b[39;00m\u001b[38;5;21;01mmime\u001b[39;00m\u001b[38;5;21;01m.\u001b[39;00m\u001b[38;5;21;01mmultipart\u001b[39;00m\u001b[38;5;250m \u001b[39m\u001b[38;5;28;01mimport\u001b[39;00m MIMEMultipart\n\u001b[1;32m      5\u001b[0m \u001b[38;5;28;01mimport\u001b[39;00m\u001b[38;5;250m \u001b[39m\u001b[38;5;21;01mgreat_expectations\u001b[39;00m\u001b[38;5;250m \u001b[39m\u001b[38;5;28;01mas\u001b[39;00m\u001b[38;5;250m \u001b[39m\u001b[38;5;21;01mge\u001b[39;00m\n\u001b[0;32m----> 6\u001b[0m \u001b[38;5;28;01mfrom\u001b[39;00m\u001b[38;5;250m \u001b[39m\u001b[38;5;21;01mgreat_expectations\u001b[39;00m\u001b[38;5;21;01m.\u001b[39;00m\u001b[38;5;21;01mcore\u001b[39;00m\u001b[38;5;250m \u001b[39m\u001b[38;5;28;01mimport\u001b[39;00m ExpectationConfiguration\n\u001b[1;32m      7\u001b[0m \u001b[38;5;28;01mimport\u001b[39;00m\u001b[38;5;250m \u001b[39m\u001b[38;5;21;01mtime\u001b[39;00m\n\u001b[1;32m      9\u001b[0m \u001b[38;5;66;03m# Task 1: Custom Expectation using Great Expectations\u001b[39;00m\n\u001b[1;32m     10\u001b[0m \n\u001b[1;32m     11\u001b[0m \u001b[38;5;66;03m# Sample DataFrame\u001b[39;00m\n",
      "\u001b[0;31mImportError\u001b[0m: cannot import name 'ExpectationConfiguration' from 'great_expectations.core' (/home/vscode/.local/lib/python3.10/site-packages/great_expectations/core/__init__.py)"
     ]
    }
   ],
   "source": [
    "import pandas as pd\n",
    "import smtplib\n",
    "from email.mime.text import MIMEText\n",
    "from email.mime.multipart import MIMEMultipart\n",
    "import great_expectations as ge\n",
    "from great_expectations.core import ExpectationConfiguration\n",
    "import time\n",
    "\n",
    "# Task 1: Custom Expectation using Great Expectations\n",
    "\n",
    "# Sample DataFrame\n",
    "data = {'age': [25, 30, 35, 40, 45], 'income': [50000, 60000, 75000, None, 100000]}\n",
    "df = pd.DataFrame(data)\n",
    "\n",
    "# Create a Great Expectations dataframe\n",
    "ge_df = ge.from_pandas(df)\n",
    "\n",
    "# Use Great Expectations' built-in expectation for age\n",
    "ge_df.expect_column_values_to_be_between(\"age\", 18, 120)\n",
    "\n",
    "# Task 2: Email Alert System with Enhanced Error Handling\n",
    "\n",
    "def send_email_alert(subject, body, recipient_email):\n",
    "    try:\n",
    "        # Email configuration\n",
    "        sender_email = \"your_email@example.com\"\n",
    "        password = \"your_password\"\n",
    "        smtp_server = \"smtp.example.com\"\n",
    "        smtp_port = 587\n",
    "\n",
    "        # Create email message\n",
    "        msg = MIMEMultipart()\n",
    "        msg['From'] = sender_email\n",
    "        msg['To'] = recipient_email\n",
    "        msg['Subject'] = subject\n",
    "        msg.attach(MIMEText(body, 'plain'))\n",
    "\n",
    "        # Connect to the email server and send the email\n",
    "        with smtplib.SMTP(smtp_server, smtp_port) as server:\n",
    "            server.starttls()  # Secure the connection\n",
    "            server.login(sender_email, password)\n",
    "            text = msg.as_string()\n",
    "            server.sendmail(sender_email, recipient_email, text)\n",
    "            print(f\"Email sent successfully to {recipient_email}\")\n",
    "            \n",
    "    except smtplib.SMTPException as e:\n",
    "        print(f\"SMTP error occurred: {e}\")\n",
    "    except Exception as e:\n",
    "        print(f\"An error occurred: {e}\")\n",
    "\n",
    "# Task 3: Real-time Data Quality Monitoring\n",
    "\n",
    "def fetch_new_data():\n",
    "    # Placeholder function to simulate fetching new data\n",
    "    # Replace with actual data fetching mechanism (e.g., from a database or API)\n",
    "    new_data = {'age': [50], 'income': [120000]}\n",
    "    return pd.DataFrame(new_data)\n",
    "\n",
    "def check_data_quality(data):\n",
    "    # Placeholder function to simulate data quality check\n",
    "    # Check for missing values or any other criteria\n",
    "    if data['income'].isnull().any():\n",
    "        return False\n",
    "    return True\n",
    "\n",
    "def monitor_data_quality_stream():\n",
    "    while True:\n",
    "        # Simulate data ingestion (Replace this with actual data fetching)\n",
    "        data = fetch_new_data()\n",
    "\n",
    "        # Perform data quality checks\n",
    "        if not check_data_quality(data):\n",
    "            send_email_alert(\n",
    "                \"Data quality issue detected\",\n",
    "                \"Data quality is below acceptable thresholds.\",\n",
    "                \"recipient@example.com\"\n",
    "            )\n",
    "\n",
    "        # Wait for new data or events\n",
    "        time.sleep(60)  # Wait for 1 minute, adjust as needed\n",
    "\n",
    "# Call the function to start monitoring\n",
    "monitor_data_quality_stream()\n"
   ]
  },
  {
   "cell_type": "markdown",
   "metadata": {},
   "source": [
    "### Task 2: Implement a Basic Alert System for Data Quality Drops\n",
    "**Description**: Set up a basic alert system that triggers when data quality drops."
   ]
  },
  {
   "cell_type": "code",
   "execution_count": null,
   "metadata": {},
   "outputs": [
    {
     "ename": "ModuleNotFoundError",
     "evalue": "No module named 'great_expectations.dataset'",
     "output_type": "error",
     "traceback": [
      "\u001b[0;31m---------------------------------------------------------------------------\u001b[0m",
      "\u001b[0;31mModuleNotFoundError\u001b[0m                       Traceback (most recent call last)",
      "Cell \u001b[0;32mIn[5], line 4\u001b[0m\n\u001b[1;32m      2\u001b[0m \u001b[38;5;28;01mimport\u001b[39;00m\u001b[38;5;250m \u001b[39m\u001b[38;5;21;01mpandas\u001b[39;00m\u001b[38;5;250m \u001b[39m\u001b[38;5;28;01mas\u001b[39;00m\u001b[38;5;250m \u001b[39m\u001b[38;5;21;01mpd\u001b[39;00m\n\u001b[1;32m      3\u001b[0m \u001b[38;5;28;01mimport\u001b[39;00m\u001b[38;5;250m \u001b[39m\u001b[38;5;21;01mgreat_expectations\u001b[39;00m\u001b[38;5;250m \u001b[39m\u001b[38;5;28;01mas\u001b[39;00m\u001b[38;5;250m \u001b[39m\u001b[38;5;21;01mge\u001b[39;00m\n\u001b[0;32m----> 4\u001b[0m \u001b[38;5;28;01mfrom\u001b[39;00m\u001b[38;5;250m \u001b[39m\u001b[38;5;21;01mgreat_expectations\u001b[39;00m\u001b[38;5;21;01m.\u001b[39;00m\u001b[38;5;21;01mdataset\u001b[39;00m\u001b[38;5;250m \u001b[39m\u001b[38;5;28;01mimport\u001b[39;00m PandasDataset\n\u001b[1;32m      5\u001b[0m \u001b[38;5;28;01mimport\u001b[39;00m\u001b[38;5;250m \u001b[39m\u001b[38;5;21;01msmtplib\u001b[39;00m\n\u001b[1;32m      6\u001b[0m \u001b[38;5;28;01mfrom\u001b[39;00m\u001b[38;5;250m \u001b[39m\u001b[38;5;21;01memail\u001b[39;00m\u001b[38;5;21;01m.\u001b[39;00m\u001b[38;5;21;01mmime\u001b[39;00m\u001b[38;5;21;01m.\u001b[39;00m\u001b[38;5;21;01mtext\u001b[39;00m\u001b[38;5;250m \u001b[39m\u001b[38;5;28;01mimport\u001b[39;00m MIMEText\n",
      "\u001b[0;31mModuleNotFoundError\u001b[0m: No module named 'great_expectations.dataset'"
     ]
    }
   ],
   "source": [
    "# Write your code from here\n",
    "import pandas as pd\n",
    "import great_expectations as ge\n",
    "from great_expectations.dataset import PandasDataset\n",
    "import smtplib\n",
    "from email.mime.text import MIMEText\n",
    "\n",
    "# Function to send an email alert\n",
    "def send_email_alert(message):\n",
    "    from_email = \"your_email@example.com\"\n",
    "    to_email = \"recipient_email@example.com\"\n",
    "    msg = MIMEText(message)\n",
    "    msg[\"Subject\"] = \"Data Quality Alert\"\n",
    "    msg[\"From\"] = from_email\n",
    "    msg[\"To\"] = to_email\n",
    "\n",
    "    try:\n",
    "        with smtplib.SMTP('smtp.example.com') as server:  # Use your SMTP server\n",
    "            server.login('your_email@example.com', 'your_password')  # Login to SMTP server\n",
    "            server.sendmail(from_email, to_email, msg.as_string())\n",
    "        print(\"Alert sent successfully!\")\n",
    "    except Exception as e:\n",
    "        print(f\"Failed to send alert: {e}\")\n",
    "\n",
    "# Load a sample DataFrame\n",
    "data = {'age': [25, 30, 35, 40, 45], 'income': [50000, 60000, 75000, None, 100000]}\n",
    "df = pd.DataFrame(data)\n",
    "\n",
    "# Convert pandas DataFrame to Great Expectations dataset\n",
    "ge_df = ge.from_pandas(df)\n",
    "\n",
    "# Check if there are any missing values in the 'income' column\n",
    "if ge_df['income'].isnull().any():\n",
    "    # Send an email alert if missing data is found\n",
    "    send_email_alert(\"Data Quality Alert: Missing values found in the 'income' column.\")\n",
    "else:\n",
    "    print(\"Data Quality Check Passed: No missing values in 'income'.\")\n"
   ]
  },
  {
   "cell_type": "markdown",
   "metadata": {},
   "source": [
    "### Task 3: Real-time Data Quality Monitoring with Python and Great Expectations\n",
    "**Description**: Implement a system that monitors data quality in real-time."
   ]
  },
  {
   "cell_type": "code",
   "execution_count": null,
   "metadata": {},
   "outputs": [
    {
     "ename": "ModuleNotFoundError",
     "evalue": "No module named 'great_expectations.dataset'",
     "output_type": "error",
     "traceback": [
      "\u001b[0;31m---------------------------------------------------------------------------\u001b[0m",
      "\u001b[0;31mModuleNotFoundError\u001b[0m                       Traceback (most recent call last)",
      "Cell \u001b[0;32mIn[4], line 4\u001b[0m\n\u001b[1;32m      2\u001b[0m \u001b[38;5;28;01mimport\u001b[39;00m\u001b[38;5;250m \u001b[39m\u001b[38;5;21;01mpandas\u001b[39;00m\u001b[38;5;250m \u001b[39m\u001b[38;5;28;01mas\u001b[39;00m\u001b[38;5;250m \u001b[39m\u001b[38;5;21;01mpd\u001b[39;00m\n\u001b[1;32m      3\u001b[0m \u001b[38;5;28;01mimport\u001b[39;00m\u001b[38;5;250m \u001b[39m\u001b[38;5;21;01mgreat_expectations\u001b[39;00m\u001b[38;5;250m \u001b[39m\u001b[38;5;28;01mas\u001b[39;00m\u001b[38;5;250m \u001b[39m\u001b[38;5;21;01mge\u001b[39;00m\n\u001b[0;32m----> 4\u001b[0m \u001b[38;5;28;01mfrom\u001b[39;00m\u001b[38;5;250m \u001b[39m\u001b[38;5;21;01mgreat_expectations\u001b[39;00m\u001b[38;5;21;01m.\u001b[39;00m\u001b[38;5;21;01mdataset\u001b[39;00m\u001b[38;5;250m \u001b[39m\u001b[38;5;28;01mimport\u001b[39;00m PandasDataset\n\u001b[1;32m      5\u001b[0m \u001b[38;5;28;01mimport\u001b[39;00m\u001b[38;5;250m \u001b[39m\u001b[38;5;21;01mtime\u001b[39;00m\n\u001b[1;32m      7\u001b[0m \u001b[38;5;66;03m# Function to simulate real-time data monitoring\u001b[39;00m\n",
      "\u001b[0;31mModuleNotFoundError\u001b[0m: No module named 'great_expectations.dataset'"
     ]
    }
   ],
   "source": [
    "# Write your code from here\n",
    "import pandas as pd\n",
    "import great_expectations as ge\n",
    "from great_expectations.dataset import PandasDataset\n",
    "import time\n",
    "\n",
    "# Function to simulate real-time data monitoring\n",
    "def real_time_data_quality_check(df):\n",
    "    ge_df = ge.from_pandas(df)\n",
    "\n",
    "    # Define a basic check to see if the 'income' column contains missing values\n",
    "    result = ge_df.expect_column_values_to_be_in_set('income', set(range(0, 1000000)))\n",
    "\n",
    "    if result['success'] == False:\n",
    "        print(\"Data Quality Issue Detected! Missing or invalid values found in the 'income' column.\")\n",
    "    else:\n",
    "        print(\"Data Quality Check Passed.\")\n",
    "\n",
    "# Simulate real-time data monitoring\n",
    "while True:\n",
    "    # Sample Data (This could be dynamically loaded in real-time)\n",
    "    data = {'age': [25, 30, 35, 40, 45], 'income': [50000, 60000, 75000, None, 100000]}\n",
    "    df = pd.DataFrame(data)\n",
    "\n",
    "    # Perform a real-time data quality check\n",
    "    real_time_data_quality_check(df)\n",
    "    \n",
    "    # Sleep for 5 seconds before checking again (simulate real-time monitoring)\n",
    "    time.sleep(5)\n"
   ]
  }
 ],
 "metadata": {
  "kernelspec": {
   "display_name": "Python 3",
   "language": "python",
   "name": "python3"
  },
  "language_info": {
   "codemirror_mode": {
    "name": "ipython",
    "version": 3
   },
   "file_extension": ".py",
   "mimetype": "text/x-python",
   "name": "python",
   "nbconvert_exporter": "python",
   "pygments_lexer": "ipython3",
   "version": "3.10.12"
  }
 },
 "nbformat": 4,
 "nbformat_minor": 2
}
