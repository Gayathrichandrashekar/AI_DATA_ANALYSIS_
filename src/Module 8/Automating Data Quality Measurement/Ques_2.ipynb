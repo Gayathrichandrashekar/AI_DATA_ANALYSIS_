{
 "cells": [
  {
   "cell_type": "markdown",
   "metadata": {},
   "source": [
    "### Task 1: Validate Data with a Custom Expectation in Great Expectations\n",
    "**Description**: Create a custom expectation and validate data with Great Expectations.\n",
    "\n",
    "**Load a sample DataFrame**\n",
    "\n",
    "data = {\n",
    "'age': [25, 30, 35, 40, 45],\n",
    "'income': [50000, 60000, 75000, None, 100000]\n",
    "}"
   ]
  },
  {
   "cell_type": "code",
   "execution_count": 11,
   "metadata": {},
   "outputs": [
    {
     "ename": "AttributeError",
     "evalue": "module 'great_expectations' has no attribute 'from_pandas'",
     "output_type": "error",
     "traceback": [
      "\u001b[0;31m---------------------------------------------------------------------------\u001b[0m",
      "\u001b[0;31mAttributeError\u001b[0m                            Traceback (most recent call last)",
      "Cell \u001b[0;32mIn[11], line 15\u001b[0m\n\u001b[1;32m     12\u001b[0m df \u001b[38;5;241m=\u001b[39m pd\u001b[38;5;241m.\u001b[39mDataFrame(data)\n\u001b[1;32m     14\u001b[0m \u001b[38;5;66;03m# Create a Great Expectations dataframe\u001b[39;00m\n\u001b[0;32m---> 15\u001b[0m ge_df \u001b[38;5;241m=\u001b[39m \u001b[43mge\u001b[49m\u001b[38;5;241;43m.\u001b[39;49m\u001b[43mfrom_pandas\u001b[49m(df)\n\u001b[1;32m     17\u001b[0m \u001b[38;5;66;03m# Use Great Expectations' built-in expectation for age\u001b[39;00m\n\u001b[1;32m     18\u001b[0m ge_df\u001b[38;5;241m.\u001b[39mexpect_column_values_to_be_between(\u001b[38;5;124m\"\u001b[39m\u001b[38;5;124mage\u001b[39m\u001b[38;5;124m\"\u001b[39m, \u001b[38;5;241m18\u001b[39m, \u001b[38;5;241m120\u001b[39m)\n",
      "\u001b[0;31mAttributeError\u001b[0m: module 'great_expectations' has no attribute 'from_pandas'"
     ]
    }
   ],
   "source": [
    "import pandas as pd\n",
    "import smtplib\n",
    "from email.mime.text import MIMEText\n",
    "from email.mime.multipart import MIMEMultipart\n",
    "import great_expectations as ge\n",
    "import time\n",
    "\n",
    "# Task 1: Custom Expectation using Great Expectations\n",
    "\n",
    "# Sample DataFrame\n",
    "data = {'age': [25, 30, 35, 40, 45], 'income': [50000, 60000, 75000, None, 100000]}\n",
    "df = pd.DataFrame(data)\n",
    "\n",
    "# Create a Great Expectations dataframe\n",
    "ge_df = ge.from_pandas(df)\n",
    "\n",
    "# Use Great Expectations' built-in expectation for age\n",
    "ge_df.expect_column_values_to_be_between(\"age\", 18, 120)\n",
    "\n",
    "# Task 2: Email Alert System with Enhanced Error Handling\n",
    "\n",
    "def send_email_alert(subject, body, recipient_email):\n",
    "    try:\n",
    "        # Email configuration\n",
    "        sender_email = \"your_email@example.com\"\n",
    "        password = \"your_password\"\n",
    "        smtp_server = \"smtp.example.com\"\n",
    "        smtp_port = 587\n",
    "\n",
    "        # Create email message\n",
    "        msg = MIMEMultipart()\n",
    "        msg['From'] = sender_email\n",
    "        msg['To'] = recipient_email\n",
    "        msg['Subject'] = subject\n",
    "        msg.attach(MIMEText(body, 'plain'))\n",
    "\n",
    "        # Connect to the email server and send the email\n",
    "        with smtplib.SMTP(smtp_server, smtp_port) as server:\n",
    "            server.starttls()  # Secure the connection\n",
    "            server.login(sender_email, password)\n",
    "            text = msg.as_string()\n",
    "            server.sendmail(sender_email, recipient_email, text)\n",
    "            print(f\"Email sent successfully to {recipient_email}\")\n",
    "            \n",
    "    except smtplib.SMTPException as e:\n",
    "        print(f\"SMTP error occurred: {e}\")\n",
    "    except Exception as e:\n",
    "        print(f\"An error occurred: {e}\")\n",
    "\n",
    "# Task 3: Real-time Data Quality Monitoring\n",
    "\n",
    "def fetch_new_data():\n",
    "    # Placeholder function to simulate fetching new data\n",
    "    # Replace with actual data fetching mechanism (e.g., from a database or API)\n",
    "    new_data = {'age': [50], 'income': [120000]}\n",
    "    return pd.DataFrame(new_data)\n",
    "\n",
    "def check_data_quality(data):\n",
    "    # Placeholder function to simulate data quality check\n",
    "    # Check for missing values or any other criteria\n",
    "    if data['income'].isnull().any():\n",
    "        return False\n",
    "    return True\n",
    "\n",
    "def monitor_data_quality_stream():\n",
    "    while True:\n",
    "        # Simulate data ingestion (Replace this with actual data fetching)\n",
    "        data = fetch_new_data()\n",
    "\n",
    "        # Perform data quality checks\n",
    "        if not check_data_quality(data):\n",
    "            send_email_alert(\n",
    "                \"Data quality issue detected\",\n",
    "                \"Data quality is below acceptable thresholds.\",\n",
    "                \"recipient@example.com\"\n",
    "            )\n",
    "\n",
    "        # Wait for new data or events\n",
    "        time.sleep(60)  # Wait for 1 minute, adjust as needed\n",
    "\n",
    "# Call the function to start monitoring\n",
    "monitor_data_quality_stream()\n"
   ]
  },
  {
   "cell_type": "markdown",
   "metadata": {},
   "source": [
    "### Task 2: Implement a Basic Alert System for Data Quality Drops\n",
    "**Description**: Set up a basic alert system that triggers when data quality drops."
   ]
  },
  {
   "cell_type": "markdown",
   "metadata": {},
   "source": [
    "### Task 3: Real-time Data Quality Monitoring with Python and Great Expectations\n",
    "**Description**: Implement a system that monitors data quality in real-time."
   ]
  }
 ],
 "metadata": {
  "kernelspec": {
   "display_name": "Python 3",
   "language": "python",
   "name": "python3"
  },
  "language_info": {
   "codemirror_mode": {
    "name": "ipython",
    "version": 3
   },
   "file_extension": ".py",
   "mimetype": "text/x-python",
   "name": "python",
   "nbconvert_exporter": "python",
   "pygments_lexer": "ipython3",
   "version": "3.10.12"
  }
 },
 "nbformat": 4,
 "nbformat_minor": 2
}
