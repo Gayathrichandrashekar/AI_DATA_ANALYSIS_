{
 "cells": [
  {
   "cell_type": "markdown",
   "metadata": {},
   "source": [
    "## Using AI for Anomalies Detection in Data Quality\n",
    "**Description**: Implement an AI-based approach to detect anomalies in data quality.\n",
    "\n",
    "**Steps**:\n",
    "1. Use an Anomaly Detection Algorithm:\n",
    "    - Use sklearn's Isolation Forest for anomaly detection.\n",
    "\n",
    "**Example data:**\n",
    "\n",
    "data = np.array([[25, 50000], [30, 60000], [35, 75000], [40, None], [45, 100000]])\n",
    "\n",
    "2. Integrate with Great Expectations:\n",
    "    - Generate alerts if anomalies are detected:"
   ]
  },
  {
   "cell_type": "code",
   "execution_count": 2,
   "metadata": {},
   "outputs": [
    {
     "ename": "ModuleNotFoundError",
     "evalue": "No module named 'great_expectations.dataset'",
     "output_type": "error",
     "traceback": [
      "\u001b[0;31m---------------------------------------------------------------------------\u001b[0m",
      "\u001b[0;31mModuleNotFoundError\u001b[0m                       Traceback (most recent call last)",
      "Cell \u001b[0;32mIn[2], line 5\u001b[0m\n\u001b[1;32m      3\u001b[0m \u001b[38;5;28;01mfrom\u001b[39;00m\u001b[38;5;250m \u001b[39m\u001b[38;5;21;01msklearn\u001b[39;00m\u001b[38;5;21;01m.\u001b[39;00m\u001b[38;5;21;01mensemble\u001b[39;00m\u001b[38;5;250m \u001b[39m\u001b[38;5;28;01mimport\u001b[39;00m IsolationForest\n\u001b[1;32m      4\u001b[0m \u001b[38;5;28;01mimport\u001b[39;00m\u001b[38;5;250m \u001b[39m\u001b[38;5;21;01mgreat_expectations\u001b[39;00m\u001b[38;5;250m \u001b[39m\u001b[38;5;28;01mas\u001b[39;00m\u001b[38;5;250m \u001b[39m\u001b[38;5;21;01mge\u001b[39;00m\n\u001b[0;32m----> 5\u001b[0m \u001b[38;5;28;01mfrom\u001b[39;00m\u001b[38;5;250m \u001b[39m\u001b[38;5;21;01mgreat_expectations\u001b[39;00m\u001b[38;5;21;01m.\u001b[39;00m\u001b[38;5;21;01mdataset\u001b[39;00m\u001b[38;5;250m \u001b[39m\u001b[38;5;28;01mimport\u001b[39;00m PandasDataset\n\u001b[1;32m      7\u001b[0m \u001b[38;5;66;03m# Example data (including a None value that represents a missing entry)\u001b[39;00m\n\u001b[1;32m      8\u001b[0m data \u001b[38;5;241m=\u001b[39m np\u001b[38;5;241m.\u001b[39marray([[\u001b[38;5;241m25\u001b[39m, \u001b[38;5;241m50000\u001b[39m], [\u001b[38;5;241m30\u001b[39m, \u001b[38;5;241m60000\u001b[39m], [\u001b[38;5;241m35\u001b[39m, \u001b[38;5;241m75000\u001b[39m], [\u001b[38;5;241m40\u001b[39m, \u001b[38;5;28;01mNone\u001b[39;00m], [\u001b[38;5;241m45\u001b[39m, \u001b[38;5;241m100000\u001b[39m]])\n",
      "\u001b[0;31mModuleNotFoundError\u001b[0m: No module named 'great_expectations.dataset'"
     ]
    }
   ],
   "source": [
    "import numpy as np\n",
    "import pandas as pd\n",
    "from sklearn.ensemble import IsolationForest\n",
    "import great_expectations as ge\n",
    "from great_expectations.dataset import PandasDataset\n",
    "\n",
    "# Example data (including a None value that represents a missing entry)\n",
    "data = np.array([[25, 50000], [30, 60000], [35, 75000], [40, None], [45, 100000]])\n",
    "\n",
    "# Convert to a DataFrame to handle missing values\n",
    "df = pd.DataFrame(data, columns=['Age', 'Salary'])\n",
    "\n",
    "# Handle missing values (imputation or removal)\n",
    "df['Salary'] = df['Salary'].fillna(df['Salary'].mean())  # Using mean imputation\n",
    "\n",
    "# Apply Isolation Forest for anomaly detection\n",
    "model = IsolationForest(contamination=0.2)  # Assuming 20% anomaly contamination rate\n",
    "anomalies = model.fit_predict(df)\n",
    "\n",
    "# Mark anomalies (1 = normal, -1 = anomaly)\n",
    "df['Anomaly'] = anomalies\n",
    "\n",
    "# Integrating with Great Expectations\n",
    "df_ge = PandasDataset(df)\n",
    "\n",
    "# Create a simple expectation for checking anomalies\n",
    "expectation_result = df_ge.expect_column_values_to_be_in_set('Anomaly', [1])\n",
    "\n",
    "# Checking for anomalies and generating alert\n",
    "if -1 in df['Anomaly'].values:\n",
    "    print(\"Alert: Anomalies detected in the dataset!\")\n",
    "else:\n",
    "    print(\"Data quality is fine. No anomalies detected.\")\n",
    "\n",
    "# Print out the resulting DataFrame\n",
    "print(df)\n"
   ]
  }
 ],
 "metadata": {
  "kernelspec": {
   "display_name": "Python 3",
   "language": "python",
   "name": "python3"
  },
  "language_info": {
   "codemirror_mode": {
    "name": "ipython",
    "version": 3
   },
   "file_extension": ".py",
   "mimetype": "text/x-python",
   "name": "python",
   "nbconvert_exporter": "python",
   "pygments_lexer": "ipython3",
   "version": "3.10.12"
  }
 },
 "nbformat": 4,
 "nbformat_minor": 2
}
