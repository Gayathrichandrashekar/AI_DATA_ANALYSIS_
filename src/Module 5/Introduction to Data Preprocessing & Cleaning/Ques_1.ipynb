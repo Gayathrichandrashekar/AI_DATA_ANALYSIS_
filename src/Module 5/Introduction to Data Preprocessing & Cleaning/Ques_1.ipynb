{
 "cells": [
  {
   "cell_type": "code",
   "execution_count": 2,
   "metadata": {},
   "outputs": [],
   "source": [
    "# Question: Advanced Data Cleaning with Multiple Issues\n",
    "# Objective: Handle multiple issues in one dataset, including missing values, duplicates, and outliers.\n",
    "# Description: Given a dataset with various data quality issues, employ multiple data cleaning techniques.\n",
    "\n",
    "\n"
   ]
  },
  {
   "cell_type": "code",
   "execution_count": 3,
   "metadata": {},
   "outputs": [
    {
     "name": "stdout",
     "output_type": "stream",
     "text": [
      "Cleaned and Transformed DataFrame:\n",
      "      Age     Salary  Gender  Age_to_Salary_Ratio\n",
      "0    25.0  10.819778    Male             2.310583\n",
      "1    30.0  11.002100  Female             2.726752\n",
      "2    35.0  10.915088  Female             3.206570\n",
      "3    27.5  11.289782    Male             2.435831\n",
      "4    45.0  11.350407    Male             3.964616\n",
      "5   525.0  11.512925  Female            45.600921\n",
      "6    50.0  11.608236    Male             4.307287\n",
      "7  1000.0  11.695247    Male            85.504821\n"
     ]
    }
   ],
   "source": [
    "import pandas as pd\n",
    "import numpy as np\n",
    "from sklearn.impute import KNNImputer\n",
    "from scipy import stats\n",
    "\n",
    "# Sample dataset with missing values, duplicates, and potential outliers\n",
    "data = {\n",
    "    'Age': [25, 30, 35, None, 45, None, 50, 1000],\n",
    "    'Salary': [50000, 60000, None, 80000, None, 100000, 110000, 120000],\n",
    "    'Gender': ['Male', 'Female', 'Female', 'Male', None, 'Female', 'Male', 'Male']\n",
    "}\n",
    "\n",
    "# Create DataFrame\n",
    "df = pd.DataFrame(data)\n",
    "\n",
    "# ---- Handling Missing Values ----\n",
    "# Impute missing numerical values with KNN (K=2)\n",
    "knn_imputer = KNNImputer(n_neighbors=2)\n",
    "df[['Age', 'Salary']] = knn_imputer.fit_transform(df[['Age', 'Salary']])\n",
    "\n",
    "# Impute missing categorical values with mode\n",
    "df['Gender'].fillna(df['Gender'].mode()[0], inplace=True)\n",
    "\n",
    "# ---- Handling Duplicates ----\n",
    "# Remove duplicate rows\n",
    "df.drop_duplicates(inplace=True)\n",
    "\n",
    "# ---- Handling Outliers with Z-Scores ----\n",
    "# Calculate Z-scores for numerical columns\n",
    "z_scores = np.abs(stats.zscore(df[['Age', 'Salary']]))\n",
    "outliers = (z_scores > 3)\n",
    "\n",
    "# Replace outliers with the column mean (for simplicity)\n",
    "df[['Age', 'Salary']] = df[['Age', 'Salary']].mask(outliers, df[['Age', 'Salary']].mean(), axis=1)\n",
    "\n",
    "# ---- Log Transformation for Skewed Data ----\n",
    "# Applying log transformation to Salary column\n",
    "df['Salary'] = np.log(df['Salary'])\n",
    "\n",
    "# ---- Feature Engineering ----\n",
    "# Create a new feature called 'Age_to_Salary_Ratio' (Age / Salary)\n",
    "df['Age_to_Salary_Ratio'] = df['Age'] / df['Salary']\n",
    "\n",
    "# ---- Display the cleaned and transformed DataFrame ----\n",
    "print(\"Cleaned and Transformed DataFrame:\")\n",
    "print(df)\n"
   ]
  },
  {
   "cell_type": "code",
   "execution_count": 4,
   "metadata": {},
   "outputs": [],
   "source": [
    "# Question: Data Transformation Techniques\n",
    "# Objective: Transform skewed data using log transformation.\n",
    "# Description: Perform a log transformation to handle skewness in a dataset, which is particularly useful for\n",
    "# certain machine learning models.\n",
    "\n"
   ]
  },
  {
   "cell_type": "code",
   "execution_count": 5,
   "metadata": {},
   "outputs": [],
   "source": [
    "# Question: Feature Engineering by Creating New Features\n",
    "# Objective: Create a new feature based on existing features to add predictive power.\n",
    "# Description: Generate additional features from existing data to potentially improve the performance of\n",
    "# prediction models.\n",
    "\n",
    "\n"
   ]
  },
  {
   "cell_type": "code",
   "execution_count": 6,
   "metadata": {},
   "outputs": [],
   "source": [
    "# Question: Handling Complex Outliers with Z-Scores\n",
    "# Objective: Detect and handle outliers using Z-score method.\n",
    "# Description: Use the Z-score method to identify outliers which significantly differ from the rest of the data points.\n",
    "\n",
    "\n"
   ]
  },
  {
   "cell_type": "code",
   "execution_count": 7,
   "metadata": {},
   "outputs": [],
   "source": [
    "# Question: Data Imputation with K-Nearest Neighbors (KNN)\n",
    "# Objective: Impute missing numerical values using the KNN method.\n",
    "# Description: Use the K-nearest neighbors algorithm to fill in missing values, which considers the values of\n",
    "# nearest neighbors for imputation.\n",
    "\n",
    "\n"
   ]
  }
 ],
 "metadata": {
  "kernelspec": {
   "display_name": "Python 3",
   "language": "python",
   "name": "python3"
  },
  "language_info": {
   "codemirror_mode": {
    "name": "ipython",
    "version": 3
   },
   "file_extension": ".py",
   "mimetype": "text/x-python",
   "name": "python",
   "nbconvert_exporter": "python",
   "pygments_lexer": "ipython3",
   "version": "3.10.12"
  }
 },
 "nbformat": 4,
 "nbformat_minor": 2
}
