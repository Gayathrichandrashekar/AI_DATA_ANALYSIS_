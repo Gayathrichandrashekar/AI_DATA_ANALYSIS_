{
 "cells": [
  {
   "cell_type": "code",
   "execution_count": 5,
   "metadata": {},
   "outputs": [
    {
     "name": "stdout",
     "output_type": "stream",
     "text": [
      "Original Dataset:\n",
      "     A         B    C    D\n",
      "0  1.0       cat  1.1  NaN\n",
      "1  2.0       dog  NaN  NaN\n",
      "2  NaN    rabbit  3.5  3.2\n",
      "3  4.0       NaN  4.0  4.1\n",
      "4  5.0  elephant  NaN  5.0\n",
      "\n",
      "Number of duplicate rows: 0\n",
      "Shape after removing duplicates: (5, 4)\n",
      "\n",
      "Current Data Types:\n",
      "A    float64\n",
      "B     object\n",
      "C    float64\n",
      "D    float64\n",
      "dtype: object\n",
      "\n",
      "Updated Data Types (after conversions):\n",
      "A    float64\n",
      "B     object\n",
      "C    float64\n",
      "D    float64\n",
      "dtype: object\n",
      "\n",
      "Cleaned data saved to 'cleaned_data_Q2.csv'\n"
     ]
    }
   ],
   "source": [
    "# Step 1: Import Required Libraries\n",
    "import pandas as pd\n",
    "\n",
    "# Step 2: Load the Dataset\n",
    "df = pd.read_csv('samp_data.csv')  \n",
    "\n",
    "# Step 3: Display First Few Rows\n",
    "print(\"Original Dataset:\")\n",
    "print(df.head())\n",
    "\n",
    "# Step 4: Check for Duplicates\n",
    "duplicate_count = df.duplicated().sum()\n",
    "print(f\"\\nNumber of duplicate rows: {duplicate_count}\")\n",
    "\n",
    "# Step 5: Remove Duplicates\n",
    "df_no_duplicates = df.drop_duplicates()\n",
    "print(\"Shape after removing duplicates:\", df_no_duplicates.shape)\n",
    "\n",
    "# Step 6: Check Current Data Types\n",
    "print(\"\\nCurrent Data Types:\")\n",
    "print(df_no_duplicates.dtypes)\n",
    "\n",
    "# Step 7: Fix Data Types (Example Fixes)\n",
    "# Note: Update these based on your actual column names and needs\n",
    "\n",
    "# Example: Convert numeric columns\n",
    "# df_no_duplicates['age'] = df_no_duplicates['age'].astype(int)\n",
    "\n",
    "# Example: Convert date columns\n",
    "# df_no_duplicates['date_joined'] = pd.to_datetime(df_no_duplicates['date_joined'])\n",
    "\n",
    "# Example: Convert to string\n",
    "# df_no_duplicates['customer_id'] = df_no_duplicates['customer_id'].astype(str)\n",
    "\n",
    "# Step 8: Check Updated Data Types\n",
    "print(\"\\nUpdated Data Types (after conversions):\")\n",
    "print(df_no_duplicates.dtypes)\n",
    "\n",
    "# Step 9: Save the Cleaned Data\n",
    "df_no_duplicates.to_csv('cleaned_data_Q2.csv', index=False)\n",
    "print(\"\\nCleaned data saved to 'cleaned_data_Q2.csv'\")\n"
   ]
  }
 ],
 "metadata": {
  "kernelspec": {
   "display_name": "Python 3",
   "language": "python",
   "name": "python3"
  },
  "language_info": {
   "codemirror_mode": {
    "name": "ipython",
    "version": 3
   },
   "file_extension": ".py",
   "mimetype": "text/x-python",
   "name": "python",
   "nbconvert_exporter": "python",
   "pygments_lexer": "ipython3",
   "version": "3.10.12"
  }
 },
 "nbformat": 4,
 "nbformat_minor": 2
}
