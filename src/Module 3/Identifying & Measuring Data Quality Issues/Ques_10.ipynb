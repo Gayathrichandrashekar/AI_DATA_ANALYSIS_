{
 "cells": [
  {
   "cell_type": "code",
   "execution_count": 1,
   "metadata": {},
   "outputs": [
    {
     "name": "stdout",
     "output_type": "stream",
     "text": [
      "                 A            B            C\n",
      "count  1000.000000  1000.000000  1000.000000\n",
      "mean      9.961739    50.062382    -0.017854\n",
      "std       2.015360     9.984444     0.990030\n",
      "min       2.058907    20.108597    -3.526907\n",
      "25%       8.759472    43.462738    -0.661995\n",
      "50%       9.888117    50.357378    -0.025504\n",
      "75%      11.335489    56.823540     0.652602\n",
      "max      16.598425    82.192151     3.223469\n",
      "Skewness:\n",
      " A   -0.102521\n",
      "B   -0.092843\n",
      "C   -0.147691\n",
      "dtype: float64\n",
      "Kurtosis:\n",
      " A    0.126003\n",
      "B   -0.029150\n",
      "C    0.233945\n",
      "dtype: float64\n",
      "Missing values:\n",
      " A    0\n",
      "B    0\n",
      "C    0\n",
      "dtype: int64\n",
      "Correlation matrix:\n",
      "           A         B         C\n",
      "A  1.000000  0.045905 -0.012021\n",
      "B  0.045905  1.000000  0.063196\n",
      "C -0.012021  0.063196  1.000000\n"
     ]
    },
    {
     "data": {
      "image/png": "[encoded data removed]",
      "text/plain": [
       "<Figure size 640x480 with 1 Axes>"
      ]
     },
     "metadata": {},
     "output_type": "display_data"
    },
    {
     "name": "stdout",
     "output_type": "stream",
     "text": [
      "Outlier Indices using Z-Score method:\n",
      " (array([ 15, 213, 370, 506, 539, 732, 845, 864, 982]), array([2, 0, 0, 2, 2, 1, 2, 1, 0]))\n",
      "Outlier Indices using IQR method:\n",
      "          A      B      C\n",
      "0    False  False  False\n",
      "1    False  False  False\n",
      "2    False  False  False\n",
      "3    False  False  False\n",
      "4    False  False  False\n",
      "..     ...    ...    ...\n",
      "995  False  False  False\n",
      "996  False  False  False\n",
      "997  False  False  False\n",
      "998  False  False  False\n",
      "999  False  False  False\n",
      "\n",
      "[1000 rows x 3 columns]\n"
     ]
    }
   ],
   "source": [
    "# Question: Advanced Data Profiling and Outlier Detection\n",
    "# Description: Perform detailed data profiling including outlier detection for numeric columns.\n",
    "import pandas as pd\n",
    "import numpy as np\n",
    "import matplotlib.pyplot as plt\n",
    "import seaborn as sns\n",
    "from scipy.stats import zscore\n",
    "\n",
    "# Sample data\n",
    "data = pd.DataFrame({\n",
    "    'A': np.random.normal(10, 2, 1000),\n",
    "    'B': np.random.normal(50, 10, 1000),\n",
    "    'C': np.random.normal(0, 1, 1000)\n",
    "})\n",
    "\n",
    "# Data profiling: Descriptive statistics\n",
    "print(data.describe())\n",
    "\n",
    "# Skewness and kurtosis\n",
    "print(\"Skewness:\\n\", data.skew())\n",
    "print(\"Kurtosis:\\n\", data.kurt())\n",
    "\n",
    "# Missing values\n",
    "print(\"Missing values:\\n\", data.isnull().sum())\n",
    "\n",
    "# Correlation matrix\n",
    "print(\"Correlation matrix:\\n\", data.corr())\n",
    "\n",
    "# Outlier detection (Z-Score Method)\n",
    "z_scores = np.abs(zscore(data))\n",
    "outliers_zscore = (z_scores > 3)  # Threshold of 3 for outliers\n",
    "outliers_zscore_indices = np.where(outliers_zscore)\n",
    "\n",
    "# Outlier detection (IQR Method)\n",
    "Q1 = data.quantile(0.25)\n",
    "Q3 = data.quantile(0.75)\n",
    "IQR = Q3 - Q1\n",
    "outliers_iqr = ((data < (Q1 - 1.5 * IQR)) | (data > (Q3 + 1.5 * IQR)))\n",
    "\n",
    "# Visualization: Boxplots\n",
    "sns.boxplot(data=data)\n",
    "plt.show()\n",
    "\n",
    "# Display outlier indices (example)\n",
    "print(\"Outlier Indices using Z-Score method:\\n\", outliers_zscore_indices)\n",
    "print(\"Outlier Indices using IQR method:\\n\", outliers_iqr)\n",
    "\n",
    "\n",
    "\n"
   ]
  }
 ],
 "metadata": {
  "kernelspec": {
   "display_name": "Python 3",
   "language": "python",
   "name": "python3"
  },
  "language_info": {
   "codemirror_mode": {
    "name": "ipython",
    "version": 3
   },
   "file_extension": ".py",
   "mimetype": "text/x-python",
   "name": "python",
   "nbconvert_exporter": "python",
   "pygments_lexer": "ipython3",
   "version": "3.10.12"
  }
 },
 "nbformat": 4,
 "nbformat_minor": 2
}
