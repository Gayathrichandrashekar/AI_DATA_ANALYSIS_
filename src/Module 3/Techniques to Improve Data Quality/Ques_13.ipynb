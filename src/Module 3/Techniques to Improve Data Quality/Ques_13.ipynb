{
 "cells": [
  {
   "cell_type": "code",
   "execution_count": 4,
   "metadata": {},
   "outputs": [
    {
     "name": "stdout",
     "output_type": "stream",
     "text": [
      "🚀 Original Data:\n",
      "    Age  Salary  Gender      City\n",
      "0   25   50000    Male  New York\n",
      "1   32   60000  Female     Paris\n",
      "2   47   80000  Female    London\n",
      "3   51   90000    Male  New York\n",
      "\n",
      "✅ After Standardizing Numerical Columns:\n",
      "         Age    Salary  Gender      City\n",
      "0 -1.292419 -1.264911    Male  New York\n",
      "1 -0.634460 -0.632456  Female     Paris\n",
      "2  0.775452  0.632456  Female    London\n",
      "3  1.151428  1.264911    Male  New York\n",
      "\n",
      "🎯 Final DataFrame After Encoding Categorical Columns:\n",
      "         Age    Salary  Gender_Male  City_New York  City_Paris\n",
      "0 -1.292419 -1.264911          1.0            1.0         0.0\n",
      "1 -0.634460 -0.632456          0.0            0.0         1.0\n",
      "2  0.775452  0.632456          0.0            0.0         0.0\n",
      "3  1.151428  1.264911          1.0            1.0         0.0\n"
     ]
    }
   ],
   "source": [
    "import pandas as pd\n",
    "from sklearn.preprocessing import StandardScaler, OneHotEncoder\n",
    "\n",
    "# Sample DataFrame\n",
    "data = {\n",
    "    'Age': [25, 32, 47, 51],\n",
    "    'Salary': [50000, 60000, 80000, 90000],\n",
    "    'Gender': ['Male', 'Female', 'Female', 'Male'],\n",
    "    'City': ['New York', 'Paris', 'London', 'New York']\n",
    "}\n",
    "\n",
    "df = pd.DataFrame(data)\n",
    "print(\"🚀 Original Data:\\n\", df)\n",
    "\n",
    "# Function to standardize numerical data\n",
    "def standardize_data(df, columns):\n",
    "    scaler = StandardScaler()\n",
    "    df_copy = df.copy()\n",
    "    df_copy[columns] = scaler.fit_transform(df_copy[columns])\n",
    "    return df_copy\n",
    "\n",
    "# Function to one-hot encode categorical data\n",
    "def encode_categorical(df, columns):\n",
    "    encoder = OneHotEncoder(sparse_output=False, drop='first')  # Use sparse_output for sklearn ≥ 1.2\n",
    "    encoded = encoder.fit_transform(df[columns])\n",
    "    encoded_df = pd.DataFrame(encoded, columns=encoder.get_feature_names_out(columns))\n",
    "    df = df.drop(columns=columns).reset_index(drop=True)\n",
    "    df_encoded = pd.concat([df.reset_index(drop=True), encoded_df], axis=1)\n",
    "    return df_encoded\n",
    "\n",
    "# Step 1: Standardize numerical columns\n",
    "numerical_columns = ['Age', 'Salary']\n",
    "df_standardized = standardize_data(df, numerical_columns)\n",
    "print(\"\\n✅ After Standardizing Numerical Columns:\\n\", df_standardized)\n",
    "\n",
    "# Step 2: Encode categorical columns\n",
    "categorical_columns = ['Gender', 'City']\n",
    "df_encoded = encode_categorical(df_standardized, categorical_columns)\n",
    "print(\"\\n🎯 Final DataFrame After Encoding Categorical Columns:\\n\", df_encoded)\n"
   ]
  }
 ],
 "metadata": {
  "kernelspec": {
   "display_name": "Python 3",
   "language": "python",
   "name": "python3"
  },
  "language_info": {
   "codemirror_mode": {
    "name": "ipython",
    "version": 3
   },
   "file_extension": ".py",
   "mimetype": "text/x-python",
   "name": "python",
   "nbconvert_exporter": "python",
   "pygments_lexer": "ipython3",
   "version": "3.10.12"
  }
 },
 "nbformat": 4,
 "nbformat_minor": 2
}
