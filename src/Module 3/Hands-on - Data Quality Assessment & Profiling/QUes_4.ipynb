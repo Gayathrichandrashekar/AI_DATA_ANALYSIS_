{
 "cells": [
  {
   "cell_type": "code",
   "execution_count": 3,
   "metadata": {},
   "outputs": [
    {
     "name": "stdout",
     "output_type": "stream",
     "text": [
      "✅ Customer dataset loaded successfully.\n",
      "\n",
      "📊 First 5 rows of customer data:\n",
      "   CustomerID           Name                     Email     Phone       Address\n",
      "0           1       John Doe       johndoe@example.com  555-1234    123 Elm St\n",
      "1           2     Jane Smith     janesmith@example.com       NaN    456 Oak St\n",
      "2           3  Alice Johnson  alicejohnson@example.com  555-5678   789 Pine St\n",
      "3           4      Bob Brown       johndoe@example.com  555-9876  101 Maple St\n",
      "4           5  Charlie Davis                       NaN  555-1111  202 Birch St\n",
      "\n",
      "🔍 Missing Values:\n",
      "Email    1\n",
      "Phone    2\n",
      "dtype: int64\n",
      "\n",
      "📋 Duplicate Emails:\n",
      "                 Email\n",
      "0  johndoe@example.com\n",
      "\n",
      "🧾 Data Quality Report Summary:\n",
      "{'Missing Values': {'Email': 1, 'Phone': 2}, 'Total Duplicate Rows': 0, 'Duplicate Emails': 1}\n"
     ]
    }
   ],
   "source": [
    "import pandas as pd\n",
    "\n",
    "# -------------------------------\n",
    "# Part 1: Load Dataset & Check Missing Values\n",
    "# -------------------------------\n",
    "\n",
    "# Load the dataset\n",
    "try:\n",
    "    customer_df = pd.read_csv('customer_data.csv')\n",
    "    print(\"✅ Customer dataset loaded successfully.\\n\")\n",
    "except FileNotFoundError:\n",
    "    print(\"❌ Error: customer_data.csv not found.\")\n",
    "    raise\n",
    "\n",
    "# Display first few rows\n",
    "print(\"📊 First 5 rows of customer data:\")\n",
    "print(customer_df.head())\n",
    "\n",
    "# Check for missing values in 'Email' and 'Phone'\n",
    "print(\"\\n🔍 Missing Values:\")\n",
    "missing_values = customer_df[['Email', 'Phone']].isnull().sum()\n",
    "print(missing_values)\n",
    "\n",
    "# -------------------------------\n",
    "# Part 2: Identify Duplicates & Inconsistencies\n",
    "# -------------------------------\n",
    "\n",
    "# Find duplicate emails\n",
    "print(\"\\n📋 Duplicate Emails:\")\n",
    "duplicate_emails = customer_df[customer_df.duplicated('Email', keep=False)]\n",
    "print(duplicate_emails[['Email']].drop_duplicates())\n",
    "\n",
    "# -------------------------------\n",
    "# Part 3: Generate Data Quality Report\n",
    "# -------------------------------\n",
    "\n",
    "print(\"\\n🧾 Data Quality Report Summary:\")\n",
    "\n",
    "# Count total duplicates (all columns)\n",
    "total_duplicates = customer_df.duplicated().sum()\n",
    "\n",
    "# Basic descriptive statistics\n",
    "description = customer_df.describe(include='all')\n",
    "\n",
    "# Compile quality report\n",
    "quality_report = {\n",
    "    'Missing Values': missing_values.to_dict(),\n",
    "    'Total Duplicate Rows': total_duplicates,\n",
    "    'Duplicate Emails': duplicate_emails['Email'].nunique()\n",
    "}\n",
    "\n",
    "print(quality_report)\n",
    "\n",
    "# Optionally save report\n",
    "# pd.DataFrame.from_dict(quality_report, orient='index').to_csv(\"customer_data_quality_report.csv\")\n"
   ]
  }
 ],
 "metadata": {
  "kernelspec": {
   "display_name": "Python 3",
   "language": "python",
   "name": "python3"
  },
  "language_info": {
   "codemirror_mode": {
    "name": "ipython",
    "version": 3
   },
   "file_extension": ".py",
   "mimetype": "text/x-python",
   "name": "python",
   "nbconvert_exporter": "python",
   "pygments_lexer": "ipython3",
   "version": "3.10.12"
  }
 },
 "nbformat": 4,
 "nbformat_minor": 2
}
