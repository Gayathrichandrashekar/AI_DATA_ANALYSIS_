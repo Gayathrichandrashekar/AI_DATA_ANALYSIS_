{
 "cells": [
  {
   "cell_type": "code",
   "execution_count": 5,
   "metadata": {},
   "outputs": [
    {
     "name": "stdout",
     "output_type": "stream",
     "text": [
      "❌ The dataset file was not found at the path: /workspaces/AI_DATA_ANALYSIS_/src/Module 4/data/your_dataset.csv\n"
     ]
    },
    {
     "ename": "FileNotFoundError",
     "evalue": "The dataset file was not found at the path: ../data/your_dataset.csv",
     "output_type": "error",
     "traceback": [
      "\u001b[0;31m---------------------------------------------------------------------------\u001b[0m",
      "\u001b[0;31mFileNotFoundError\u001b[0m                         Traceback (most recent call last)",
      "Cell \u001b[0;32mIn[5], line 16\u001b[0m\n\u001b[1;32m     13\u001b[0m \u001b[38;5;28;01melse\u001b[39;00m:\n\u001b[1;32m     14\u001b[0m     \u001b[38;5;66;03m# If the file is not found, raise a FileNotFoundError with the correct path\u001b[39;00m\n\u001b[1;32m     15\u001b[0m     \u001b[38;5;28mprint\u001b[39m(\u001b[38;5;124mf\u001b[39m\u001b[38;5;124m\"\u001b[39m\u001b[38;5;124m❌ The dataset file was not found at the path: \u001b[39m\u001b[38;5;132;01m{\u001b[39;00mos\u001b[38;5;241m.\u001b[39mpath\u001b[38;5;241m.\u001b[39mabspath(file_path)\u001b[38;5;132;01m}\u001b[39;00m\u001b[38;5;124m\"\u001b[39m)\n\u001b[0;32m---> 16\u001b[0m     \u001b[38;5;28;01mraise\u001b[39;00m \u001b[38;5;167;01mFileNotFoundError\u001b[39;00m(\u001b[38;5;124mf\u001b[39m\u001b[38;5;124m\"\u001b[39m\u001b[38;5;124mThe dataset file was not found at the path: \u001b[39m\u001b[38;5;132;01m{\u001b[39;00mfile_path\u001b[38;5;132;01m}\u001b[39;00m\u001b[38;5;124m\"\u001b[39m)\n\u001b[1;32m     18\u001b[0m \u001b[38;5;66;03m# Step 3: Perform basic data quality checks on the loaded dataset\u001b[39;00m\n\u001b[1;32m     19\u001b[0m \u001b[38;5;28;01mif\u001b[39;00m \u001b[38;5;124m'\u001b[39m\u001b[38;5;124mdf\u001b[39m\u001b[38;5;124m'\u001b[39m \u001b[38;5;129;01min\u001b[39;00m \u001b[38;5;28mlocals\u001b[39m():  \u001b[38;5;66;03m# Check if the DataFrame exists (i.e., the dataset was loaded successfully)\u001b[39;00m\n\u001b[1;32m     20\u001b[0m     \u001b[38;5;66;03m# Print basic information about the dataset\u001b[39;00m\n",
      "\u001b[0;31mFileNotFoundError\u001b[0m: The dataset file was not found at the path: ../data/your_dataset.csv"
     ]
    }
   ],
   "source": [
    "import os\n",
    "import pandas as pd\n",
    "\n",
    "# Step 1: Define the file path\n",
    "file_path = '../data/your_dataset.csv'  # Adjust this to the correct path relative to your current working directory\n",
    "\n",
    "# Step 2: Check if the file exists at the specified path\n",
    "if os.path.exists(file_path):\n",
    "    # If file exists, print the absolute path and load the dataset\n",
    "    print(f\"✅ File found at: {os.path.abspath(file_path)}\")\n",
    "    df = pd.read_csv(file_path)  # Load the dataset into a pandas DataFrame\n",
    "    print(\"✅ Dataset loaded successfully.\")\n",
    "else:\n",
    "    # If the file is not found, raise a FileNotFoundError with the correct path\n",
    "    print(f\"❌ The dataset file was not found at the path: {os.path.abspath(file_path)}\")\n",
    "    raise FileNotFoundError(f\"The dataset file was not found at the path: {file_path}\")\n",
    "\n",
    "# Step 3: Perform basic data quality checks on the loaded dataset\n",
    "if 'df' in locals():  # Check if the DataFrame exists (i.e., the dataset was loaded successfully)\n",
    "    # Print basic information about the dataset\n",
    "    print(\"\\n✅ Basic Data Overview:\")\n",
    "    print(df.info())  # Shows the summary of the dataset (columns, data types, non-null count)\n",
    "    \n",
    "    # Display the first few rows of the dataset to get a quick look at the data\n",
    "    print(\"\\n✅ First 5 Rows of the Dataset:\")\n",
    "    print(df.head())\n",
    "    \n",
    "    # Step 4: Check for missing values\n",
    "    print(\"\\n✅ Missing Values in Each Column:\")\n",
    "    print(df.isnull().sum())  # Check for missing values in each column\n",
    "    \n",
    "    # Step 5: Check for duplicate rows\n",
    "    print(\"\\n✅ Duplicates in the Dataset:\")\n",
    "    print(f\"Total Duplicates: {df.duplicated().sum()}\")  # Check if there are any duplicate rows\n",
    "    df_no_duplicates = df.drop_duplicates()  # Remove duplicates if any\n",
    "    print(f\"✅ Duplicates Removed. New Shape: {df_no_duplicates.shape}\")\n",
    "    \n",
    "    # Step 6: Basic Statistical Summary\n",
    "    print(\"\\n✅ Statistical Summary of the Dataset:\")\n",
    "    print(df.describe())  # Show statistics for numerical columns\n",
    "else:\n",
    "    print(\"❌ Dataset was not loaded successfully. Exiting the program.\")\n"
   ]
  },
  {
   "cell_type": "code",
   "execution_count": null,
   "metadata": {},
   "outputs": [],
   "source": [
    "# Part 2: Automating Data Quality Checks\n",
    "# Objective: Use Python and data quality frameworks to automate validation.\n",
    "\n",
    "# Task 1: Setting Up Automated Validation with Python\n",
    "\n",
    "# Task 2: Introduction to Great Expectations: Install the great_expectations package and set up a basic project.\n",
    "\n",
    "# Task 3: Creating Expectations with Great Expectations: Use Great Expectations to define data validation expectations for a dataset.\n",
    "\n",
    "\n"
   ]
  }
 ],
 "metadata": {
  "kernelspec": {
   "display_name": "Python 3",
   "language": "python",
   "name": "python3"
  },
  "language_info": {
   "codemirror_mode": {
    "name": "ipython",
    "version": 3
   },
   "file_extension": ".py",
   "mimetype": "text/x-python",
   "name": "python",
   "nbconvert_exporter": "python",
   "pygments_lexer": "ipython3",
   "version": "3.10.12"
  }
 },
 "nbformat": 4,
 "nbformat_minor": 2
}
