{
 "cells": [
  {
   "cell_type": "code",
   "execution_count": 2,
   "metadata": {},
   "outputs": [
    {
     "name": "stdout",
     "output_type": "stream",
     "text": [
      "❌ File not found at: src/Module 4/Advanced Data Quality & Validation/saample_data.csv\n"
     ]
    },
    {
     "ename": "NameError",
     "evalue": "name 'df_original' is not defined",
     "output_type": "error",
     "traceback": [
      "\u001b[0;31m---------------------------------------------------------------------------\u001b[0m",
      "\u001b[0;31mNameError\u001b[0m                                 Traceback (most recent call last)",
      "Cell \u001b[0;32mIn[2], line 73\u001b[0m\n\u001b[1;32m     70\u001b[0m feature_names \u001b[38;5;241m=\u001b[39m [\u001b[38;5;124m'\u001b[39m\u001b[38;5;124mFeature1\u001b[39m\u001b[38;5;124m'\u001b[39m, \u001b[38;5;124m'\u001b[39m\u001b[38;5;124mFeature2\u001b[39m\u001b[38;5;124m'\u001b[39m]\n\u001b[1;32m     72\u001b[0m \u001b[38;5;28;01mtry\u001b[39;00m:\n\u001b[0;32m---> 73\u001b[0m     validate_dataset(\u001b[43mdf_original\u001b[49m, feature_names)\n\u001b[1;32m     74\u001b[0m     validate_dataset(df_new, feature_names)\n\u001b[1;32m     75\u001b[0m \u001b[38;5;28;01mexcept\u001b[39;00m \u001b[38;5;167;01mValueError\u001b[39;00m \u001b[38;5;28;01mas\u001b[39;00m ve:\n",
      "\u001b[0;31mNameError\u001b[0m: name 'df_original' is not defined"
     ]
    }
   ],
   "source": [
    "import pandas as pd\n",
    "import matplotlib.pyplot as plt\n",
    "from scipy.stats import ks_2samp\n",
    "import os\n",
    "\n",
    "# -------------------------------\n",
    "# Function: Load data with error handling\n",
    "# -------------------------------\n",
    "def load_data(file_path):\n",
    "    if not os.path.exists(file_path):\n",
    "        raise FileNotFoundError(f\"❌ File not found at: {file_path}\")\n",
    "    try:\n",
    "        df = pd.read_csv(file_path)\n",
    "        print(f\"✅ Successfully loaded: {file_path}\")\n",
    "        return df\n",
    "    except Exception as e:\n",
    "        raise IOError(f\"❌ Failed to load data from {file_path}: {e}\")\n",
    "\n",
    "# -------------------------------\n",
    "# Function: Validate dataset structure\n",
    "# -------------------------------\n",
    "def validate_dataset(df, required_columns):\n",
    "    for col in required_columns:\n",
    "        if col not in df.columns:\n",
    "            raise ValueError(f\"❌ Missing required column: {col}\")\n",
    "    print(\"✅ Dataset validation passed.\")\n",
    "\n",
    "# -------------------------------\n",
    "# Function: Perform KS test\n",
    "# -------------------------------\n",
    "def perform_ks_test(df1, df2, feature):\n",
    "    stat, p_value = ks_2samp(df1[feature], df2[feature])\n",
    "    print(f\"📊 KS Test for '{feature}' — Statistic: {stat:.4f}, p-value: {p_value:.4f}\")\n",
    "    if p_value < 0.05:\n",
    "        print(f\"⚠️ Data drift detected for '{feature}' (p-value < 0.05)\\n\")\n",
    "    else:\n",
    "        print(f\"✅ No significant drift detected for '{feature}'\\n\")\n",
    "    return stat, p_value\n",
    "\n",
    "# -------------------------------\n",
    "# Function: Plot feature distributions\n",
    "# -------------------------------\n",
    "def plot_distribution(df1, df2, feature):\n",
    "    plt.figure(figsize=(10, 6))\n",
    "    plt.hist(df1[feature], bins=30, alpha=0.6, label=\"Original\", color='blue')\n",
    "    plt.hist(df2[feature], bins=30, alpha=0.6, label=\"New\", color='orange')\n",
    "    plt.title(f\"Distribution Comparison: {feature}\")\n",
    "    plt.xlabel(feature)\n",
    "    plt.ylabel(\"Frequency\")\n",
    "    plt.legend()\n",
    "    plt.grid(True)\n",
    "    plt.tight_layout()\n",
    "    plt.show()\n",
    "\n",
    "# -------------------------------\n",
    "# Main Execution\n",
    "# -------------------------------\n",
    "if __name__ == \"__main__\":\n",
    "    file_path_original = \"src/Module 4/Advanced Data Quality & Validation/saample_data.csv\"\n",
    "    file_path_new = \"src/Module 4/Advanced Data Quality & Validation/saample_data.csv\"  # Assuming same file for test\n",
    "\n",
    "    try:\n",
    "        df_original = load_data(file_path_original)\n",
    "        df_new = load_data(file_path_new)\n",
    "    except Exception as err:\n",
    "        print(err)\n",
    "        exit(1)\n",
    "\n",
    "    # Example feature names — replace with actual ones from your dataset\n",
    "    feature_names = ['Feature1', 'Feature2']\n",
    "\n",
    "    try:\n",
    "        validate_dataset(df_original, feature_names)\n",
    "        validate_dataset(df_new, feature_names)\n",
    "    except ValueError as ve:\n",
    "        print(ve)\n",
    "        exit(1)\n",
    "\n",
    "    for feature in feature_names:\n",
    "        perform_ks_test(df_original, df_new, feature)\n",
    "        plot_distribution(df_original, df_new, feature)\n"
   ]
  },
  {
   "cell_type": "code",
   "execution_count": null,
   "metadata": {},
   "outputs": [
    {
     "name": "stdout",
     "output_type": "stream",
     "text": [
      "❌ File not found at: src/Module 4/Advanced Data Quality & Validation/saample_data.csv\n",
      "Current Working Directory: /workspaces/AI_DATA_ANALYSIS_/src/Module 4/Advanced Data Quality & Validation\n"
     ]
    }
   ],
   "source": [
    "file_path = '/full/path/to/your/saample_data.csv'\n",
    "import os\n",
    "\n",
    "file_path = 'src/Module 4/Advanced Data Quality & Validation/saample_data.csv'\n",
    "if os.path.exists(file_path):\n",
    "    print(f\"✅ File found: {file_path}\")\n",
    "else:\n",
    "    print(f\"❌ File not found at: {file_path}\")\n",
    "import os\n",
    "print(f\"Current Working Directory: {os.getcwd()}\")\n"
   ]
  }
 ],
 "metadata": {
  "kernelspec": {
   "display_name": "Python 3",
   "language": "python",
   "name": "python3"
  },
  "language_info": {
   "codemirror_mode": {
    "name": "ipython",
    "version": 3
   },
   "file_extension": ".py",
   "mimetype": "text/x-python",
   "name": "python",
   "nbconvert_exporter": "python",
   "pygments_lexer": "ipython3",
   "version": "3.10.12"
  }
 },
 "nbformat": 4,
 "nbformat_minor": 2
}
