{
 "cells": [
  {
   "cell_type": "code",
   "execution_count": 10,
   "metadata": {},
   "outputs": [
    {
     "name": "stdout",
     "output_type": "stream",
     "text": [
      "❌ The dataset file was not found at the path: /workspaces/AI_DATA_ANALYSIS_/src/Module 4/Advanced Data Quality & Validation/path/to/your/dataset.csv\n"
     ]
    }
   ],
   "source": [
    "import pandas as pd\n",
    "import os\n",
    "\n",
    "# Step 1: Define the file path for the dataset (Replace with your actual file path)\n",
    "# Example: Replace 'your_dataset.csv' with the actual path to your dataset file\n",
    "file_path = 'path/to/your/dataset.csv'  # Update this path accordingly\n",
    "\n",
    "# Step 2: Check if the file exists at the provided location\n",
    "if os.path.exists(file_path):\n",
    "    print(f\"✅ File found at: {os.path.abspath(file_path)}\")\n",
    "    \n",
    "    # Step 3: Load the dataset into a pandas DataFrame\n",
    "    df = pd.read_csv(file_path)\n",
    "    print(\"✅ Dataset loaded successfully.\")\n",
    "\n",
    "    # Step 4: Perform Basic Data Quality Checks\n",
    "    \n",
    "    # (a) Basic Overview: Data types and non-null counts\n",
    "    print(\"\\n✅ Basic Data Overview:\")\n",
    "    print(df.info())  # This will give the column names, types, and non-null counts\n",
    "    \n",
    "    # (b) Show the first 5 rows of the dataset\n",
    "    print(\"\\n✅ First 5 Rows of the Dataset:\")\n",
    "    print(df.head())\n",
    "    \n",
    "    # (c) Missing Values Check\n",
    "    print(\"\\n✅ Missing Values in Each Column:\")\n",
    "    print(df.isnull().sum())  # Check the number of missing values in each column\n",
    "    \n",
    "    # (d) Duplicates Check\n",
    "    print(\"\\n✅ Duplicates in the Dataset:\")\n",
    "    duplicate_count = df.duplicated().sum()  # Count the number of duplicate rows\n",
    "    print(f\"Total Duplicates: {duplicate_count}\")\n",
    "    \n",
    "    if duplicate_count > 0:\n",
    "        df_no_duplicates = df.drop_duplicates()  # Remove duplicates\n",
    "        print(\"✅ Duplicates Removed. New Shape of the DataFrame:\", df_no_duplicates.shape)\n",
    "    else:\n",
    "        print(\"✅ No duplicates found.\")\n",
    "    \n",
    "    # (e) Basic Statistical Summary for Numerical Columns\n",
    "    print(\"\\n✅ Statistical Summary of the Dataset (Numerical Columns):\")\n",
    "    print(df.describe())  # Show statistics for numerical columns like mean, median, etc.\n",
    "    \n",
    "    # (f) Checking for Outliers using IQR (Interquartile Range) method\n",
    "    # For numerical columns, let's identify potential outliers\n",
    "    print(\"\\n✅ Outliers Detection using IQR:\")\n",
    "    Q1 = df.quantile(0.25)  # 25th percentile\n",
    "    Q3 = df.quantile(0.75)  # 75th percentile\n",
    "    IQR = Q3 - Q1\n",
    "    outliers = ((df < (Q1 - 1.5 * IQR)) | (df > (Q3 + 1.5 * IQR))).sum()\n",
    "    print(outliers)  # This will show the number of outliers for each column\n",
    "    \n",
    "else:\n",
    "    # If the file is not found, print an error message\n",
    "    print(f\"❌ The dataset file was not found at the path: {os.path.abspath(file_path)}\")\n",
    "   "
   ]
  }
 ],
 "metadata": {
  "kernelspec": {
   "display_name": "Python 3",
   "language": "python",
   "name": "python3"
  },
  "language_info": {
   "codemirror_mode": {
    "name": "ipython",
    "version": 3
   },
   "file_extension": ".py",
   "mimetype": "text/x-python",
   "name": "python",
   "nbconvert_exporter": "python",
   "pygments_lexer": "ipython3",
   "version": "3.10.12"
  }
 },
 "nbformat": 4,
 "nbformat_minor": 2
}
