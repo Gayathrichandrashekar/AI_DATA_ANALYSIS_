{
 "cells": [
  {
   "cell_type": "code",
   "execution_count": 9,
   "metadata": {},
   "outputs": [
    {
     "name": "stdout",
     "output_type": "stream",
     "text": [
      "   ID   Age Gender   Salary\n",
      "0   1  25.0      M  50000.0\n",
      "1   2  28.0      F  55000.0\n",
      "2   3  30.0      M  60000.0\n",
      "3   4  28.0      F  55000.0\n",
      "4   5  28.0      F  55000.0\n"
     ]
    }
   ],
   "source": [
    "# Question 1: Handling Missing Values with Conditional Filling\n",
    "# Description: Fill missing values in a specific column based on a condition from another column.\n",
    "import pandas as pd\n",
    "import numpy as np\n",
    "\n",
    "# Sample DataFrame\n",
    "data = {'ID': [1, 2, 3, 4, 5],\n",
    "        'Age': [25, np.nan, 30, np.nan, 28],\n",
    "        'Gender': ['M', 'F', 'M', 'F', 'F'],\n",
    "        'Salary': [50000, np.nan, 60000, 55000, np.nan]}\n",
    "\n",
    "df = pd.DataFrame(data)\n",
    "\n",
    "# Fill missing 'Age' based on the average 'Age' by 'Gender'\n",
    "df['Age'] = df.groupby('Gender')['Age'].transform(lambda x: x.fillna(x.mean()))\n",
    "\n",
    "# Fill missing 'Salary' based on the average 'Salary' by 'Gender'\n",
    "df['Salary'] = df.groupby('Gender')['Salary'].transform(lambda x: x.fillna(x.mean()))\n",
    "\n",
    "print(df)\n",
    "\n"
   ]
  },
  {
   "cell_type": "code",
   "execution_count": 10,
   "metadata": {},
   "outputs": [
    {
     "name": "stdout",
     "output_type": "stream",
     "text": [
      "Outliers based on Z-score:\n",
      "Empty DataFrame\n",
      "Columns: [ID, Salary, Z_Score]\n",
      "Index: []\n",
      "DataFrame after rescaling outliers:\n",
      "   ID    Salary\n",
      "0   1   50000.0\n",
      "1   2   45000.0\n",
      "2   3   60000.0\n",
      "3   4  700000.0\n",
      "4   5   55000.0\n",
      "5   6   65000.0\n",
      "6   7   48000.0\n"
     ]
    }
   ],
   "source": [
    "# Question 2: Removing Outliers by Rescaling\n",
    "# Description: Remove outliers by standardizing a numerical column using z-scores.\n",
    "\n",
    "import pandas as pd\n",
    "import numpy as np\n",
    "from scipy.stats import zscore\n",
    "\n",
    "# Sample DataFrame\n",
    "data = {'ID': [1, 2, 3, 4, 5, 6, 7],\n",
    "        'Salary': [50000, 45000, 60000, 700000, 55000, 65000, 48000]}\n",
    "\n",
    "df = pd.DataFrame(data)\n",
    "\n",
    "# Calculate Z-scores for the 'Salary' column\n",
    "df['Z_Score'] = zscore(df['Salary'])\n",
    "\n",
    "# Identify outliers (Z-score > 3 or Z-score < -3)\n",
    "outliers = df[np.abs(df['Z_Score']) > 3]\n",
    "\n",
    "print(\"Outliers based on Z-score:\")\n",
    "print(outliers)\n",
    "# Rescale outliers by replacing them with the mean\n",
    "df['Salary'] = np.where(np.abs(df['Z_Score']) > 3, df['Salary'].mean(), df['Salary'])\n",
    "\n",
    "# Drop the Z_Score column\n",
    "df = df.drop(columns='Z_Score')\n",
    "\n",
    "print(\"DataFrame after rescaling outliers:\")\n",
    "print(df)\n",
    "\n"
   ]
  },
  {
   "cell_type": "code",
   "execution_count": 11,
   "metadata": {},
   "outputs": [
    {
     "name": "stdout",
     "output_type": "stream",
     "text": [
      "   ID  Age\n",
      "0   1   25\n",
      "1   2   27\n",
      "2   3   30\n",
      "3   4   27\n",
      "4   5   28\n"
     ]
    }
   ],
   "source": [
    "# Question 3: Applying Data Type Conversion\n",
    "# Description: Convert the 'Age' column to integers after filling missing values.\n",
    "import pandas as pd\n",
    "import numpy as np\n",
    "\n",
    "# Sample DataFrame\n",
    "data = {'ID': [1, 2, 3, 4, 5],\n",
    "        'Age': [25, np.nan, 30, np.nan, 28]}\n",
    "\n",
    "df = pd.DataFrame(data)\n",
    "\n",
    "# Step 1: Fill missing 'Age' with the mean of the column\n",
    "mean_age = df['Age'].mean()  # Calculate the mean of the 'Age' column\n",
    "df['Age'].fillna(mean_age, inplace=True)  # Fill missing values with the mean\n",
    "\n",
    "# Step 2: Convert 'Age' column to integers\n",
    "df['Age'] = df['Age'].astype(int)\n",
    "\n",
    "print(df)\n",
    "\n"
   ]
  },
  {
   "cell_type": "code",
   "execution_count": 12,
   "metadata": {},
   "outputs": [
    {
     "name": "stdout",
     "output_type": "stream",
     "text": [
      "   id     name   age   salary\n",
      "0   1    Alice  25.0  50000.0\n",
      "1   2      Bob  30.0  55000.0\n",
      "2   3  Charlie  29.5  60000.0\n",
      "3   4    David  35.0  54000.0\n",
      "4   5      Eve  29.5  50000.0\n",
      "5   5      Eve  28.0  55000.0\n"
     ]
    }
   ],
   "source": [
    "import pandas as pd\n",
    "\n",
    "# Function to automate data cleaning\n",
    "def clean_data(df, fill_missing_method='mean', fill_value=None):\n",
    "    \"\"\"\n",
    "    Clean the data by:\n",
    "    1. Filling missing values based on a chosen method.\n",
    "    2. Removing duplicates.\n",
    "    3. Standardizing column names.\n",
    "\n",
    "    Parameters:\n",
    "    df (pd.DataFrame): The DataFrame to be cleaned.\n",
    "    fill_missing_method (str): Method for filling missing values ('mean', 'median', 'mode').\n",
    "    fill_value (any): A custom value for filling missing data (used if fill_missing_method='value').\n",
    "\n",
    "    Returns:\n",
    "    pd.DataFrame: Cleaned DataFrame.\n",
    "    \"\"\"\n",
    "    \n",
    "    # 1. Standardize column names (convert to lowercase and remove spaces)\n",
    "    df.columns = df.columns.str.lower().str.replace(' ', '_')\n",
    "\n",
    "    # 2. Fill missing values for numeric columns\n",
    "    for column in df.select_dtypes(include=['number']).columns:  # Only for numeric columns\n",
    "        if fill_missing_method == 'mean':\n",
    "            df[column].fillna(df[column].mean(), inplace=True)\n",
    "        elif fill_missing_method == 'median':\n",
    "            df[column].fillna(df[column].median(), inplace=True)\n",
    "        elif fill_missing_method == 'mode':\n",
    "            df[column].fillna(df[column].mode()[0], inplace=True)\n",
    "        elif fill_missing_method == 'value' and fill_value is not None:\n",
    "            df[column].fillna(fill_value, inplace=True)\n",
    "        else:\n",
    "            raise ValueError(\"Invalid fill_missing_method or fill_value.\")\n",
    "\n",
    "    # For non-numeric columns (like 'Name'), fill missing values with the mode\n",
    "    for column in df.select_dtypes(exclude=['number']).columns:  # Only for non-numeric columns\n",
    "        df[column].fillna(df[column].mode()[0], inplace=True)\n",
    "\n",
    "    # 3. Remove duplicates\n",
    "    df.drop_duplicates(inplace=True)\n",
    "    \n",
    "    return df\n",
    "\n",
    "# Sample DataFrame\n",
    "data = {'ID': [1, 2, 3, 4, 5, 5],\n",
    "        'Name': ['Alice', 'Bob', 'Charlie', 'David', 'Eve', 'Eve'],\n",
    "        'Age': [25, 30, None, 35, None, 28],\n",
    "        'Salary': [50000, 55000, 60000, None, 50000, 55000]}\n",
    "\n",
    "df = pd.DataFrame(data)\n",
    "\n",
    "# Apply the clean_data function\n",
    "df_cleaned = clean_data(df, fill_missing_method='mean')\n",
    "\n",
    "print(df_cleaned)\n"
   ]
  },
  {
   "cell_type": "code",
   "execution_count": 13,
   "metadata": {},
   "outputs": [
    {
     "name": "stdout",
     "output_type": "stream",
     "text": [
      "   ID  Salary  Normalized_Salary\n",
      "0   1   50000               0.00\n",
      "1   2   55000               0.25\n",
      "2   3   60000               0.50\n",
      "3   4   70000               1.00\n",
      "4   5   65000               0.75\n"
     ]
    }
   ],
   "source": [
    "# Question 5: Complex Data Normalization\n",
    "# Description: Normalize a numeric column to a range using min-max scaling.\n",
    "\n",
    "import pandas as pd\n",
    "\n",
    "# Sample DataFrame\n",
    "data = {'ID': [1, 2, 3, 4, 5],\n",
    "        'Salary': [50000, 55000, 60000, 70000, 65000]}\n",
    "\n",
    "df = pd.DataFrame(data)\n",
    "\n",
    "# Step 1: Min-Max Scaling of the 'Salary' column\n",
    "min_salary = df['Salary'].min()\n",
    "max_salary = df['Salary'].max()\n",
    "\n",
    "df['Normalized_Salary'] = (df['Salary'] - min_salary) / (max_salary - min_salary)\n",
    "\n",
    "print(df)\n"
   ]
  }
 ],
 "metadata": {
  "kernelspec": {
   "display_name": "Python 3",
   "language": "python",
   "name": "python3"
  },
  "language_info": {
   "codemirror_mode": {
    "name": "ipython",
    "version": 3
   },
   "file_extension": ".py",
   "mimetype": "text/x-python",
   "name": "python",
   "nbconvert_exporter": "python",
   "pygments_lexer": "ipython3",
   "version": "3.10.12"
  }
 },
 "nbformat": 4,
 "nbformat_minor": 2
}
