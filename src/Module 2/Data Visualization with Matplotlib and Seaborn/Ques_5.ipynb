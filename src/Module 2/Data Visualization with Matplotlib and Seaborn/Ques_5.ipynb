{
 "cells": [
  {
   "cell_type": "code",
   "execution_count": null,
   "metadata": {},
   "outputs": [],
   "source": [
    "# Basic Seaborn Scatter Plot\n",
    "# Description: Using Seaborn, recreate the scatter plot from Question 2 for height vs. weight.\n",
    "import seaborn as sns\n",
    "import matplotlib.pyplot as plt\n",
    "import pandas as pd\n",
    "\n",
    "# Data\n",
    "heights = [160, 170, 165, 180, 175]\n",
    "weights = [55, 65, 60, 80, 76]\n",
    "\n",
    "# Create a DataFrame\n",
    "data = pd.DataFrame({'Height': heights, 'Weight': weights})\n",
    "\n",
    "# Plotting using Seaborn\n",
    "plt.figure(figsize=(8, 6))\n",
    "sns.scatterplot(x='Height', y='Weight', data=data, color='blue')\n",
    "plt.title('Height vs Weight', fontsize=16)\n",
    "plt.xlabel('Height (cm)', fontsize=12)\n",
    "plt.ylabel('Weight (kg)', fontsize=12)\n",
    "plt.grid(True)\n",
    "plt.show()\n"
   ]
  }
 ],
 "metadata": {
  "language_info": {
   "name": "python"
  }
 },
 "nbformat": 4,
 "nbformat_minor": 2
}
