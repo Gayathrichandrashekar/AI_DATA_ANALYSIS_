{
 "cells": [
  {
   "cell_type": "code",
   "execution_count": 10,
   "metadata": {},
   "outputs": [
    {
     "name": "stdout",
     "output_type": "stream",
     "text": [
      "Feature Names: ['sepal length (cm)', 'sepal width (cm)', 'petal length (cm)', 'petal width (cm)']\n",
      "Shape of data: (150, 4)\n",
      "\n",
      "Mean of each feature:\n",
      "sepal length (cm): 5.84\n",
      "sepal width (cm): 3.06\n",
      "petal length (cm): 3.76\n",
      "petal width (cm): 1.20\n",
      "\n",
      "Median of each feature:\n",
      "sepal length (cm): 5.80\n",
      "sepal width (cm): 3.00\n",
      "petal length (cm): 4.35\n",
      "petal width (cm): 1.30\n",
      "\n",
      "Standard Deviation of each feature:\n",
      "sepal length (cm): 0.83\n",
      "sepal width (cm): 0.43\n",
      "petal length (cm): 1.76\n",
      "petal width (cm): 0.76\n",
      "\n",
      "Min and Max of each feature:\n",
      "sepal length (cm): Min = 4.30, Max = 7.90\n",
      "sepal width (cm): Min = 2.00, Max = 4.40\n",
      "petal length (cm): Min = 1.00, Max = 6.90\n",
      "petal width (cm): Min = 0.10, Max = 2.50\n"
     ]
    }
   ],
   "source": [
    "# Import required libraries\n",
    "import numpy as np\n",
    "from sklearn.datasets import load_iris\n",
    "\n",
    "# Load the Iris dataset\n",
    "iris = load_iris()\n",
    "data = iris.data  # NumPy array of shape (150, 4)\n",
    "feature_names = iris.feature_names\n",
    "\n",
    "# Display basic info\n",
    "print(\"Feature Names:\", feature_names)\n",
    "print(\"Shape of data:\", data.shape)\n",
    "\n",
    "# Calculate mean of each feature\n",
    "mean_values = np.mean(data, axis=0)\n",
    "print(\"\\nMean of each feature:\")\n",
    "for name, mean in zip(feature_names, mean_values):\n",
    "    print(f\"{name}: {mean:.2f}\")\n",
    "\n",
    "# Calculate other basic statistics\n",
    "median_values = np.median(data, axis=0)\n",
    "std_dev_values = np.std(data, axis=0)\n",
    "\n",
    "print(\"\\nMedian of each feature:\")\n",
    "for name, median in zip(feature_names, median_values):\n",
    "    print(f\"{name}: {median:.2f}\")\n",
    "\n",
    "print(\"\\nStandard Deviation of each feature:\")\n",
    "for name, std in zip(feature_names, std_dev_values):\n",
    "    print(f\"{name}: {std:.2f}\")\n",
    "\n",
    "# Optional: Show min and max\n",
    "min_values = np.min(data, axis=0)\n",
    "max_values = np.max(data, axis=0)\n",
    "\n",
    "print(\"\\nMin and Max of each feature:\")\n",
    "for name, min_v, max_v in zip(feature_names, min_values, max_values):\n",
    "    print(f\"{name}: Min = {min_v:.2f}, Max = {max_v:.2f}\")\n"
   ]
  }
 ],
 "metadata": {
  "kernelspec": {
   "display_name": "Python 3",
   "language": "python",
   "name": "python3"
  },
  "language_info": {
   "codemirror_mode": {
    "name": "ipython",
    "version": 3
   },
   "file_extension": ".py",
   "mimetype": "text/x-python",
   "name": "python",
   "nbconvert_exporter": "python",
   "pygments_lexer": "ipython3",
   "version": "3.10.12"
  }
 },
 "nbformat": 4,
 "nbformat_minor": 2
}
