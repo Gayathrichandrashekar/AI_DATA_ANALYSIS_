{
 "cells": [
  {
   "cell_type": "markdown",
   "metadata": {},
   "source": [
    "## AI & Machine Learning for Data Quality\n",
    "**Description**: AI and machine learning can automate and enhance data quality checks by learning patterns and identifying anomalies more effectively than static rules.\n",
    "\n",
    "**Task 1**: Training a model to predict and flag unusual trend patterns in sales data that\n",
    "deviate from historical norms."
   ]
  },
  {
   "cell_type": "code",
   "execution_count": 7,
   "metadata": {},
   "outputs": [
    {
     "name": "stderr",
     "output_type": "stream",
     "text": [
      "INFO: Generated 122 records with injected anomalies.\n",
      "/home/vscode/.local/lib/python3.10/site-packages/sklearn/utils/validation.py:2732: UserWarning: X has feature names, but IsolationForest was fitted without feature names\n",
      "  warnings.warn(\n",
      "ERROR: Error during anomaly detection: This IsolationForest instance is not fitted yet. Call 'fit' with appropriate arguments before using this estimator.\n",
      "ERROR: Plotting failed: Could not interpret value `employee_age` for `x`. Value is a string, but `data` was not passed.\n",
      "INFO: Results saved to anomaly_output_20250513_174225.csv\n"
     ]
    },
    {
     "data": {
      "text/plain": [
       "<Figure size 1000x600 with 0 Axes>"
      ]
     },
     "metadata": {},
     "output_type": "display_data"
    }
   ],
   "source": [
    "import pandas as pd\n",
    "import numpy as np\n",
    "import logging\n",
    "from sklearn.ensemble import IsolationForest\n",
    "import matplotlib.pyplot as plt\n",
    "import seaborn as sns\n",
    "from datetime import datetime\n",
    "\n",
    "# Setup logging\n",
    "logging.basicConfig(level=logging.INFO, format='%(asctime)s - %(levelname)s - %(message)s')\n",
    "\n",
    "# Step 1: Generate synthetic dataset\n",
    "def create_dataset(n=120):\n",
    "    try:\n",
    "        np.random.seed(42)\n",
    "        ages = np.random.normal(40, 12, n).tolist() + [150, -20]\n",
    "        salaries = np.random.normal(70000, 20000, n).tolist() + [8000000, -20000]\n",
    "        df = pd.DataFrame({'employee_age': ages, 'employee_salary': salaries})\n",
    "        logging.info(f\"Generated {len(df)} records with injected anomalies.\")\n",
    "        return df\n",
    "    except Exception as e:\n",
    "        logging.error(f\"Error in data generation: {e}\")\n",
    "        return pd.DataFrame()\n",
    "\n",
    "# Step 2: Apply Isolation Forest for anomaly detection\n",
    "def run_isolation_forest(df):\n",
    "    try:\n",
    "        model = IsolationForest(n_estimators=100, contamination=0.05, random_state=0)\n",
    "        df['anomaly_score'] = model.decision_function(df[['employee_age', 'employee_salary']])\n",
    "        df['is_anomaly'] = model.predict(df[['employee_age', 'employee_salary']])\n",
    "        df['is_anomaly'] = df['is_anomaly'].map({1: 0, -1: 1})\n",
    "        logging.info(\"Isolation Forest applied. Anomalies flagged.\")\n",
    "        return df\n",
    "    except Exception as e:\n",
    "        logging.error(f\"Error during anomaly detection: {e}\")\n",
    "        return df\n",
    "\n",
    "# Step 3: Visualize results\n",
    "def plot_anomalies(df):\n",
    "    try:\n",
    "        plt.figure(figsize=(10, 6))\n",
    "        sns.scatterplot(\n",
    "            x='employee_age',\n",
    "            y='employee_salary',\n",
    "            hue='is_anomaly',\n",
    "            palette={0: 'green', 1: 'red'}\n",
    "        )\n",
    "        plt.yscale(\"log\")  # log scale to highlight large salary anomalies\n",
    "        plt.title(\"Detected Anomalies using Isolation Forest\")\n",
    "        plt.xlabel(\"Age\")\n",
    "        plt.ylabel(\"Salary (Log Scale)\")\n",
    "        plt.legend(title=\"Anomaly\")\n",
    "        plt.grid(True)\n",
    "        plt.tight_layout()\n",
    "        plt.show()\n",
    "        logging.info(\"Anomaly plot displayed.\")\n",
    "    except Exception as e:\n",
    "        logging.error(f\"Plotting failed: {e}\")\n",
    "\n",
    "# Step 4: Main pipeline\n",
    "def main():\n",
    "    df = create_dataset()\n",
    "    df = run_isolation_forest(df)\n",
    "    plot_anomalies(df)\n",
    "    \n",
    "    timestamp = datetime.now().strftime('%Y%m%d_%H%M%S')\n",
    "    output_file = f\"anomaly_output_{timestamp}.csv\"\n",
    "    df.to_csv(output_file, index=False)\n",
    "    logging.info(f\"Results saved to {output_file}\")\n",
    "\n",
    "# Run\n",
    "if __name__ == \"__main__\":\n",
    "    main()\n"
   ]
  },
  {
   "cell_type": "markdown",
   "metadata": {},
   "source": [
    "**Task 2**: Using clustering algorithms to detect duplicate records where entries are not\n",
    "exactly identical."
   ]
  },
  {
   "cell_type": "code",
   "execution_count": 8,
   "metadata": {},
   "outputs": [],
   "source": [
    "# write your code from here"
   ]
  },
  {
   "cell_type": "markdown",
   "metadata": {},
   "source": [
    "**Task 3**: Implementing classification models to validate data based on learned\n",
    "characteristics from labeled datasets."
   ]
  },
  {
   "cell_type": "code",
   "execution_count": 9,
   "metadata": {},
   "outputs": [],
   "source": [
    "# write your code from here\n"
   ]
  }
 ],
 "metadata": {
  "kernelspec": {
   "display_name": "Python 3",
   "language": "python",
   "name": "python3"
  },
  "language_info": {
   "codemirror_mode": {
    "name": "ipython",
    "version": 3
   },
   "file_extension": ".py",
   "mimetype": "text/x-python",
   "name": "python",
   "nbconvert_exporter": "python",
   "pygments_lexer": "ipython3",
   "version": "3.10.12"
  }
 },
 "nbformat": 4,
 "nbformat_minor": 2
}
