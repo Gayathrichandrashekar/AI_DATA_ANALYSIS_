{
 "cells": [
  {
   "cell_type": "markdown",
   "metadata": {},
   "source": [
    "## AI & Machine Learning for Data Quality\n",
    "**Description**: AI and machine learning can automate and enhance data quality checks by learning patterns and identifying anomalies more effectively than static rules.\n",
    "\n",
    "**Task 1**: Training a model to predict and flag unusual trend patterns in sales data that\n",
    "deviate from historical norms."
   ]
  },
  {
   "cell_type": "code",
   "execution_count": 4,
   "metadata": {},
   "outputs": [
    {
     "name": "stderr",
     "output_type": "stream",
     "text": [
      "INFO: Synthetic data generated with anomalies.\n",
      "INFO: Anomaly detection complete.\n",
      "ERROR: Visualization failed: Could not interpret value `age` for `x`. Value is a string, but `data` was not passed.\n",
      "INFO: Output saved to anomaly_detection_output.csv\n"
     ]
    },
    {
     "data": {
      "text/plain": [
       "<Figure size 1000x600 with 0 Axes>"
      ]
     },
     "metadata": {},
     "output_type": "display_data"
    }
   ],
   "source": [
    "# write your code from here\n",
    "import pandas as pd\n",
    "import numpy as np\n",
    "import logging\n",
    "from sklearn.ensemble import IsolationForest\n",
    "import matplotlib.pyplot as plt\n",
    "import seaborn as sns\n",
    "\n",
    "# Setup logging\n",
    "logging.basicConfig(level=logging.INFO, format='%(levelname)s: %(message)s')\n",
    "\n",
    "# Step 1: Generate synthetic data\n",
    "def generate_data(n=100):\n",
    "    try:\n",
    "        np.random.seed(42)\n",
    "        data = {\n",
    "            'age': np.random.normal(35, 10, n).tolist() + [120, -10],\n",
    "            'salary': np.random.normal(60000, 15000, n).tolist() + [5000000, -10000]\n",
    "        }\n",
    "        df = pd.DataFrame(data)\n",
    "        logging.info(\"Synthetic data generated with anomalies.\")\n",
    "        return df\n",
    "    except Exception as e:\n",
    "        logging.error(f\"Failed to generate data: {e}\")\n",
    "        return pd.DataFrame()\n",
    "\n",
    "# Step 2: Detect anomalies using Isolation Forest\n",
    "def detect_anomalies(df):\n",
    "    try:\n",
    "        iso_forest = IsolationForest(contamination=0.05, random_state=42)\n",
    "        df['anomaly'] = iso_forest.fit_predict(df[['age', 'salary']])\n",
    "        df['anomaly'] = df['anomaly'].map({1: 0, -1: 1})  # 1 if anomaly\n",
    "        logging.info(\"Anomaly detection complete.\")\n",
    "        return df\n",
    "    except Exception as e:\n",
    "        logging.error(f\"Anomaly detection failed: {e}\")\n",
    "        return df\n",
    "\n",
    "# Step 3: Visualize the anomalies\n",
    "def visualize_anomalies(df):\n",
    "    try:\n",
    "        plt.figure(figsize=(10, 6))\n",
    "        sns.scatterplot(x='age', y='salary', hue='anomaly', palette={0: 'blue', 1: 'red'})\n",
    "        plt.title(\"Anomaly Detection with Isolation Forest\")\n",
    "        plt.xlabel(\"Age\")\n",
    "        plt.ylabel(\"Salary\")\n",
    "        plt.legend(title=\"Anomaly\")\n",
    "        plt.tight_layout()\n",
    "        plt.show()\n",
    "        logging.info(\"Anomalies visualized.\")\n",
    "    except Exception as e:\n",
    "        logging.error(f\"Visualization failed: {e}\")\n",
    "\n",
    "# Main pipeline\n",
    "def main():\n",
    "    df = generate_data()\n",
    "    df = detect_anomalies(df)\n",
    "    visualize_anomalies(df)\n",
    "\n",
    "    # Save the results to CSV for review (optional)\n",
    "    df.to_csv(\"anomaly_detection_output.csv\", index=False)\n",
    "    logging.info(\"Output saved to anomaly_detection_output.csv\")\n",
    "\n",
    "# Execute\n",
    "if __name__ == \"__main__\":\n",
    "    main()\n"
   ]
  },
  {
   "cell_type": "markdown",
   "metadata": {},
   "source": [
    "**Task 2**: Using clustering algorithms to detect duplicate records where entries are not\n",
    "exactly identical."
   ]
  },
  {
   "cell_type": "code",
   "execution_count": 5,
   "metadata": {},
   "outputs": [],
   "source": [
    "# write your code from here"
   ]
  },
  {
   "cell_type": "markdown",
   "metadata": {},
   "source": [
    "**Task 3**: Implementing classification models to validate data based on learned\n",
    "characteristics from labeled datasets."
   ]
  },
  {
   "cell_type": "code",
   "execution_count": 6,
   "metadata": {},
   "outputs": [],
   "source": [
    "# write your code from here\n"
   ]
  }
 ],
 "metadata": {
  "kernelspec": {
   "display_name": "Python 3",
   "language": "python",
   "name": "python3"
  },
  "language_info": {
   "codemirror_mode": {
    "name": "ipython",
    "version": 3
   },
   "file_extension": ".py",
   "mimetype": "text/x-python",
   "name": "python",
   "nbconvert_exporter": "python",
   "pygments_lexer": "ipython3",
   "version": "3.10.12"
  }
 },
 "nbformat": 4,
 "nbformat_minor": 2
}
