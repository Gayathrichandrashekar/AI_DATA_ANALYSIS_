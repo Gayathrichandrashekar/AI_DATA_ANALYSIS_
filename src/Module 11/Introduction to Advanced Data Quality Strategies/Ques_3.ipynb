{
 "cells": [
  {
   "cell_type": "markdown",
   "metadata": {},
   "source": [
    "### Machine Learning for Data Quality Prediction\n",
    "**Description**: Use a machine learning model to predict data quality issues.\n",
    "\n",
    "**Steps**:\n",
    "1. Create a mock dataset with features and label (quality issue/label: 0: good, 1: issue).\n",
    "2. Train a machine learning model.\n",
    "3. Evaluate the model performance."
   ]
  },
  {
   "cell_type": "code",
   "execution_count": 2,
   "metadata": {},
   "outputs": [
    {
     "name": "stdout",
     "output_type": "stream",
     "text": [
      "=== Classification Report ===\n",
      "              precision    recall  f1-score   support\n",
      "\n",
      "           0       0.00      0.00      0.00         0\n",
      "           1       1.00      0.33      0.50         3\n",
      "\n",
      "    accuracy                           0.33         3\n",
      "   macro avg       0.50      0.17      0.25         3\n",
      "weighted avg       1.00      0.33      0.50         3\n",
      "\n",
      "\n",
      "=== Confusion Matrix ===\n",
      "[[0 0]\n",
      " [2 1]]\n"
     ]
    },
    {
     "name": "stderr",
     "output_type": "stream",
     "text": [
      "/home/vscode/.local/lib/python3.10/site-packages/sklearn/metrics/_classification.py:1565: UndefinedMetricWarning: Recall is ill-defined and being set to 0.0 in labels with no true samples. Use `zero_division` parameter to control this behavior.\n",
      "  _warn_prf(average, modifier, f\"{metric.capitalize()} is\", len(result))\n",
      "/home/vscode/.local/lib/python3.10/site-packages/sklearn/metrics/_classification.py:1565: UndefinedMetricWarning: Recall is ill-defined and being set to 0.0 in labels with no true samples. Use `zero_division` parameter to control this behavior.\n",
      "  _warn_prf(average, modifier, f\"{metric.capitalize()} is\", len(result))\n",
      "/home/vscode/.local/lib/python3.10/site-packages/sklearn/metrics/_classification.py:1565: UndefinedMetricWarning: Recall is ill-defined and being set to 0.0 in labels with no true samples. Use `zero_division` parameter to control this behavior.\n",
      "  _warn_prf(average, modifier, f\"{metric.capitalize()} is\", len(result))\n"
     ]
    },
    {
     "data": {
      "image/png": "[encoded data removed]",
      "text/plain": [
       "<Figure size 800x500 with 1 Axes>"
      ]
     },
     "metadata": {},
     "output_type": "display_data"
    }
   ],
   "source": [
    "import pandas as pd\n",
    "import numpy as np\n",
    "import matplotlib.pyplot as plt\n",
    "import seaborn as sns\n",
    "\n",
    "from sklearn.model_selection import train_test_split\n",
    "from sklearn.ensemble import RandomForestClassifier\n",
    "from sklearn.metrics import classification_report, confusion_matrix\n",
    "\n",
    "# Step 1: Generate Sample Data with Data Quality Issues\n",
    "def generate_data():\n",
    "    try:\n",
    "        df = pd.DataFrame({\n",
    "            'age': [25, np.nan, 22, 45, 38, -5, 999, 30, 44, 35],\n",
    "            'salary': [50000, 60000, np.nan, 70000, -1000, 90000, 120000, 45000, None, 80000],\n",
    "            'department': ['HR', 'IT', None, 'Finance', 'HR', 'IT', 'HR', 'Finance', 'HR', None]\n",
    "        })\n",
    "        return df\n",
    "    except Exception as e:\n",
    "        print(f\"Error generating data: {e}\")\n",
    "        return pd.DataFrame()\n",
    "\n",
    "# Step 2: Label Rows with Data Quality Issues\n",
    "def label_data(df):\n",
    "    def has_quality_issue(row):\n",
    "        if pd.isnull(row['age']) or pd.isnull(row['salary']) or pd.isnull(row['department']):\n",
    "            return 1\n",
    "        if row['age'] < 0 or row['age'] > 100:\n",
    "            return 1\n",
    "        if row['salary'] < 0:\n",
    "            return 1\n",
    "        return 0\n",
    "    df['quality_issue'] = df.apply(has_quality_issue, axis=1)\n",
    "    return df\n",
    "\n",
    "# Step 3: Feature Engineering\n",
    "def engineer_features(df):\n",
    "    df['age_null'] = df['age'].isnull().astype(int)\n",
    "    df['salary_null'] = df['salary'].isnull().astype(int)\n",
    "    df['dept_null'] = df['department'].isnull().astype(int)\n",
    "    df['age_out_of_range'] = ((df['age'] < 0) | (df['age'] > 100)).astype(int)\n",
    "    df['salary_negative'] = (df['salary'] < 0).astype(int)\n",
    "    return df\n",
    "\n",
    "# Step 4: Train and Evaluate a Model\n",
    "def train_model(df):\n",
    "    features = ['age_null', 'salary_null', 'dept_null', 'age_out_of_range', 'salary_negative']\n",
    "    target = 'quality_issue'\n",
    "\n",
    "    X = df[features]\n",
    "    y = df[target]\n",
    "\n",
    "    X_train, X_test, y_train, y_test = train_test_split(X, y, test_size=0.3, random_state=42)\n",
    "\n",
    "    model = RandomForestClassifier(random_state=42)\n",
    "    model.fit(X_train, y_train)\n",
    "    y_pred = model.predict(X_test)\n",
    "\n",
    "    print(\"=== Classification Report ===\")\n",
    "    print(classification_report(y_test, y_pred))\n",
    "    print(\"\\n=== Confusion Matrix ===\")\n",
    "    print(confusion_matrix(y_test, y_pred))\n",
    "\n",
    "    # Feature Importance Plot\n",
    "    importance = pd.Series(model.feature_importances_, index=features)\n",
    "    plt.figure(figsize=(8, 5))\n",
    "    sns.barplot(x=importance, y=importance.index)\n",
    "    plt.title(\"Feature Importance\")\n",
    "    plt.xlabel(\"Importance\")\n",
    "    plt.ylabel(\"Feature\")\n",
    "    plt.tight_layout()\n",
    "    plt.show()\n",
    "\n",
    "# Main Execution\n",
    "if __name__ == \"__main__\":\n",
    "    df = generate_data()\n",
    "    df = label_data(df)\n",
    "    df = engineer_features(df)\n",
    "    train_model(df)\n"
   ]
  }
 ],
 "metadata": {
  "kernelspec": {
   "display_name": "Python 3",
   "language": "python",
   "name": "python3"
  },
  "language_info": {
   "codemirror_mode": {
    "name": "ipython",
    "version": 3
   },
   "file_extension": ".py",
   "mimetype": "text/x-python",
   "name": "python",
   "nbconvert_exporter": "python",
   "pygments_lexer": "ipython3",
   "version": "3.10.12"
  }
 },
 "nbformat": 4,
 "nbformat_minor": 2
}
