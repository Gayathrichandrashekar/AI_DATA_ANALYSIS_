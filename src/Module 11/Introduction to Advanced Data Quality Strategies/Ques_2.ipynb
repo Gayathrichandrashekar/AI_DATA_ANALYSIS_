{
 "cells": [
  {
   "cell_type": "markdown",
   "metadata": {},
   "source": [
    "### Handling Unstructured Data with Python\n",
    "**Description**: Extract structured data from unstructured text using Python.\n",
    "\n",
    "**Steps**:\n",
    "1. Load and analyze an unstructured text document.\n",
    "2. Extract information using regex."
   ]
  },
  {
   "cell_type": "code",
   "execution_count": null,
   "metadata": {},
   "outputs": [
    {
     "name": "stderr",
     "output_type": "stream",
     "text": [
      "test_empty_input (__main__.TestDataExtraction) ... FAIL\n",
      "test_malformed_text (__main__.TestDataExtraction) ... FAIL\n",
      "test_missing_customer (__main__.TestDataExtraction) ... ok\n",
      "test_regular_data (__main__.TestDataExtraction) ... ok\n",
      "\n",
      "======================================================================\n",
      "FAIL: test_empty_input (__main__.TestDataExtraction)\n",
      "----------------------------------------------------------------------\n",
      "Traceback (most recent call last):\n",
      "  File \"/tmp/ipykernel_673/386450541.py\", line 79, in test_empty_input\n",
      "    self.assertEqual(df.shape[0], 0)  # No orders should be extracted\n",
      "AssertionError: 1 != 0\n",
      "\n",
      "======================================================================\n",
      "FAIL: test_malformed_text (__main__.TestDataExtraction)\n",
      "----------------------------------------------------------------------\n",
      "Traceback (most recent call last):\n",
      "  File \"/tmp/ipykernel_673/386450541.py\", line 87, in test_malformed_text\n",
      "    self.assertIsNone(df.iloc[0]['Email'])  # Email should be None due to malformed format\n",
      "AssertionError: 'broken_email_format' is not None\n",
      "\n",
      "----------------------------------------------------------------------\n",
      "Ran 4 tests in 0.008s\n",
      "\n",
      "FAILED (failures=2)\n"
     ]
    }
   ],
   "source": [
    "import re\n",
    "import pandas as pd\n",
    "\n",
    "# Unstructured text block\n",
    "unstructured_text = \"\"\"\n",
    "Order ID: 23984\n",
    "Customer: John Doe\n",
    "Email: john.doe@example.com\n",
    "Date: April 4, 2024\n",
    "Product: Wireless Mouse - Model WXM123\n",
    "Feedback: The mouse works great, but sometimes the scroll wheel gets stuck.\n",
    "Contact: +1-234-567-8900\n",
    "\n",
    "Order ID: 23985\n",
    "Customer: Alice Johnson\n",
    "Email: alice.j@example.com\n",
    "Date: April 5, 2024\n",
    "Product: Mechanical Keyboard - Model KBD456\n",
    "Feedback: Keys are very responsive. Love the RGB lights!\n",
    "Contact: +1-678-910-1122\n",
    "\"\"\"\n",
    "\n",
    "# Function to extract structured data from unstructured text\n",
    "def extract_structured_data(text_block):\n",
    "    pattern_dict = {\n",
    "        \"Order ID\": r\"Order ID:\\s*(\\d+)\",\n",
    "        \"Customer\": r\"Customer:\\s*(.+)\",\n",
    "        \"Email\": r\"Email:\\s*(.+)\",\n",
    "        \"Date\": r\"Date:\\s*(.+)\",\n",
    "        \"Product\": r\"Product:\\s*(.+)\",\n",
    "        \"Feedback\": r\"Feedback:\\s*(.+)\",\n",
    "        \"Contact\": r\"Contact:\\s*(.+)\",\n",
    "    }\n",
    "    \n",
    "    orders = text_block.strip().split(\"\\n\\n\")\n",
    "    extracted_data = []\n",
    "\n",
    "    for order in orders:\n",
    "        order_data = {}\n",
    "        for key, pattern in pattern_dict.items():\n",
    "            try:\n",
    "                match = re.search(pattern, order)\n",
    "                order_data[key] = match.group(1).strip() if match else None  # Handle missing fields\n",
    "            except Exception as e:\n",
    "                print(f\"Error extracting {key}: {e}\")\n",
    "                order_data[key] = None  # In case of error, set as None\n",
    "        extracted_data.append(order_data)\n",
    "\n",
    "    # Return as a pandas DataFrame for easier reading\n",
    "    return pd.DataFrame(extracted_data)\n",
    "\n",
    "# Extract and display structured data as DataFrame\n",
    "df_structured = extract_structured_data(unstructured_text)\n",
    "\n",
    "# Display the structured data\n",
    "df_structured\n",
    "\n"
   ]
  }
 ],
 "metadata": {
  "kernelspec": {
   "display_name": "Python 3",
   "language": "python",
   "name": "python3"
  },
  "language_info": {
   "codemirror_mode": {
    "name": "ipython",
    "version": 3
   },
   "file_extension": ".py",
   "mimetype": "text/x-python",
   "name": "python",
   "nbconvert_exporter": "python",
   "pygments_lexer": "ipython3",
   "version": "3.10.12"
  }
 },
 "nbformat": 4,
 "nbformat_minor": 2
}
