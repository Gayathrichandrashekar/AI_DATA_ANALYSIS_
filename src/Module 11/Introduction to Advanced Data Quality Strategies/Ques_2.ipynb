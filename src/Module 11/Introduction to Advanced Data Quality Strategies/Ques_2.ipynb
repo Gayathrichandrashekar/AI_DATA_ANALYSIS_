{
 "cells": [
  {
   "cell_type": "markdown",
   "metadata": {},
   "source": [
    "### Handling Unstructured Data with Python\n",
    "**Description**: Extract structured data from unstructured text using Python.\n",
    "\n",
    "**Steps**:\n",
    "1. Load and analyze an unstructured text document.\n",
    "2. Extract information using regex."
   ]
  },
  {
   "cell_type": "code",
   "execution_count": 2,
   "metadata": {},
   "outputs": [
    {
     "name": "stdout",
     "output_type": "stream",
     "text": [
      "     Customer                   Email        Date   Amount\n",
      "0    John Doe    john.doe@example.com  2024-06-01  1200.50\n",
      "1  Jane Smith  jane_smith123@mail.com  2024-06-05   980.00\n",
      "2     Mike R.      mike_r@example.org  2024-06-12  2450.75\n"
     ]
    }
   ],
   "source": [
    "import re\n",
    "import pandas as pd\n",
    "\n",
    "# Step 1: Sample unstructured text\n",
    "text = \"\"\"\n",
    "Customer: John Doe\n",
    "Email: john.doe@example.com\n",
    "Date: 2024-06-01\n",
    "Amount: $1,200.50\n",
    "\n",
    "Customer: Jane Smith\n",
    "Email: jane_smith123@mail.com\n",
    "Date: 2024-06-05\n",
    "Amount: $980.00\n",
    "\n",
    "Customer: Mike R.\n",
    "Email: mike_r@example.org\n",
    "Date: 2024-06-12\n",
    "Amount: $2,450.75\n",
    "\"\"\"\n",
    "\n",
    "# Step 2: Extract data using regular expressions\n",
    "pattern = r\"Customer:\\s*(.*?)\\nEmail:\\s*(.*?)\\nDate:\\s*(.*?)\\nAmount:\\s*\\$([\\d,]+\\.\\d{2})\"\n",
    "\n",
    "matches = re.findall(pattern, text)\n",
    "\n",
    "# Step 3: Structure it into a DataFrame\n",
    "df = pd.DataFrame(matches, columns=[\"Customer\", \"Email\", \"Date\", \"Amount\"])\n",
    "\n",
    "# Step 4: Convert amount to float\n",
    "df['Amount'] = df['Amount'].str.replace(',', '').astype(float)\n",
    "\n",
    "# Step 5: Display structured data\n",
    "print(df)\n"
   ]
  }
 ],
 "metadata": {
  "kernelspec": {
   "display_name": "Python 3",
   "language": "python",
   "name": "python3"
  },
  "language_info": {
   "codemirror_mode": {
    "name": "ipython",
    "version": 3
   },
   "file_extension": ".py",
   "mimetype": "text/x-python",
   "name": "python",
   "nbconvert_exporter": "python",
   "pygments_lexer": "ipython3",
   "version": "3.10.12"
  }
 },
 "nbformat": 4,
 "nbformat_minor": 2
}
