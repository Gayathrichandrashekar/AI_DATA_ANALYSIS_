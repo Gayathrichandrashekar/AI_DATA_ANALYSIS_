{
 "cells": [
  {
   "cell_type": "markdown",
   "metadata": {},
   "source": [
    "### Handling Unstructured Data with Python\n",
    "**Description**: Extract structured data from unstructured text using Python.\n",
    "\n",
    "**Steps**:\n",
    "1. Load and analyze an unstructured text document.\n",
    "2. Extract information using regex."
   ]
  },
  {
   "cell_type": "code",
   "execution_count": 4,
   "metadata": {},
   "outputs": [
    {
     "name": "stdout",
     "output_type": "stream",
     "text": [
      "Structured Data:\n",
      "  Order ID       Customer                 Email           Date  \\\n",
      "0    23984       John Doe  john.doe@example.com  April 4, 2024   \n",
      "1    23985  Alice Johnson   alice.j@example.com  April 5, 2024   \n",
      "\n",
      "                              Product  \\\n",
      "0       Wireless Mouse - Model WXM123   \n",
      "1  Mechanical Keyboard - Model KBD456   \n",
      "\n",
      "                                            Feedback          Contact  \n",
      "0  The mouse works great, but sometimes the scrol...  +1-234-567-8900  \n",
      "1     Keys are very responsive. Love the RGB lights!  +1-678-910-1122  \n"
     ]
    }
   ],
   "source": [
    "# Ques_2.ipynb - Handling Unstructured Data with Python (No spaCy)\n",
    "\n",
    "import re\n",
    "import pandas as pd\n",
    "\n",
    "# --------- Unstructured text block ---------\n",
    "unstructured_text = \"\"\"\n",
    "Order ID: 23984\n",
    "Customer: John Doe\n",
    "Email: john.doe@example.com\n",
    "Date: April 4, 2024\n",
    "Product: Wireless Mouse - Model WXM123\n",
    "Feedback: The mouse works great, but sometimes the scroll wheel gets stuck.\n",
    "Contact: +1-234-567-8900\n",
    "\n",
    "Order ID: 23985\n",
    "Customer: Alice Johnson\n",
    "Email: alice.j@example.com\n",
    "Date: April 5, 2024\n",
    "Product: Mechanical Keyboard - Model KBD456\n",
    "Feedback: Keys are very responsive. Love the RGB lights!\n",
    "Contact: +1-678-910-1122\n",
    "\"\"\"\n",
    "\n",
    "# --------- Function to extract structured data ---------\n",
    "def extract_structured_data(text_block):\n",
    "    pattern_dict = {\n",
    "        \"Order ID\": r\"Order ID:\\s*(\\d+)\",\n",
    "        \"Customer\": r\"Customer:\\s*(.+)\",\n",
    "        \"Email\": r\"Email:\\s*(.+)\",\n",
    "        \"Date\": r\"Date:\\s*(.+)\",\n",
    "        \"Product\": r\"Product:\\s*(.+)\",\n",
    "        \"Feedback\": r\"Feedback:\\s*(.+)\",\n",
    "        \"Contact\": r\"Contact:\\s*(.+)\",\n",
    "    }\n",
    "    \n",
    "    orders = text_block.strip().split(\"\\n\\n\")\n",
    "    extracted_data = []\n",
    "\n",
    "    for order in orders:\n",
    "        order_data = {}\n",
    "        for key, pattern in pattern_dict.items():\n",
    "            match = re.search(pattern, order)\n",
    "            order_data[key] = match.group(1).strip() if match else None\n",
    "        extracted_data.append(order_data)\n",
    "\n",
    "    return pd.DataFrame(extracted_data)\n",
    "\n",
    "# --------- Extract and display structured DataFrame ---------\n",
    "df_structured = extract_structured_data(unstructured_text)\n",
    "print(\"Structured Data:\")\n",
    "print(df_structured)\n"
   ]
  }
 ],
 "metadata": {
  "kernelspec": {
   "display_name": "Python 3",
   "language": "python",
   "name": "python3"
  },
  "language_info": {
   "codemirror_mode": {
    "name": "ipython",
    "version": 3
   },
   "file_extension": ".py",
   "mimetype": "text/x-python",
   "name": "python",
   "nbconvert_exporter": "python",
   "pygments_lexer": "ipython3",
   "version": "3.10.12"
  }
 },
 "nbformat": 4,
 "nbformat_minor": 2
}
