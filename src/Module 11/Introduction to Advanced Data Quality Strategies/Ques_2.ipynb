{
 "cells": [
  {
   "cell_type": "markdown",
   "metadata": {},
   "source": [
    "### Handling Unstructured Data with Python\n",
    "**Description**: Extract structured data from unstructured text using Python.\n",
    "\n",
    "**Steps**:\n",
    "1. Load and analyze an unstructured text document.\n",
    "2. Extract information using regex."
   ]
  },
  {
   "cell_type": "code",
   "execution_count": 7,
   "metadata": {},
   "outputs": [
    {
     "name": "stdout",
     "output_type": "stream",
     "text": [
      "Test 1 - Correct number of records: Pass\n",
      "Test 2 - All emails valid: Pass\n",
      "Test 3 - All contacts valid: Pass\n",
      "Test 4 - All orders have IDs: Pass\n"
     ]
    }
   ],
   "source": [
    "import re\n",
    "import pandas as pd\n",
    "\n",
    "# Sample unstructured text\n",
    "unstructured_text = \"\"\"\n",
    "Order ID: 23984\n",
    "Customer: John Doe\n",
    "Email: john.doe@example.com\n",
    "Date: April 4, 2024\n",
    "Product: Wireless Mouse - Model WXM123\n",
    "Feedback: The mouse works great, but sometimes the scroll wheel gets stuck.\n",
    "Contact: +1-234-567-8900\n",
    "\n",
    "Order ID: 23985\n",
    "Customer: Alice Johnson\n",
    "Email: alice.j@example.com\n",
    "Date: April 5, 2024\n",
    "Product: Mechanical Keyboard - Model KBD456\n",
    "Feedback: Keys are very responsive. Love the RGB lights!\n",
    "Contact: +1-678-910-1122\n",
    "\"\"\"\n",
    "\n",
    "# Function to validate extracted fields\n",
    "def validate_field(field_name, value):\n",
    "    if field_name == \"Email\":\n",
    "        return re.match(r\"[^@]+@[^@]+\\.[^@]+\", value) is not None\n",
    "    if field_name == \"Contact\":\n",
    "        return re.match(r\"\\+1-\\d{3}-\\d{3}-\\d{4}\", value) is not None\n",
    "    return value is not None and value.strip() != \"\"\n",
    "\n",
    "# Main function to extract structured data\n",
    "def extract_structured_data(text_block):\n",
    "    pattern_dict = {\n",
    "        \"Order ID\": r\"Order ID:\\s*(\\d+)\",\n",
    "        \"Customer\": r\"Customer:\\s*(.+)\",\n",
    "        \"Email\": r\"Email:\\s*(.+)\",\n",
    "        \"Date\": r\"Date:\\s*(.+)\",\n",
    "        \"Product\": r\"Product:\\s*(.+)\",\n",
    "        \"Feedback\": r\"Feedback:\\s*(.+)\",\n",
    "        \"Contact\": r\"Contact:\\s*(.+)\",\n",
    "    }\n",
    "    \n",
    "    orders = text_block.strip().split(\"\\n\\n\")\n",
    "    extracted_data = []\n",
    "\n",
    "    for order in orders:\n",
    "        order_data = {}\n",
    "        for field, pattern in pattern_dict.items():\n",
    "            try:\n",
    "                match = re.search(pattern, order)\n",
    "                value = match.group(1).strip() if match else None\n",
    "                # Validate the field\n",
    "                if not validate_field(field, value):\n",
    "                    value = None\n",
    "                order_data[field] = value\n",
    "            except Exception as e:\n",
    "                order_data[field] = None\n",
    "        extracted_data.append(order_data)\n",
    "\n",
    "    return pd.DataFrame(extracted_data)\n",
    "\n",
    "# Run the function and display the result\n",
    "df = extract_structured_data(unstructured_text)\n",
    "df\n",
    "\n",
    "\n",
    "\n",
    "# Mini test suite to validate behavior\n",
    "def run_tests():\n",
    "    test1 = df.shape[0] == 2\n",
    "    test2 = df[\"Email\"].notnull().all()\n",
    "    test3 = df[\"Contact\"].str.match(r\"\\+1-\\d{3}-\\d{3}-\\d{4}\").all()\n",
    "    test4 = df[\"Order ID\"].notnull().all()\n",
    "    \n",
    "    print(\"Test 1 - Correct number of records:\", \"Pass\" if test1 else \"Fail\")\n",
    "    print(\"Test 2 - All emails valid:\", \"Pass\" if test2 else \"Fail\")\n",
    "    print(\"Test 3 - All contacts valid:\", \"Pass\" if test3 else \"Fail\")\n",
    "    print(\"Test 4 - All orders have IDs:\", \"Pass\" if test4 else \"Fail\")\n",
    "\n",
    "run_tests()\n"
   ]
  }
 ],
 "metadata": {
  "kernelspec": {
   "display_name": "Python 3",
   "language": "python",
   "name": "python3"
  },
  "language_info": {
   "codemirror_mode": {
    "name": "ipython",
    "version": 3
   },
   "file_extension": ".py",
   "mimetype": "text/x-python",
   "name": "python",
   "nbconvert_exporter": "python",
   "pygments_lexer": "ipython3",
   "version": "3.10.12"
  }
 },
 "nbformat": 4,
 "nbformat_minor": 2
}
